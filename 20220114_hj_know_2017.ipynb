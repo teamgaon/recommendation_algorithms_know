{
  "nbformat": 4,
  "nbformat_minor": 0,
  "metadata": {
    "colab": {
      "name": "20220114_hj_know_2017.ipynb",
      "provenance": [],
      "mount_file_id": "1QrlmtDXuhA7AB-MLvvqWojmP3feF_IG1",
      "authorship_tag": "ABX9TyMy0pJp4rI580U2v9nFmQ0b",
      "include_colab_link": true
    },
    "kernelspec": {
      "name": "python3",
      "display_name": "Python 3"
    },
    "language_info": {
      "name": "python"
    }
  },
  "cells": [
    {
      "cell_type": "markdown",
      "metadata": {
        "id": "view-in-github",
        "colab_type": "text"
      },
      "source": [
        "<a href=\"https://colab.research.google.com/github/teamgaon/recommendation_algorithms_know/blob/main/20220114_hj_know_2017.ipynb\" target=\"_parent\"><img src=\"https://colab.research.google.com/assets/colab-badge.svg\" alt=\"Open In Colab\"/></a>"
      ]
    },
    {
      "cell_type": "code",
      "source": [
        "pip install optuna"
      ],
      "metadata": {
        "colab": {
          "base_uri": "https://localhost:8080/"
        },
        "id": "I5xoC1NkXKMn",
        "outputId": "2feb9943-cc64-44d8-9cfc-901493a5f5fe"
      },
      "execution_count": null,
      "outputs": [
        {
          "output_type": "stream",
          "name": "stdout",
          "text": [
            "Collecting optuna\n",
            "  Downloading optuna-2.10.0-py3-none-any.whl (308 kB)\n",
            "\u001b[?25l\r\u001b[K     |█                               | 10 kB 24.6 MB/s eta 0:00:01\r\u001b[K     |██▏                             | 20 kB 30.9 MB/s eta 0:00:01\r\u001b[K     |███▏                            | 30 kB 34.9 MB/s eta 0:00:01\r\u001b[K     |████▎                           | 40 kB 33.3 MB/s eta 0:00:01\r\u001b[K     |█████▎                          | 51 kB 26.7 MB/s eta 0:00:01\r\u001b[K     |██████▍                         | 61 kB 22.5 MB/s eta 0:00:01\r\u001b[K     |███████▍                        | 71 kB 20.5 MB/s eta 0:00:01\r\u001b[K     |████████▌                       | 81 kB 22.2 MB/s eta 0:00:01\r\u001b[K     |█████████▋                      | 92 kB 22.1 MB/s eta 0:00:01\r\u001b[K     |██████████▋                     | 102 kB 20.6 MB/s eta 0:00:01\r\u001b[K     |███████████▊                    | 112 kB 20.6 MB/s eta 0:00:01\r\u001b[K     |████████████▊                   | 122 kB 20.6 MB/s eta 0:00:01\r\u001b[K     |█████████████▉                  | 133 kB 20.6 MB/s eta 0:00:01\r\u001b[K     |██████████████▉                 | 143 kB 20.6 MB/s eta 0:00:01\r\u001b[K     |████████████████                | 153 kB 20.6 MB/s eta 0:00:01\r\u001b[K     |█████████████████               | 163 kB 20.6 MB/s eta 0:00:01\r\u001b[K     |██████████████████              | 174 kB 20.6 MB/s eta 0:00:01\r\u001b[K     |███████████████████▏            | 184 kB 20.6 MB/s eta 0:00:01\r\u001b[K     |████████████████████▏           | 194 kB 20.6 MB/s eta 0:00:01\r\u001b[K     |█████████████████████▎          | 204 kB 20.6 MB/s eta 0:00:01\r\u001b[K     |██████████████████████▎         | 215 kB 20.6 MB/s eta 0:00:01\r\u001b[K     |███████████████████████▍        | 225 kB 20.6 MB/s eta 0:00:01\r\u001b[K     |████████████████████████▌       | 235 kB 20.6 MB/s eta 0:00:01\r\u001b[K     |█████████████████████████▌      | 245 kB 20.6 MB/s eta 0:00:01\r\u001b[K     |██████████████████████████▋     | 256 kB 20.6 MB/s eta 0:00:01\r\u001b[K     |███████████████████████████▋    | 266 kB 20.6 MB/s eta 0:00:01\r\u001b[K     |████████████████████████████▊   | 276 kB 20.6 MB/s eta 0:00:01\r\u001b[K     |█████████████████████████████▊  | 286 kB 20.6 MB/s eta 0:00:01\r\u001b[K     |██████████████████████████████▉ | 296 kB 20.6 MB/s eta 0:00:01\r\u001b[K     |████████████████████████████████| 307 kB 20.6 MB/s eta 0:00:01\r\u001b[K     |████████████████████████████████| 308 kB 20.6 MB/s \n",
            "\u001b[?25hRequirement already satisfied: numpy in /usr/local/lib/python3.7/dist-packages (from optuna) (1.19.5)\n",
            "Requirement already satisfied: sqlalchemy>=1.1.0 in /usr/local/lib/python3.7/dist-packages (from optuna) (1.4.29)\n",
            "Collecting alembic\n",
            "  Downloading alembic-1.7.5-py3-none-any.whl (209 kB)\n",
            "\u001b[K     |████████████████████████████████| 209 kB 53.2 MB/s \n",
            "\u001b[?25hCollecting cmaes>=0.8.2\n",
            "  Downloading cmaes-0.8.2-py3-none-any.whl (15 kB)\n",
            "Requirement already satisfied: tqdm in /usr/local/lib/python3.7/dist-packages (from optuna) (4.62.3)\n",
            "Collecting colorlog\n",
            "  Downloading colorlog-6.6.0-py2.py3-none-any.whl (11 kB)\n",
            "Collecting cliff\n",
            "  Downloading cliff-3.10.0-py3-none-any.whl (80 kB)\n",
            "\u001b[K     |████████████████████████████████| 80 kB 9.3 MB/s \n",
            "\u001b[?25hRequirement already satisfied: PyYAML in /usr/local/lib/python3.7/dist-packages (from optuna) (3.13)\n",
            "Requirement already satisfied: scipy!=1.4.0 in /usr/local/lib/python3.7/dist-packages (from optuna) (1.4.1)\n",
            "Requirement already satisfied: packaging>=20.0 in /usr/local/lib/python3.7/dist-packages (from optuna) (21.3)\n",
            "Requirement already satisfied: pyparsing!=3.0.5,>=2.0.2 in /usr/local/lib/python3.7/dist-packages (from packaging>=20.0->optuna) (3.0.6)\n",
            "Requirement already satisfied: importlib-metadata in /usr/local/lib/python3.7/dist-packages (from sqlalchemy>=1.1.0->optuna) (4.10.0)\n",
            "Requirement already satisfied: greenlet!=0.4.17 in /usr/local/lib/python3.7/dist-packages (from sqlalchemy>=1.1.0->optuna) (1.1.2)\n",
            "Collecting Mako\n",
            "  Downloading Mako-1.1.6-py2.py3-none-any.whl (75 kB)\n",
            "\u001b[K     |████████████████████████████████| 75 kB 4.8 MB/s \n",
            "\u001b[?25hRequirement already satisfied: importlib-resources in /usr/local/lib/python3.7/dist-packages (from alembic->optuna) (5.4.0)\n",
            "Collecting autopage>=0.4.0\n",
            "  Downloading autopage-0.4.0-py3-none-any.whl (20 kB)\n",
            "Collecting pbr!=2.1.0,>=2.0.0\n",
            "  Downloading pbr-5.8.0-py2.py3-none-any.whl (112 kB)\n",
            "\u001b[K     |████████████████████████████████| 112 kB 55.4 MB/s \n",
            "\u001b[?25hCollecting cmd2>=1.0.0\n",
            "  Downloading cmd2-2.3.3-py3-none-any.whl (149 kB)\n",
            "\u001b[K     |████████████████████████████████| 149 kB 43.6 MB/s \n",
            "\u001b[?25hCollecting stevedore>=2.0.1\n",
            "  Downloading stevedore-3.5.0-py3-none-any.whl (49 kB)\n",
            "\u001b[K     |████████████████████████████████| 49 kB 6.6 MB/s \n",
            "\u001b[?25hRequirement already satisfied: PrettyTable>=0.7.2 in /usr/local/lib/python3.7/dist-packages (from cliff->optuna) (3.0.0)\n",
            "Requirement already satisfied: typing-extensions in /usr/local/lib/python3.7/dist-packages (from cmd2>=1.0.0->cliff->optuna) (3.10.0.2)\n",
            "Requirement already satisfied: attrs>=16.3.0 in /usr/local/lib/python3.7/dist-packages (from cmd2>=1.0.0->cliff->optuna) (21.4.0)\n",
            "Requirement already satisfied: wcwidth>=0.1.7 in /usr/local/lib/python3.7/dist-packages (from cmd2>=1.0.0->cliff->optuna) (0.2.5)\n",
            "Collecting pyperclip>=1.6\n",
            "  Downloading pyperclip-1.8.2.tar.gz (20 kB)\n",
            "Requirement already satisfied: zipp>=0.5 in /usr/local/lib/python3.7/dist-packages (from importlib-metadata->sqlalchemy>=1.1.0->optuna) (3.7.0)\n",
            "Requirement already satisfied: MarkupSafe>=0.9.2 in /usr/local/lib/python3.7/dist-packages (from Mako->alembic->optuna) (2.0.1)\n",
            "Building wheels for collected packages: pyperclip\n",
            "  Building wheel for pyperclip (setup.py) ... \u001b[?25l\u001b[?25hdone\n",
            "  Created wheel for pyperclip: filename=pyperclip-1.8.2-py3-none-any.whl size=11137 sha256=6488157d47afe9eb218c27a09af59fb69bd63a5329a41aefb47ecbd536ebe2eb\n",
            "  Stored in directory: /root/.cache/pip/wheels/9f/18/84/8f69f8b08169c7bae2dde6bd7daf0c19fca8c8e500ee620a28\n",
            "Successfully built pyperclip\n",
            "Installing collected packages: pyperclip, pbr, stevedore, Mako, cmd2, autopage, colorlog, cmaes, cliff, alembic, optuna\n",
            "Successfully installed Mako-1.1.6 alembic-1.7.5 autopage-0.4.0 cliff-3.10.0 cmaes-0.8.2 cmd2-2.3.3 colorlog-6.6.0 optuna-2.10.0 pbr-5.8.0 pyperclip-1.8.2 stevedore-3.5.0\n"
          ]
        }
      ]
    },
    {
      "cell_type": "code",
      "execution_count": null,
      "metadata": {
        "id": "9fRoKbSUPkbv"
      },
      "outputs": [],
      "source": [
        "import optuna\n",
        "import warnings\n",
        "import gc\n",
        "import os\n",
        "import random\n",
        "import sys\n",
        "\n",
        "import numpy as np\n",
        "import pandas as pd\n",
        "import seaborn as sns\n",
        "import matplotlib.pyplot as plt\n",
        "\n",
        "from sklearn.model_selection import train_test_split\n",
        "from datetime import datetime\n",
        "from glob import glob\n",
        "from tqdm import tqdm\n",
        "from IPython.display import Image"
      ]
    },
    {
      "cell_type": "code",
      "source": [
        "# 추후에 경고 값들을 출력하지 않도록 'ignore'상태로 만들어 준다.\n",
        "# 불필요한 경고창이 더 이상 출력 되지 않게 됩니다.\n",
        "warnings.filterwarnings(action = 'ignore')"
      ],
      "metadata": {
        "id": "tzb30ponPpXF"
      },
      "execution_count": null,
      "outputs": []
    },
    {
      "cell_type": "markdown",
      "source": [
        "### 연도별 데이터를 불러온다."
      ],
      "metadata": {
        "id": "PazZ4gd-QW2C"
      }
    },
    {
      "cell_type": "code",
      "source": [
        "train_2017 = []\n",
        "train_2018 = []\n",
        "train_2019 = []\n",
        "train_2020 = []\n",
        "\n",
        "for i, path in enumerate(sorted(glob('/content/drive/MyDrive/KNOW_data/train/*'))):\n",
        "  if i == 0 :\n",
        "    train_2017 = pd.read_csv(path)\n",
        "    pass\n",
        "  elif i == 1 :\n",
        "    train_2018 = pd.read_csv(path)\n",
        "    pass\n",
        "  elif i == 2 :\n",
        "    train_2019 = pd.read_csv(path)\n",
        "    pass\n",
        "  else : \n",
        "    train_2020 = pd.read_csv(path)\n",
        "    pass\n",
        "\n",
        "test_2017 = []\n",
        "test_2018 = []\n",
        "test_2019 = []\n",
        "test_2020 = []\n",
        "\n",
        "for i, path in enumerate(sorted(glob('/content/drive/MyDrive/KNOW_data/test/*'))):\n",
        "  if i == 0 :\n",
        "    test_2017 = pd.read_csv(path)\n",
        "    pass\n",
        "  elif i == 1 :\n",
        "    test_2018 = pd.read_csv(path)\n",
        "    pass\n",
        "  elif i == 2 :\n",
        "    test_2019 = pd.read_csv(path)\n",
        "    pass\n",
        "  else : \n",
        "    test_2020 = pd.read_csv(path)\n",
        "    pass"
      ],
      "metadata": {
        "id": "a8ezFCnCPsQl"
      },
      "execution_count": null,
      "outputs": []
    },
    {
      "cell_type": "markdown",
      "source": [
        "## 2017 데이터 확인"
      ],
      "metadata": {
        "id": "qcmoEvjUznIV"
      }
    },
    {
      "cell_type": "markdown",
      "source": [
        "##### 1.1 공백으로 구성된 결측치 값을 np.nan으로 변경"
      ],
      "metadata": {
        "id": "xN1uCZtT3AKn"
      }
    },
    {
      "cell_type": "code",
      "source": [
        "# 결측치 값 확인을 편하게 하기 위해서 모두 np.nan 값으로 바꿔준다.\n",
        "# train_2017에 있는 모든 columns들을 불러온다.\n",
        "\n",
        "for col in train_2017 :\n",
        "  train_2017[col].replace(' ',np.nan,inplace=True)\n",
        "  if col != 'knowcode' :\n",
        "    test_2017[col].replace(' ',np.nan,inplace=True)"
      ],
      "metadata": {
        "id": "l_k694CpSKk4",
        "outputId": "aca6beea-937e-4b9d-e146-5258fb38488e",
        "colab": {
          "base_uri": "https://localhost:8080/",
          "height": 593
        }
      },
      "execution_count": null,
      "outputs": [
        {
          "output_type": "error",
          "ename": "KeyError",
          "evalue": "ignored",
          "traceback": [
            "\u001b[0;31m---------------------------------------------------------------------------\u001b[0m",
            "\u001b[0;31mKeyError\u001b[0m                                  Traceback (most recent call last)",
            "\u001b[0;32m/usr/local/lib/python3.7/dist-packages/pandas/core/indexes/base.py\u001b[0m in \u001b[0;36mget_loc\u001b[0;34m(self, key, method, tolerance)\u001b[0m\n\u001b[1;32m   2897\u001b[0m             \u001b[0;32mtry\u001b[0m\u001b[0;34m:\u001b[0m\u001b[0;34m\u001b[0m\u001b[0;34m\u001b[0m\u001b[0m\n\u001b[0;32m-> 2898\u001b[0;31m                 \u001b[0;32mreturn\u001b[0m \u001b[0mself\u001b[0m\u001b[0;34m.\u001b[0m\u001b[0m_engine\u001b[0m\u001b[0;34m.\u001b[0m\u001b[0mget_loc\u001b[0m\u001b[0;34m(\u001b[0m\u001b[0mcasted_key\u001b[0m\u001b[0;34m)\u001b[0m\u001b[0;34m\u001b[0m\u001b[0;34m\u001b[0m\u001b[0m\n\u001b[0m\u001b[1;32m   2899\u001b[0m             \u001b[0;32mexcept\u001b[0m \u001b[0mKeyError\u001b[0m \u001b[0;32mas\u001b[0m \u001b[0merr\u001b[0m\u001b[0;34m:\u001b[0m\u001b[0;34m\u001b[0m\u001b[0;34m\u001b[0m\u001b[0m\n",
            "\u001b[0;32mpandas/_libs/index.pyx\u001b[0m in \u001b[0;36mpandas._libs.index.IndexEngine.get_loc\u001b[0;34m()\u001b[0m\n",
            "\u001b[0;32mpandas/_libs/index.pyx\u001b[0m in \u001b[0;36mpandas._libs.index.IndexEngine.get_loc\u001b[0;34m()\u001b[0m\n",
            "\u001b[0;32mpandas/_libs/hashtable_class_helper.pxi\u001b[0m in \u001b[0;36mpandas._libs.hashtable.PyObjectHashTable.get_item\u001b[0;34m()\u001b[0m\n",
            "\u001b[0;32mpandas/_libs/hashtable_class_helper.pxi\u001b[0m in \u001b[0;36mpandas._libs.hashtable.PyObjectHashTable.get_item\u001b[0;34m()\u001b[0m\n",
            "\u001b[0;31mKeyError\u001b[0m: 'aq1_1'",
            "\nThe above exception was the direct cause of the following exception:\n",
            "\u001b[0;31mKeyError\u001b[0m                                  Traceback (most recent call last)",
            "\u001b[0;32m<ipython-input-5-6ef3f4441499>\u001b[0m in \u001b[0;36m<module>\u001b[0;34m()\u001b[0m\n\u001b[1;32m      5\u001b[0m   \u001b[0mtrain_2017\u001b[0m\u001b[0;34m[\u001b[0m\u001b[0mcol\u001b[0m\u001b[0;34m]\u001b[0m\u001b[0;34m.\u001b[0m\u001b[0mreplace\u001b[0m\u001b[0;34m(\u001b[0m\u001b[0;34m' '\u001b[0m\u001b[0;34m,\u001b[0m\u001b[0mnp\u001b[0m\u001b[0;34m.\u001b[0m\u001b[0mnan\u001b[0m\u001b[0;34m,\u001b[0m\u001b[0minplace\u001b[0m\u001b[0;34m=\u001b[0m\u001b[0;32mTrue\u001b[0m\u001b[0;34m)\u001b[0m\u001b[0;34m\u001b[0m\u001b[0;34m\u001b[0m\u001b[0m\n\u001b[1;32m      6\u001b[0m   \u001b[0;32mif\u001b[0m \u001b[0mcol\u001b[0m \u001b[0;34m!=\u001b[0m \u001b[0;34m'knowcode'\u001b[0m \u001b[0;34m:\u001b[0m\u001b[0;34m\u001b[0m\u001b[0;34m\u001b[0m\u001b[0m\n\u001b[0;32m----> 7\u001b[0;31m     \u001b[0mtest_2017\u001b[0m\u001b[0;34m[\u001b[0m\u001b[0mcol\u001b[0m\u001b[0;34m]\u001b[0m\u001b[0;34m.\u001b[0m\u001b[0mreplace\u001b[0m\u001b[0;34m(\u001b[0m\u001b[0;34m' '\u001b[0m\u001b[0;34m,\u001b[0m\u001b[0mnp\u001b[0m\u001b[0;34m.\u001b[0m\u001b[0mnan\u001b[0m\u001b[0;34m,\u001b[0m\u001b[0minplace\u001b[0m\u001b[0;34m=\u001b[0m\u001b[0;32mTrue\u001b[0m\u001b[0;34m)\u001b[0m\u001b[0;34m\u001b[0m\u001b[0;34m\u001b[0m\u001b[0m\n\u001b[0m",
            "\u001b[0;32m/usr/local/lib/python3.7/dist-packages/pandas/core/frame.py\u001b[0m in \u001b[0;36m__getitem__\u001b[0;34m(self, key)\u001b[0m\n\u001b[1;32m   2904\u001b[0m             \u001b[0;32mif\u001b[0m \u001b[0mself\u001b[0m\u001b[0;34m.\u001b[0m\u001b[0mcolumns\u001b[0m\u001b[0;34m.\u001b[0m\u001b[0mnlevels\u001b[0m \u001b[0;34m>\u001b[0m \u001b[0;36m1\u001b[0m\u001b[0;34m:\u001b[0m\u001b[0;34m\u001b[0m\u001b[0;34m\u001b[0m\u001b[0m\n\u001b[1;32m   2905\u001b[0m                 \u001b[0;32mreturn\u001b[0m \u001b[0mself\u001b[0m\u001b[0;34m.\u001b[0m\u001b[0m_getitem_multilevel\u001b[0m\u001b[0;34m(\u001b[0m\u001b[0mkey\u001b[0m\u001b[0;34m)\u001b[0m\u001b[0;34m\u001b[0m\u001b[0;34m\u001b[0m\u001b[0m\n\u001b[0;32m-> 2906\u001b[0;31m             \u001b[0mindexer\u001b[0m \u001b[0;34m=\u001b[0m \u001b[0mself\u001b[0m\u001b[0;34m.\u001b[0m\u001b[0mcolumns\u001b[0m\u001b[0;34m.\u001b[0m\u001b[0mget_loc\u001b[0m\u001b[0;34m(\u001b[0m\u001b[0mkey\u001b[0m\u001b[0;34m)\u001b[0m\u001b[0;34m\u001b[0m\u001b[0;34m\u001b[0m\u001b[0m\n\u001b[0m\u001b[1;32m   2907\u001b[0m             \u001b[0;32mif\u001b[0m \u001b[0mis_integer\u001b[0m\u001b[0;34m(\u001b[0m\u001b[0mindexer\u001b[0m\u001b[0;34m)\u001b[0m\u001b[0;34m:\u001b[0m\u001b[0;34m\u001b[0m\u001b[0;34m\u001b[0m\u001b[0m\n\u001b[1;32m   2908\u001b[0m                 \u001b[0mindexer\u001b[0m \u001b[0;34m=\u001b[0m \u001b[0;34m[\u001b[0m\u001b[0mindexer\u001b[0m\u001b[0;34m]\u001b[0m\u001b[0;34m\u001b[0m\u001b[0;34m\u001b[0m\u001b[0m\n",
            "\u001b[0;32m/usr/local/lib/python3.7/dist-packages/pandas/core/indexes/base.py\u001b[0m in \u001b[0;36mget_loc\u001b[0;34m(self, key, method, tolerance)\u001b[0m\n\u001b[1;32m   2898\u001b[0m                 \u001b[0;32mreturn\u001b[0m \u001b[0mself\u001b[0m\u001b[0;34m.\u001b[0m\u001b[0m_engine\u001b[0m\u001b[0;34m.\u001b[0m\u001b[0mget_loc\u001b[0m\u001b[0;34m(\u001b[0m\u001b[0mcasted_key\u001b[0m\u001b[0;34m)\u001b[0m\u001b[0;34m\u001b[0m\u001b[0;34m\u001b[0m\u001b[0m\n\u001b[1;32m   2899\u001b[0m             \u001b[0;32mexcept\u001b[0m \u001b[0mKeyError\u001b[0m \u001b[0;32mas\u001b[0m \u001b[0merr\u001b[0m\u001b[0;34m:\u001b[0m\u001b[0;34m\u001b[0m\u001b[0;34m\u001b[0m\u001b[0m\n\u001b[0;32m-> 2900\u001b[0;31m                 \u001b[0;32mraise\u001b[0m \u001b[0mKeyError\u001b[0m\u001b[0;34m(\u001b[0m\u001b[0mkey\u001b[0m\u001b[0;34m)\u001b[0m \u001b[0;32mfrom\u001b[0m \u001b[0merr\u001b[0m\u001b[0;34m\u001b[0m\u001b[0;34m\u001b[0m\u001b[0m\n\u001b[0m\u001b[1;32m   2901\u001b[0m \u001b[0;34m\u001b[0m\u001b[0m\n\u001b[1;32m   2902\u001b[0m         \u001b[0;32mif\u001b[0m \u001b[0mtolerance\u001b[0m \u001b[0;32mis\u001b[0m \u001b[0;32mnot\u001b[0m \u001b[0;32mNone\u001b[0m\u001b[0;34m:\u001b[0m\u001b[0;34m\u001b[0m\u001b[0;34m\u001b[0m\u001b[0m\n",
            "\u001b[0;31mKeyError\u001b[0m: 'aq1_1'"
          ]
        }
      ]
    },
    {
      "cell_type": "markdown",
      "source": [
        "##### 1.2 데이터 타입 분포도 확인"
      ],
      "metadata": {
        "id": "DjOzsLds3Eiq"
      }
    },
    {
      "cell_type": "code",
      "source": [
        "test_2017[test_2017.columns[1:]].dtypes.value_counts()"
      ],
      "metadata": {
        "id": "kRHwNM-Xz5sM"
      },
      "execution_count": null,
      "outputs": []
    },
    {
      "cell_type": "code",
      "source": [
        "test_2017.select_dtypes('float64')"
      ],
      "metadata": {
        "id": "0f-lir3e3Q63"
      },
      "execution_count": null,
      "outputs": []
    },
    {
      "cell_type": "markdown",
      "source": [
        "##### 1.3 학습 데이터와 테스트 데이터에서 결측치 값이 포함된 칼럼과 개수 확인"
      ],
      "metadata": {
        "id": "izrU6LBg4VMa"
      }
    },
    {
      "cell_type": "code",
      "source": [
        "for index, value, tindex, tvalue in zip(train_2017.isnull().sum().index, train_2017.isnull().sum(), test_2017.isnull().sum().index, test_2017.isnull().sum()):\n",
        "    print(f\"{index} : {value} / {tindex} : {tvalue} / {value + tvalue}\")"
      ],
      "metadata": {
        "id": "SD0ZTIX15B6B"
      },
      "execution_count": null,
      "outputs": []
    },
    {
      "cell_type": "markdown",
      "source": [
        "1.4 데이터 결측치 값이 포함된 결측치 값 처리"
      ],
      "metadata": {
        "id": "wYk6iD6T6kcv"
      }
    },
    {
      "cell_type": "code",
      "source": [
        "# 가번 문항에서 1번을 체크한 사람의 수\n",
        "train_2017[(train_2017['aq1_2'].isnull()) &  (train_2017['aq1_1'] == 1)].shape"
      ],
      "metadata": {
        "id": "v8Dh-T6B4RlP"
      },
      "execution_count": null,
      "outputs": []
    },
    {
      "cell_type": "code",
      "source": [
        "# 중요하지 않다라고 한 사람들에 대한 결측치 값을 0으로 바꿔준다.\n",
        "# aq1_1 에서부터 aq41_2 까지의 칼럼들을 뽑아 낸다.\n",
        "\n",
        "columns = train_2017.columns[1:-1][:82]\n",
        "\n",
        "# 앞의 결측치 값을 제거하면 뒤의 결측치 값은 제거하면 되기 때문에\n",
        "# 데이터의 인덱스를 2씩 키운다.\n",
        "for index in range(0,82,2):\n",
        "    col = columns[index]\n",
        "    \n",
        "    # before가 가번 문항에 해당한다. \n",
        "    # after는 나번 문항에 해당한다. \n",
        "    before = col\n",
        "    after = col[:-1] + str((int(col[-1])+1))\n",
        "    print(before, after)\n",
        "    \n",
        "    # 일단 before 자체도 결측치 값이면 안된다.\n",
        "    # 그리고 after 값이 결측치 값인 것을 확인한다.\n",
        "    # after 값이 결측치 값이라는 것은 가번 문항에서 1번 을 선택한 것이기 때문에 0으로 할당해 줘야 한다.\n",
        "    train_2017.loc[(train_2017[after].isnull()) & (train_2017[before].notnull()) & (train_2017[before] == (sorted(train_2017[before].unique()))[0]), after] = 0\n",
        "    test_2017.loc[(test_2017[after].isnull()) & (test_2017[before].notnull()) & (test_2017[before] == (sorted(test_2017[before].unique()))[0]), after] = 0"
      ],
      "metadata": {
        "id": "U2lds8yc7R-U"
      },
      "execution_count": null,
      "outputs": []
    },
    {
      "cell_type": "code",
      "source": [
        "# 결측치 확인\n",
        "train_nan_columns = []\n",
        "test_nan_columns = []\n",
        "\n",
        "for index, value, tindex, tvalue in zip(train_2017.isnull().sum().index, train_2017.isnull().sum(), test_2017.isnull().sum().index, test_2017.isnull().sum()):\n",
        "    print(f\"{index} : {value} / {tindex} : {tvalue} / {value + tvalue}\")\n",
        "    if value != 0 :\n",
        "        train_nan_columns.append(index)\n",
        "    if tvalue != 0:\n",
        "        test_nan_columns.append(tindex)"
      ],
      "metadata": {
        "id": "Cr9B6KjwCIDZ"
      },
      "execution_count": null,
      "outputs": []
    },
    {
      "cell_type": "markdown",
      "source": [
        "##### 1.6 aq11_2에 해당하는 결측치 처리 방법\n"
      ],
      "metadata": {
        "id": "eLfustYHEAJ3"
      }
    },
    {
      "cell_type": "code",
      "source": [
        "total_2017 = pd.concat([train_2017[(train_2017['aq11_2'].notnull()) & (train_2017['aq11_1'] == 3)],test_2017[(test_2017['aq11_2'].notnull()) & (test_2017['aq11_1'] == 3)]], axis = 0)"
      ],
      "metadata": {
        "id": "aZnioPFNEptC"
      },
      "execution_count": null,
      "outputs": []
    },
    {
      "cell_type": "code",
      "source": [
        "print(total_2017['aq11_2'].astype('int').describe())\n",
        "\n",
        "total_2017['aq11_2'].astype('int').plot.hist(bins = 7, title = \"aq11_2\")"
      ],
      "metadata": {
        "id": "xyzHsZ-dF0O7"
      },
      "execution_count": null,
      "outputs": []
    },
    {
      "cell_type": "code",
      "source": [
        "# 중앙 값으로 결측치 값을 처리해 준다.\n",
        "# 'train_2017.loc[train_2017['aq11_2'].isnull()] = 4'와 동일한 구문이다.\n",
        "train_2017.loc[train_2017['aq11_2'].isnull()] = total_2017['aq11_2'].astype('int').quantile(q = 0.5)\n",
        "\n",
        "# 'test_2017.loc[test_2017['aq11_2'].isnull()] = 4'와 동일한 구문이다.\n",
        "test_2017.loc[test_2017['aq11_2'].isnull()] = total_2017['aq11_2'].astype('int').quantile(q = 0.5)"
      ],
      "metadata": {
        "id": "SaS_a6RCICqg"
      },
      "execution_count": null,
      "outputs": []
    },
    {
      "cell_type": "markdown",
      "source": [
        "##### 1.7 aq14_2에 해당하는 결측치 처리 방법"
      ],
      "metadata": {
        "id": "LEXrbNXbJ_-w"
      }
    },
    {
      "cell_type": "code",
      "source": [
        "train_2017[(train_2017['aq14_2'].isnull())]['aq14_1']"
      ],
      "metadata": {
        "id": "o2mX3uiaJ_rm"
      },
      "execution_count": null,
      "outputs": []
    },
    {
      "cell_type": "code",
      "source": [
        "test_2017[(test_2017['aq14_2'].isnull())]['aq14_1']"
      ],
      "metadata": {
        "id": "VGsB0fXyKL-W"
      },
      "execution_count": null,
      "outputs": []
    },
    {
      "cell_type": "code",
      "source": [
        "# 가번 문항에서 3번을 선택한 사람의 중앙 값을 알기 위해서 전체 데이터로 합친다.\n",
        "total_2017 = pd.concat([train_2017[(train_2017['aq14_2'].notnull()) & (train_2017['aq14_1'] == 3)], test_2017[(test_2017['aq14_2'].notnull()) & (test_2017['aq14_1'] == 3)]], axis = 0)\n",
        "total_2017.shape"
      ],
      "metadata": {
        "id": "ko9_LEMtKxD7"
      },
      "execution_count": null,
      "outputs": []
    },
    {
      "cell_type": "code",
      "source": [
        "print(total_2017['aq14_2'].astype('int').describe())\n",
        "\n",
        "total_2017['aq14_2'].astype('int').plot.hist(bins = 7, title = \"aq14_2\")"
      ],
      "metadata": {
        "id": "Ao5sxKElLOim"
      },
      "execution_count": null,
      "outputs": []
    },
    {
      "cell_type": "code",
      "source": [
        "# 가번 문항에서 3번을 선택한 사람들을 나번 문항의 중앙 값을 통해서 처리해준다.\n",
        "\n",
        "train_2017.loc[(train_2017['aq14_2'].isnull()) & (train_2017['aq14_1'] == 3)] = total_2017['aq14_2'].astype('int').quantile(q = 0.5)\n",
        "test_2017.loc[(test_2017['aq14_2'].isnull()) & (test_2017['aq14_1'] == 3)] = total_2017['aq14_2'].astype('int').quantile(q = 0.5)"
      ],
      "metadata": {
        "id": "rhMIdFs4LQCa"
      },
      "execution_count": null,
      "outputs": []
    },
    {
      "cell_type": "code",
      "source": [
        "# 가번 문항에서 4번을 선택한 사람의 중앙 값을 알기 위해서 전체 데이터로 합친다.\n",
        "\n",
        "total_2017 = pd.concat([train_2017[(train_2017['aq14_2'].notnull()) & (train_2017['aq14_1'] == 4)], test_2017[(test_2017['aq14_2'].notnull()) & (test_2017['aq14_1'] == 4)]], axis = 0)\n",
        "total_2017.shape"
      ],
      "metadata": {
        "id": "-HLOM9WsPTRY"
      },
      "execution_count": null,
      "outputs": []
    },
    {
      "cell_type": "code",
      "source": [
        "print(total_2017['aq14_2'].astype('int').describe())\n",
        "total_2017['aq14_2'].astype('int').plot.hist(bins = 7, title = 'aq14_2')"
      ],
      "metadata": {
        "id": "JqTKBCCNPX8F"
      },
      "execution_count": null,
      "outputs": []
    },
    {
      "cell_type": "code",
      "source": [
        "# 가번 문항에서 4번을 선택한 사람들을 나번 문항의 중앙 값을 통해서 처리해준다.\n",
        "\n",
        "train_2017.loc[(train_2017['aq14_2'].isnull()) & (train_2017['aq14_1'] == 4)] = total_2017['aq14_2'].astype('int').quantile(q = 0.5)\n",
        "test_2017.loc[(test_2017['aq14_2'].isnull()) & (test_2017['aq14_1'] == 4)] = total_2017['aq14_2'].astype('int').quantile(q = 0.5)"
      ],
      "metadata": {
        "id": "IjmT6pAWPpu1"
      },
      "execution_count": null,
      "outputs": []
    },
    {
      "cell_type": "markdown",
      "source": [
        "##### 1.8 aq27_2에 해당하는 결측치 처리 방법"
      ],
      "metadata": {
        "id": "fpGd38xYXR9p"
      }
    },
    {
      "cell_type": "code",
      "source": [
        "# 가번 문항에서 3번을 선택한 사람을 우선적으로 처리한다.\n",
        "\n",
        "total_2017 = pd.concat([train_2017[(train_2017['aq27_2'].notnull()) & (train_2017['aq27_1'] == 3)], test_2017[(test_2017['aq27_2'].notnull()) & (test_2017['aq27_1'] == 3)]], axis = 0)\n",
        "\n",
        "print(total_2017['aq27_2'].astype('int').describe())\n",
        "\n",
        "total_2017['aq27_2'].astype('int').plot.hist(bins = 7, title = \"aq27_2\")\n",
        "\n",
        "train_2017.loc[(train_2017['aq27_2'].isnull()) & (train_2017['aq27_1'] == 3)] = total_2017['aq27_2'].astype('int').quantile(q = 0.5)\n",
        "test_2017.loc[(test_2017['aq27_2'].isnull()) & (test_2017['aq27_1'] == 3)] = total_2017['aq27_2'].astype('int').quantile(q = 0.5)"
      ],
      "metadata": {
        "id": "tXLQrSa_XbIK"
      },
      "execution_count": null,
      "outputs": []
    },
    {
      "cell_type": "code",
      "source": [
        "# 가번 문항에서 4번을 선택한 사람을 처리한다.\n",
        "\n",
        "total_2017 = pd.concat([train_2017[(train_2017['aq27_2'].notnull()) & (train_2017['aq27_1'] == 4)], test_2017[(test_2017['aq27_2'].notnull()) & (test_2017['aq27_1'] == 4)]], axis = 0)\n",
        "\n",
        "print(total_2017['aq27_2'].astype('int').describe())\n",
        "\n",
        "total_2017['aq27_2'].astype('int').plot.hist(bins = 7, title = \"aq27_2\")\n",
        "\n",
        "train_2017.loc[(train_2017['aq27_2'].isnull()) & (train_2017['aq27_1'] == 4)] = total_2017['aq27_2'].astype('int').quantile(q = 0.5)\n",
        "test_2017.loc[(test_2017['aq27_2'].isnull()) & (test_2017['aq27_1'] == 4)] = total_2017['aq27_2'].astype('int').quantile(q = 0.5)"
      ],
      "metadata": {
        "id": "p7LU0_NzXsvL"
      },
      "execution_count": null,
      "outputs": []
    },
    {
      "cell_type": "markdown",
      "source": [
        "##### 1.9 aq32_2에 해당하는 결측치 처리 방법"
      ],
      "metadata": {
        "id": "yE9_TcmkYN7_"
      }
    },
    {
      "cell_type": "code",
      "source": [
        "train_2017[(train_2017['aq32_2'].isnull())]['aq32_1']"
      ],
      "metadata": {
        "id": "OQJ64wLmX5Io"
      },
      "execution_count": null,
      "outputs": []
    },
    {
      "cell_type": "code",
      "source": [
        "test_2017.loc[(test_2017['aq32_1'] == 33), 'aq32_1'] = 3\n",
        "test_2017[(test_2017['aq32_2'].isnull())]['aq32_1']"
      ],
      "metadata": {
        "id": "tez8h46qYUQF"
      },
      "execution_count": null,
      "outputs": []
    },
    {
      "cell_type": "code",
      "source": [
        "# 가번 문항을 3으로 선택한 사람들에 대해 결측치 값을 처리한다.\n",
        "\n",
        "total_2017 = pd.concat([train_2017[(train_2017['aq32_2'].notnull()) & (train_2017['aq32_1'] == 3)], test_2017[(test_2017['aq32_2'].notnull()) & (test_2017['aq32_1'] == 3)]], axis = 0)\n",
        "\n",
        "print(total_2017['aq32_2'].astype('int').describe())\n",
        "\n",
        "total_2017['aq32_2'].astype('int').plot.hist(bins = 7, title = \"aq32_1\")\n",
        "\n",
        "train_2017.loc[(train_2017['aq32_2'].isnull()) & (train_2017['aq32_1'] == 3)] = total_2017['aq32_2'].astype('int').quantile(q = 0.5)\n",
        "test_2017.loc[(test_2017['aq32_2'].isnull()) & (test_2017['aq32_1'] == 3)] = total_2017['aq32_2'].astype('int').quantile(q = 0.5)"
      ],
      "metadata": {
        "id": "Szzj1F-4d3NC"
      },
      "execution_count": null,
      "outputs": []
    },
    {
      "cell_type": "markdown",
      "source": [
        "##### aq41_2에 해당하는 결측치 처리 방법"
      ],
      "metadata": {
        "id": "zRkDc3nyew12"
      }
    },
    {
      "cell_type": "code",
      "source": [
        "# 가번 문항을 3으로 선택한 사람들에 대한 결측치 값을 처리한다. \n",
        "\n",
        "total_2017 = pd.concat([train_2017[(train_2017['aq41_2'].notnull()) & (train_2017['aq41_1'] == 3)], test_2017[(test_2017['aq41_2'].notnull()) & (test_2017['aq41_1'] == 3)]], axis = 0)\n",
        "\n",
        "print(total_2017['aq41_2'].astype('int').describe())\n",
        "\n",
        "total_2017['aq41_2'].astype('int').plot.hist(bins = 7, title = \"aq41_2\")\n",
        "\n",
        "train_2017.loc[(train_2017['aq41_2'].isnull()) & (train_2017['aq41_1'] == 3)] = total_2017['aq41_2'].astype('int').quantile(q = 0.5)\n",
        "test_2017.loc[(test_2017['aq41_2'].isnull()) & (test_2017['aq41_1'] == 3)] = total_2017['aq41_2'].astype('int').quantile(q = 0.5)"
      ],
      "metadata": {
        "id": "mxuZHI3hewkV"
      },
      "execution_count": null,
      "outputs": []
    },
    {
      "cell_type": "code",
      "source": [
        "for index, value, tindex, tvalue in zip(train_2017.isnull().sum().index, train_2017.isnull().sum(), test_2017.isnull().sum().index, test_2017.isnull().sum()):\n",
        "    print(f\"{index} : {value} / {tindex} : {tvalue} / {value + tvalue}\")"
      ],
      "metadata": {
        "id": "M4_9-NCEeq17"
      },
      "execution_count": null,
      "outputs": []
    },
    {
      "cell_type": "markdown",
      "source": [
        "##### 1.11 bq4_1a ~ bq4_1c에 해당하는 결측치 처리 방법"
      ],
      "metadata": {
        "id": "nCDgSQu6e__U"
      }
    },
    {
      "cell_type": "code",
      "source": [
        "print(train_2017.loc[(train_2017['bq4'] == 2) & (train_2017['bq4_1a'].isnull())].shape)\n",
        "print(test_2017.loc[(test_2017['bq4'] == 2) & (test_2017['bq4_1a'].isnull())].shape)"
      ],
      "metadata": {
        "id": "tqkJzw8le7Kb"
      },
      "execution_count": null,
      "outputs": []
    },
    {
      "cell_type": "code",
      "source": [
        "train_2017.loc[(train_2017['bq4'] == 2) & (train_2017['bq4_1a'].isnull()), 'bq4_1a'] = '없음'\n",
        "test_2017.loc[(test_2017['bq4'] == 2) & (test_2017['bq4_1a'].isnull()), 'bq4_1a'] = '없음'"
      ],
      "metadata": {
        "id": "mJCgex-6fl4v"
      },
      "execution_count": null,
      "outputs": []
    },
    {
      "cell_type": "code",
      "source": [
        "# 정상적으로 결측치 값이 제거되었다.\n",
        "display(train_2017[(train_2017['bq4_1a'].isnull())])\n",
        "display(test_2017[(test_2017['bq4_1a'].isnull())])"
      ],
      "metadata": {
        "id": "3McwivXjgIsx"
      },
      "execution_count": null,
      "outputs": []
    },
    {
      "cell_type": "code",
      "source": [
        "# 4번 문항에서 2번을 선택한 사람이라면 나머지 요구되는 자격증 모두 '없음' 이다.\n",
        "\n",
        "train_2017.loc[(train_2017['bq4'] == 2) & (train_2017['bq4_1b'].isnull()), 'bq4_1b'] = '없음'\n",
        "train_2017.loc[(train_2017['bq4'] == 2) & (train_2017['bq4_1c'].isnull()), 'bq4_1c'] = '없음'\n",
        "\n",
        "test_2017.loc[(test_2017['bq4'] == 2) & (test_2017['bq4_1b'].isnull()), 'bq4_1b'] = '없음'\n",
        "test_2017.loc[(test_2017['bq4'] == 2) & (test_2017['bq4_1c'].isnull()), 'bq4_1c'] = '없음'"
      ],
      "metadata": {
        "id": "KmAIzaiWgSxo"
      },
      "execution_count": null,
      "outputs": []
    },
    {
      "cell_type": "markdown",
      "source": [
        "bq4_1a에 동일한 자격증을 갖고 있지만 bq4_1b에는 비어 있는 경우도 있다.  \n",
        "\"귀하의 업무를 수행하는데 요구되는 자격증\" 이기 때문에 같은 자격증을 갖고 있다는 것은 비슷한 업무를 할 확률이 높다.  \n",
        "따라서 bq4_1b에는 동일한 자격증을 기입해 준다."
      ],
      "metadata": {
        "id": "HAE9Giasg_XA"
      }
    },
    {
      "cell_type": "code",
      "source": [
        "for index in test_2017.loc[(test_2017['bq4_1b'].isnull())].index:\n",
        "    value = test_2017.iloc[index]['bq4_1a']\n",
        "#     col_index = np.where(test_2017.columns == 'bq4_1a')[0][0]\n",
        "    \n",
        "    if len(test_2017[(test_2017['bq4_1a'] == value) & (test_2017['bq4_1b'].notnull()) & (test_2017['bq4_1b'] != '없음') & (test_2017['bq4_1b'] != '없다')]) > 0:\n",
        "        test_2017.loc[index, 'bq4_1b'] = test_2017[(test_2017['bq4_1a'] == value) & (test_2017['bq4_1b'].notnull()) & (test_2017['bq4_1b'] != '없음') & (test_2017['bq4_1b'] != '없다')]['bq4_1b'].value_counts().index[0]"
      ],
      "metadata": {
        "id": "ZAG0WzLTg2ts"
      },
      "execution_count": null,
      "outputs": []
    },
    {
      "cell_type": "code",
      "source": [
        "# 위에 해당하는 사항이 없다면 '없음' 값으로 초기화 한다.\n",
        "train_2017.loc[(train_2017['bq4_1b'].isnull()), 'bq4_1b'] = '없음'\n",
        "test_2017.loc[(test_2017['bq4_1b'].isnull()), 'bq4_1b'] = '없음'"
      ],
      "metadata": {
        "id": "DV7S58vciVOE"
      },
      "execution_count": null,
      "outputs": []
    },
    {
      "cell_type": "code",
      "source": [
        "train_2017.loc[(train_2017['bq4_1c'].isnull()), 'bq4_1c'] = '없음'\n",
        "test_2017.loc[(test_2017['bq4_1c'].isnull()), 'bq4_1c'] = '없음'"
      ],
      "metadata": {
        "id": "BqWQnF8Rip-l"
      },
      "execution_count": null,
      "outputs": []
    },
    {
      "cell_type": "code",
      "source": [
        "for index, value, tindex, tvalue in zip(train_2017.isnull().sum().index, train_2017.isnull().sum(), test_2017.isnull().sum().index, test_2017.isnull().sum()):\n",
        "    print(f\"{index} : {value} / {tindex} : {tvalue} / {value + tvalue}\")"
      ],
      "metadata": {
        "id": "Ct1GzalAiyCr"
      },
      "execution_count": null,
      "outputs": []
    },
    {
      "cell_type": "code",
      "source": [
        "for col in test_2017 : \n",
        "  train_2017[col].replace('없다','없음',inplace = True)\n",
        "  train_2017[col].replace('없다','없음',inplace = True)"
      ],
      "metadata": {
        "id": "5YFizE-Si0y3"
      },
      "execution_count": null,
      "outputs": []
    },
    {
      "cell_type": "markdown",
      "source": [
        "##### 1.12 bq5_1 ~ bq5_2 해당하는 결측치 처리 방법"
      ],
      "metadata": {
        "id": "YmP8m3sJjycB"
      }
    },
    {
      "cell_type": "code",
      "source": [
        "print(\"학습 데이터 결측치 : \", train_2017[(train_2017['bq5'] == 2) & (train_2017['bq5_1'].isnull())].shape)\n",
        "print(\"테스트 데이터 결측치 : \", test_2017[(test_2017['bq5'] == 2) & (test_2017['bq5_1'].isnull())].shape)"
      ],
      "metadata": {
        "id": "4ksMBE5Rjxms"
      },
      "execution_count": null,
      "outputs": []
    },
    {
      "cell_type": "code",
      "source": [
        "print(\"학습 데이터 결측치 : \", train_2017[(train_2017['bq5'] == 2) & (train_2017['bq5_2'].isnull())].shape)\n",
        "print(\"테스트 데이터 결측치 : \", test_2017[(test_2017['bq5'] == 2) & (test_2017['bq5_2'].isnull())].shape)"
      ],
      "metadata": {
        "id": "O6ErNpK4kiNm"
      },
      "execution_count": null,
      "outputs": []
    },
    {
      "cell_type": "code",
      "source": [
        "# 5번 문항에서 2번을 선택한 사람들에 대해서 5-1에 대한 값을 0으로 처리함\n",
        "train_2017.loc[(train_2017['bq5'] == 2) & (train_2017['bq5_1'].isnull()),'bq5_1'] = 0\n",
        "test_2017.loc[(test_2017['bq5'] == 2) & (test_2017['bq5_1'].isnull()),'bq5_1'] = 0"
      ],
      "metadata": {
        "id": "tbIUY9FHkpI0"
      },
      "execution_count": null,
      "outputs": []
    },
    {
      "cell_type": "code",
      "source": [
        "# 5번 문항에서 2번을 선택한 사람들에 대해서 5-2에 대한 값을 '없음'으로 처리함\n",
        "train_2017.loc[(train_2017['bq5'] == 2) & (train_2017['bq5_2'].isnull()),'bq5_2'] = '없음'\n",
        "test_2017.loc[(test_2017['bq5'] == 2) & (test_2017['bq5_2'].isnull()),'bq5_2'] = '없음'"
      ],
      "metadata": {
        "id": "AwJsh5TYkukL"
      },
      "execution_count": null,
      "outputs": []
    },
    {
      "cell_type": "code",
      "source": [
        "# 학습 데이터와 테스트 데이터에서 한 개씩 결측치 값이 남는다.\n",
        "display(train_2017[train_2017['bq5_2'].isnull()])\n",
        "display(test_2017[test_2017['bq5_2'].isnull()])"
      ],
      "metadata": {
        "id": "hVmeOTXZkxtY"
      },
      "execution_count": null,
      "outputs": []
    },
    {
      "cell_type": "code",
      "source": [
        "# train과 test 모두 필요한 자격증 값이 '없음'이기 때문에 단순히 유추하기 어렵다.\n",
        "# 따라서, '없음'으로 전처리 해준다.\n",
        "train_2017.loc[train_2017['bq5_2'].isnull(), 'bq5_2'] = '없음'\n",
        "test_2017.loc[test_2017['bq5_2'].isnull(), 'bq5_2'] = '없음'"
      ],
      "metadata": {
        "id": "_nMvnlKMk1fA"
      },
      "execution_count": null,
      "outputs": []
    },
    {
      "cell_type": "markdown",
      "source": [
        "##### 1.13 bq12 해당하는 결측치 처리 방법"
      ],
      "metadata": {
        "id": "esqFzkhvlBNK"
      }
    },
    {
      "cell_type": "code",
      "source": [
        "# bq12_2 컬럼에 대한 결측치를 제거한다.\n",
        "\n",
        "for index in train_2017.loc[(train_2017['bq12_2'].isnull())].index:\n",
        "    # 학력 값을 저장함\n",
        "    LevelOfEducation = train_2017.iloc[index]['bq7']\n",
        "\n",
        "    # 학력 값에 대한 중앙값을 통해서 결측치를 제거한다.\n",
        "    train_2017.loc[index, 'bq12_2'] = train_2017[(train_2017['bq7'] == LevelOfEducation) & (train_2017['bq12_2'].notnull())]['bq12_2'].astype('int').quantile(q=0.5).astype('int').astype('str')"
      ],
      "metadata": {
        "id": "XFEe-p96k_eO"
      },
      "execution_count": null,
      "outputs": []
    },
    {
      "cell_type": "code",
      "source": [
        "train_2017[(train_2017['bq7'] == LevelOfEducation) & (train_2017['bq12_2'].notnull())]['bq12_2'].astype('int').quantile(q=0.5).astype('int')"
      ],
      "metadata": {
        "id": "beDGse-flZ-r"
      },
      "execution_count": null,
      "outputs": []
    },
    {
      "cell_type": "code",
      "source": [
        "# bq12_2 컬럼에 대한 결측치를 제거한다.\n",
        "\n",
        "for index in test_2017.loc[(test_2017['bq12_2'].isnull())].index:\n",
        "    # 학력 값을 저장함\n",
        "    LevelOfEducation = test_2017.iloc[index]['bq7']\n",
        "\n",
        "    # 학력 값에 대한 중앙값을 통해서 결측치를 제거한다.\n",
        "    test_2017.loc[index, 'bq12_2'] = test_2017[(test_2017['bq7'] == LevelOfEducation) & (test_2017['bq12_2'].notnull())]['bq12_2'].astype('int').quantile(q=0.5).astype('int').astype('str')"
      ],
      "metadata": {
        "id": "t83nLvUHlbuu"
      },
      "execution_count": null,
      "outputs": []
    },
    {
      "cell_type": "code",
      "source": [
        "# bq12_3 컬럼에 대한 결측치를 제거한다.\n",
        "\n",
        "for index in train_2017.loc[(train_2017['bq12_3'].isnull())].index:\n",
        "    # 학력 값을 저장함\n",
        "    LevelOfEducation = train_2017.iloc[index]['bq7']\n",
        "\n",
        "    # 학력 값에 대한 중앙값을 통해서 결측치를 제거한다.\n",
        "    train_2017.loc[index, 'bq12_3'] = train_2017[(train_2017['bq7'] == LevelOfEducation) & (train_2017['bq12_3'].notnull())]['bq12_3'].astype('int').quantile(q=0.5).astype('int').astype('str')\n",
        "    \n",
        "for index in test_2017.loc[(test_2017['bq12_3'].isnull())].index:\n",
        "    # 학력 값을 저장함\n",
        "    LevelOfEducation = test_2017.iloc[index]['bq7']\n",
        "\n",
        "    # 학력 값에 대한 중앙값을 통해서 결측치를 제거한다.\n",
        "    test_2017.loc[index, 'bq12_3'] = test_2017[(test_2017['bq7'] == LevelOfEducation) & (test_2017['bq12_3'].notnull())]['bq12_3'].astype('int').quantile(q=0.5).astype('int').astype('str')    "
      ],
      "metadata": {
        "id": "vPf3bxEomHQs"
      },
      "execution_count": null,
      "outputs": []
    },
    {
      "cell_type": "code",
      "source": [
        "# bq12_4 컬럼에 대한 결측치를 제거한다.\n",
        "\n",
        "for index in train_2017.loc[(train_2017['bq12_4'].isnull())].index:\n",
        "    # 학력 값을 저장함\n",
        "    LevelOfEducation = train_2017.iloc[index]['bq7']\n",
        "\n",
        "    # 학력 값에 대한 중앙값을 통해서 결측치를 제거한다.\n",
        "    train_2017.loc[index, 'bq12_4'] = train_2017[(train_2017['bq7'] == LevelOfEducation) & (train_2017['bq12_4'].notnull())]['bq12_4'].astype('int').quantile(q=0.5).astype('int').astype('str')\n",
        "\n",
        "for index in test_2017.loc[(test_2017['bq12_4'].isnull())].index:\n",
        "    # 학력 값을 저장함\n",
        "    LevelOfEducation = test_2017.iloc[index]['bq7']\n",
        "\n",
        "    # 학력 값에 대한 중앙값을 통해서 결측치를 제거한다.\n",
        "    test_2017.loc[index, 'bq12_4'] = test_2017[(train_2017['bq7'] == LevelOfEducation) & (test_2017['bq12_4'].notnull())]['bq12_4'].astype('int').quantile(q=0.5).astype('int').astype('str')"
      ],
      "metadata": {
        "id": "dPzNG2aWmlRK"
      },
      "execution_count": null,
      "outputs": []
    },
    {
      "cell_type": "markdown",
      "source": [
        "##### bq19_1 해당하는 결측치 처리 방법"
      ],
      "metadata": {
        "id": "eHsOl2rhoGsB"
      }
    },
    {
      "cell_type": "code",
      "source": [
        "train_2017.loc[train_2017['bq19_1'].isnull()] = '없음'\n",
        "test_2017.loc[test_2017['bq19_1'].isnull()] = '없음'"
      ],
      "metadata": {
        "id": "DHGoSLV-mnA7"
      },
      "execution_count": null,
      "outputs": []
    },
    {
      "cell_type": "code",
      "source": [
        "# 직전에 직업이 었는 사람인 것을 확인 했다.\n",
        "# 따라서 별도의 직업을 달리 부르는 명칭이 존재하지 않는다.\n",
        "print(test_2017[test_2017['bq30'].isnull()]['bq32'])\n",
        "test_2017.loc[test_2017['bq30'].isnull()] = '없음'"
      ],
      "metadata": {
        "id": "ujEu9xYQoLs1"
      },
      "execution_count": null,
      "outputs": []
    },
    {
      "cell_type": "markdown",
      "source": [
        "##### 1.15 bq31 해당하는 결측치 처리 방법"
      ],
      "metadata": {
        "id": "rQ5E5SM4qF4T"
      }
    },
    {
      "cell_type": "code",
      "source": [
        "for index, value, tindex, tvalue in zip(train_2017.isnull().sum().index, train_2017.isnull().sum(), test_2017.isnull().sum().index, test_2017.isnull().sum()):\n",
        "    print(f\"{index} : {value} / {tindex} : {tvalue} / {value + tvalue}\")"
      ],
      "metadata": {
        "id": "qSvt0TxNp0En"
      },
      "execution_count": null,
      "outputs": []
    },
    {
      "cell_type": "code",
      "source": [
        "for index in train_2017[(train_2017['bq31'].isnull())].index:\n",
        "    # 산업 유형\n",
        "    industry_type = train_2017.iloc[index]['bq1']\n",
        "    # 유사직업명\n",
        "    a_similar_job = train_2017.iloc[index]['bq30']\n",
        "    # 직전직업\n",
        "    before_job = train_2017.iloc[index]['bq32']\n",
        "    # 전직 가능직업\n",
        "    can_change_job = train_2017.iloc[index]['bq33']\n",
        "    \n",
        "\n",
        "    if len(train_2017[(train_2017['bq31'].notnull())&(train_2017['bq1'] == industry_type) & (train_2017['bq30'] == a_similar_job) & (train_2017['bq32'] == before_job) & (train_2017['bq33'] == can_change_job)]):\n",
        "        # 산업 유형 + 유사 직업명 + 직전 직업 + 전직 가능 직업\n",
        "        train_2017.loc[index, 'bq31'] = train_2017[(train_2017['bq31'].notnull())&(train_2017['bq1'] == industry_type) & (train_2017['bq30'] == a_similar_job) & (train_2017['bq32'] == before_job) & (train_2017['bq33'] == can_change_job)]['bq31'].value_counts().index[0]\n",
        "    elif len(train_2017[(train_2017['bq31'].notnull())&(train_2017['bq1'] == industry_type) & (train_2017['bq30'] == a_similar_job) & (train_2017['bq32'] == before_job)]):\n",
        "        # 산업 유형 + 유사 직업명 + 직전 직업\n",
        "        train_2017.loc[index, 'bq31'] = train_2017[(train_2017['bq31'].notnull())&(train_2017['bq1'] == industry_type) & (train_2017['bq30'] == a_similar_job) & (train_2017['bq32'] == before_job)]['bq31'].value_counts().index[0]\n",
        "    elif len(train_2017[(train_2017['bq31'].notnull())& (train_2017['bq30'] == a_similar_job) & (train_2017['bq32'] == before_job) & (train_2017['bq33'] == can_change_job)]):\n",
        "        #  유사 직업명 + 직전 직업 + 전직 가능 직업\n",
        "        train_2017.loc[index, 'bq31'] = train_2017[(train_2017['bq31'].notnull())& (train_2017['bq30'] == a_similar_job) & (train_2017['bq32'] == before_job) & (train_2017['bq33'] == can_change_job)]['bq31'].value_counts().index[0]\n",
        "    elif len(train_2017[(train_2017['bq31'].notnull())&(train_2017['bq1'] == industry_type) & (train_2017['bq30'] == a_similar_job)]):\n",
        "        # 산업 유형 + 유사 직업명\n",
        "        train_2017.loc[index, 'bq31'] = train_2017[(train_2017['bq31'].notnull())&(train_2017['bq1'] == industry_type) & (train_2017['bq30'] == a_similar_job)]['bq31'].value_counts().index[0]\n",
        "    elif len(train_2017[(train_2017['bq31'].notnull())&(train_2017['bq1'] == industry_type) & (train_2017['bq30'] == a_similar_job) & (train_2017['bq32'] == before_job)]):\n",
        "        # 산업 유형 + 직전 직업\n",
        "        train_2017.loc[index, 'bq31'] = train_2017[(train_2017['bq31'].notnull())&(train_2017['bq1'] == industry_type) & (train_2017['bq30'] == a_similar_job) & (train_2017['bq32'] == before_job)].value_counts().index[0]\n",
        "    elif len(train_2017[(train_2017['bq31'].notnull())& (train_2017['bq32'] == before_job) & (train_2017['bq33'] == can_change_job)]):\n",
        "        # 직전 직업 + 전직 가능직업\n",
        "        train_2017.loc[index, 'bq31'] = train_2017[(train_2017['bq31'].notnull())& (train_2017['bq32'] == before_job) & (train_2017['bq33'] == can_change_job)].value_counts().index[0]\n",
        "    elif len(train_2017[(train_2017['bq31'].notnull())& (train_2017['bq32'] == before_job)]):\n",
        "        # 직전 직업\n",
        "        train_2017.loc[index, 'bq31'] = train_2017[(train_2017['bq31'].notnull())& (train_2017['bq32'] == before_job)].value_counts().index[0]\n",
        "    elif len(train_2017[(train_2017['bq31'].notnull()) & (train_2017['bq33'] == can_change_job)]):\n",
        "        # 전직 가능직업\n",
        "        train_2017.loc[index, 'bq31'] = train_2017[(train_2017['bq31'].notnull()) & (train_2017['bq33'] == can_change_job)].value_counts().index[0]\n",
        "    elif len(train_2017[(train_2017['bq31'].notnull())& (train_2017['bq30'] == a_similar_job)]):\n",
        "        # 유사 직업명\n",
        "        train_2017.loc[index, 'bq31'] = train_2017[(train_2017['bq31'].notnull())& (train_2017['bq30'] == a_similar_job)].value_counts().index[0]\n",
        "    else:\n",
        "        # 이정도면 없음으로 할게요...\n",
        "        train_2017.loc[index, 'bq31'] = '없음'"
      ],
      "metadata": {
        "id": "KBCTn8GfqKs4"
      },
      "execution_count": null,
      "outputs": []
    },
    {
      "cell_type": "code",
      "source": [
        "for index in test_2017[(test_2017['bq31'].isnull())].index:\n",
        "    # 산업 유형\n",
        "    industry_type = test_2017.iloc[index]['bq1']\n",
        "    # 유사직업명\n",
        "    a_similar_job = test_2017.iloc[index]['bq30']\n",
        "    # 직전직업\n",
        "    before_job = test_2017.iloc[index]['bq32']\n",
        "    # 전직 가능직업\n",
        "    can_change_job = test_2017.iloc[index]['bq33']\n",
        "\n",
        "    if len(test_2017[(test_2017['bq31'].notnull()) & (test_2017['bq1'] == industry_type) & (\n",
        "            test_2017['bq30'] == a_similar_job) & (test_2017['bq32'] == before_job) & (\n",
        "                              test_2017['bq33'] == can_change_job)]):\n",
        "        # 산업 유형 + 유사 직업명 + 직전 직업 + 전직 가능 직업\n",
        "        test_2017.loc[index, 'bq31'] = test_2017[\n",
        "            (test_2017['bq31'].notnull()) & (test_2017['bq1'] == industry_type) & (\n",
        "                        test_2017['bq30'] == a_similar_job) & (test_2017['bq32'] == before_job) & (\n",
        "                        test_2017['bq33'] == can_change_job)]['bq31'].value_counts().index[0]\n",
        "    elif len(test_2017[(test_2017['bq31'].notnull()) & (test_2017['bq1'] == industry_type) & (\n",
        "            test_2017['bq30'] == a_similar_job) & (test_2017['bq32'] == before_job)]):\n",
        "        # 산업 유형 + 유사 직업명 + 직전 직업\n",
        "        test_2017.loc[index, 'bq31'] = test_2017[\n",
        "            (test_2017['bq31'].notnull()) & (test_2017['bq1'] == industry_type) & (\n",
        "                        test_2017['bq30'] == a_similar_job) & (test_2017['bq32'] == before_job)][\n",
        "            'bq31'].value_counts().index[0]\n",
        "    elif len(test_2017[(test_2017['bq31'].notnull()) & (test_2017['bq30'] == a_similar_job) & (\n",
        "            test_2017['bq32'] == before_job) & (test_2017['bq33'] == can_change_job)]):\n",
        "        #  유사 직업명 + 직전 직업 + 전직 가능 직업\n",
        "        test_2017.loc[index, 'bq31'] = test_2017[\n",
        "            (test_2017['bq31'].notnull()) & (test_2017['bq30'] == a_similar_job) & (\n",
        "                        test_2017['bq32'] == before_job) & (test_2017['bq33'] == can_change_job)][\n",
        "            'bq31'].value_counts().index[0]\n",
        "    elif len(test_2017[(test_2017['bq31'].notnull()) & (test_2017['bq1'] == industry_type) & (\n",
        "            test_2017['bq30'] == a_similar_job)]):\n",
        "        # 산업 유형 + 유사 직업명\n",
        "        test_2017.loc[index, 'bq31'] = test_2017[\n",
        "            (test_2017['bq31'].notnull()) & (test_2017['bq1'] == industry_type) & (\n",
        "                        test_2017['bq30'] == a_similar_job)]['bq31'].value_counts().index[0]\n",
        "    elif len(test_2017[(test_2017['bq31'].notnull()) & (test_2017['bq1'] == industry_type) & (\n",
        "            test_2017['bq30'] == a_similar_job) & (test_2017['bq32'] == before_job)]):\n",
        "        # 산업 유형 + 직전 직업\n",
        "        test_2017.loc[index, 'bq31'] = test_2017[\n",
        "            (test_2017['bq31'].notnull()) & (test_2017['bq1'] == industry_type) & (\n",
        "                        test_2017['bq30'] == a_similar_job) & (test_2017['bq32'] == before_job)].value_counts().index[\n",
        "            0]\n",
        "    elif len(test_2017[(test_2017['bq31'].notnull()) & (test_2017['bq32'] == before_job) & (\n",
        "            test_2017['bq33'] == can_change_job)]):\n",
        "        # 직전 직업 + 전직 가능직업\n",
        "        test_2017.loc[index, 'bq31'] = test_2017[\n",
        "            (test_2017['bq31'].notnull()) & (test_2017['bq32'] == before_job) & (\n",
        "                        test_2017['bq33'] == can_change_job)].value_counts().index[0]\n",
        "    elif len(test_2017[(test_2017['bq31'].notnull()) & (test_2017['bq32'] == before_job)]):\n",
        "        # 직전 직업\n",
        "        test_2017.loc[index, 'bq31'] = \\\n",
        "        test_2017[(test_2017['bq31'].notnull()) & (test_2017['bq32'] == before_job)].value_counts().index[0]\n",
        "    elif len(test_2017[(test_2017['bq31'].notnull()) & (test_2017['bq33'] == can_change_job)]):\n",
        "        # 전직 가능직업\n",
        "        test_2017.loc[index, 'bq31'] = \\\n",
        "        test_2017[(test_2017['bq31'].notnull()) & (test_2017['bq33'] == can_change_job)].value_counts().index[0]\n",
        "    elif len(test_2017[(test_2017['bq31'].notnull()) & (test_2017['bq30'] == a_similar_job)]):\n",
        "        # 유사 직업명\n",
        "        test_2017.loc[index, 'bq31'] = \\\n",
        "        test_2017[(test_2017['bq31'].notnull()) & (test_2017['bq30'] == a_similar_job)].value_counts().index[0]\n",
        "    else:\n",
        "        # 이정도면 없음으로 할게요...\n",
        "        test_2017.loc[index, 'bq31'] = '없음'"
      ],
      "metadata": {
        "id": "nrUG2f4LrDZe"
      },
      "execution_count": null,
      "outputs": []
    },
    {
      "cell_type": "markdown",
      "source": [
        "##### 1.16 bq32 해당하는 결측치 처리 방법"
      ],
      "metadata": {
        "id": "OQcQXlfMr3z7"
      }
    },
    {
      "cell_type": "code",
      "source": [
        "train_2017.loc[train_2017['bq32'].isnull(), 'bq32'] = '모름' \n",
        "test_2017.loc[test_2017['bq32'].isnull(), 'bq32'] = '모름' "
      ],
      "metadata": {
        "id": "SrfsRwUkr0Co"
      },
      "execution_count": null,
      "outputs": []
    },
    {
      "cell_type": "markdown",
      "source": [
        "사실은 bq31과 같은 사용 가능한 프로그램 같은 경우는 프로그램의 종류 별로 컬럼을 새로 만드는 것이 좋다고 생각합니다. 이를 통해서 bq33 결측치 값을 좀 더 세밀하게 처리할 수 있습니다 Ex) 엑셀, 워드를 다룰 수 있다면 엑셀과 워드에 해당하는 컬럼을 따로 만드는 것이 좋다(원-핫 인코딩 과 같은)"
      ],
      "metadata": {
        "id": "3Gy06SeesDIL"
      }
    },
    {
      "cell_type": "markdown",
      "source": [
        "일부 컬럼에서 의미가 같은 단어를 다른 방식으로 표현하는 부분들이 많다. Ex) 컴퓨터와 PC를 혼용해서 사용하는 컬럼들이 보인다.\n",
        "\n",
        "이는 모델링 작업시 모두 동일한 형태로 변환 해주는 것이 좋다고 생각합니다.\n"
      ],
      "metadata": {
        "id": "Pa5BRutKsIrT"
      }
    },
    {
      "cell_type": "markdown",
      "source": [
        "##### 1.17 bq34 해당하는 결측치 처리 방법"
      ],
      "metadata": {
        "id": "4O0_QN3nsTzB"
      }
    },
    {
      "cell_type": "code",
      "source": [
        "train_2017.loc[(train_2017['bq34'].isnull()), 'bq34'] = '모름'\n",
        "test_2017.loc[(test_2017['bq34'].isnull()), 'bq34'] = '모름'"
      ],
      "metadata": {
        "id": "Em5z0Ad8sC6w"
      },
      "execution_count": null,
      "outputs": []
    },
    {
      "cell_type": "code",
      "source": [
        "print(f\"train : {train_2017[train_2017['bq38_1'].isnull()]['bq38'].shape[0]}\")\n",
        "print(f\"test : {test_2017[test_2017['bq38_1'].isnull()]['bq38'].shape[0]}\")"
      ],
      "metadata": {
        "id": "h4K5F0w2r8FA"
      },
      "execution_count": null,
      "outputs": []
    },
    {
      "cell_type": "code",
      "source": [
        "train_2017.loc[train_2017['bq38_1'].isnull()] = '없음'\n",
        "test_2017.loc[test_2017['bq38_1'].isnull()] = '없음'"
      ],
      "metadata": {
        "id": "ulHiPl3csdpi"
      },
      "execution_count": null,
      "outputs": []
    },
    {
      "cell_type": "markdown",
      "source": [
        "##### 1.19 bq40 해당하는 결측치 처리 방법"
      ],
      "metadata": {
        "id": "3KS4LzXRs7Yt"
      }
    },
    {
      "cell_type": "code",
      "source": [
        "print(train_2017[(train_2017['bq40'].isnull())]['bq39_2'].value_counts())\n",
        "print(test_2017[(test_2017['bq40'].isnull())]['bq39_2'].value_counts())"
      ],
      "metadata": {
        "id": "W-oKIvujtJUV"
      },
      "execution_count": null,
      "outputs": []
    },
    {
      "cell_type": "code",
      "source": [
        "train_2017.loc[(train_2017['bq39_1'] == 2) & (train_2017['bq40'].isnull())] = '3'\n",
        "test_2017.loc[(test_2017['bq39_1'] == 2) & (test_2017['bq40'].isnull())] = '3'"
      ],
      "metadata": {
        "id": "sRT0_S_zth08"
      },
      "execution_count": null,
      "outputs": []
    },
    {
      "cell_type": "code",
      "source": [
        "train_2017 = train_2017.drop(columns = ['bq41_1', 'bq41_2', 'bq41_3'])\n",
        "test_2017 = test_2017.drop(columns = ['bq41_1', 'bq41_2', 'bq41_3'])"
      ],
      "metadata": {
        "id": "HcZNgDa4uiAy"
      },
      "execution_count": null,
      "outputs": []
    },
    {
      "cell_type": "code",
      "source": [
        "for index, value, tindex, tvalue in zip(train_2017.isnull().sum().index, train_2017.isnull().sum(), test_2017.isnull().sum().index, test_2017.isnull().sum()):\n",
        "    print(f\"{index} : {value} / {tindex} : {tvalue} / {value + tvalue}\")"
      ],
      "metadata": {
        "id": "LR_HP_Xgujo4"
      },
      "execution_count": null,
      "outputs": []
    },
    {
      "cell_type": "code",
      "source": [
        "train_2017.to_csv(\"220114_know2017_train.csv\")\n",
        "test_2017.to_csv(\"220114_know2017_test.csv\")"
      ],
      "metadata": {
        "id": "A2F8tjQQuk2C"
      },
      "execution_count": null,
      "outputs": []
    },
    {
      "cell_type": "code",
      "source": [
        ""
      ],
      "metadata": {
        "id": "GHVB6F7Lu4ca"
      },
      "execution_count": null,
      "outputs": []
    }
  ]
}