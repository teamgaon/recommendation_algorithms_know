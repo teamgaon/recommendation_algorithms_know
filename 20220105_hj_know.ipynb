{
  "nbformat": 4,
  "nbformat_minor": 0,
  "metadata": {
    "colab": {
      "name": "20220105_hj_know.ipynb",
      "provenance": [],
      "collapsed_sections": [],
      "authorship_tag": "ABX9TyMgOL1LZ5nKqhN6gIlp0UIq",
      "include_colab_link": true
    },
    "kernelspec": {
      "name": "python3",
      "display_name": "Python 3"
    },
    "language_info": {
      "name": "python"
    }
  },
  "cells": [
    {
      "cell_type": "markdown",
      "metadata": {
        "id": "view-in-github",
        "colab_type": "text"
      },
      "source": [
        "<a href=\"https://colab.research.google.com/github/teamgaon/recommendation_algorithms_know/blob/main/20220105_hj_know.ipynb\" target=\"_parent\"><img src=\"https://colab.research.google.com/assets/colab-badge.svg\" alt=\"Open In Colab\"/></a>"
      ]
    },
    {
      "cell_type": "markdown",
      "source": [
        "## Train Data 불러오기\n",
        "\n",
        "\n",
        "---\n",
        "\n",
        "리스트 인덱스별로  \n",
        "train[0] : 2017 data  \n",
        "train[1] : 2018 data  \n",
        "train[2] : 2019 data  \n",
        "train[3] : 2020 data"
      ],
      "metadata": {
        "id": "joQTmLrRI4u0"
      }
    },
    {
      "cell_type": "code",
      "source": [
        "from google.colab import drive\n",
        "drive.mount('/content/drive')"
      ],
      "metadata": {
        "colab": {
          "base_uri": "https://localhost:8080/"
        },
        "id": "jqSpny7GI4S0",
        "outputId": "2680cb8f-e3c1-4469-b97f-0165e6f96fcc"
      },
      "execution_count": 1,
      "outputs": [
        {
          "output_type": "stream",
          "name": "stdout",
          "text": [
            "Drive already mounted at /content/drive; to attempt to forcibly remount, call drive.mount(\"/content/drive\", force_remount=True).\n"
          ]
        }
      ]
    },
    {
      "cell_type": "code",
      "source": [
        "import pandas as pd\n",
        "import numpy as np\n",
        "from glob import glob\n",
        "from tqdm import tqdm\n",
        "import warnings\n",
        "from sklearn.preprocessing import LabelEncoder\n",
        "\n",
        "warnings.filterwarnings(action='ignore') \n",
        "know_train = [pd.read_csv(path) for path in sorted(glob('/content/drive/MyDrive/KNOW/train/*.csv'))]"
      ],
      "metadata": {
        "id": "WneG-P_LI2rf"
      },
      "execution_count": 2,
      "outputs": []
    },
    {
      "cell_type": "markdown",
      "source": [
        "##2017 데이터 전처리\n",
        "'bq31' 전처리 및 label encoding"
      ],
      "metadata": {
        "id": "in4K2fQmKldq"
      }
    },
    {
      "cell_type": "code",
      "execution_count": 3,
      "metadata": {
        "id": "2N9vS2m-Elx8"
      },
      "outputs": [],
      "source": [
        "know2017 = know_train[0]"
      ]
    },
    {
      "cell_type": "code",
      "source": [
        "# 데이터 바꾸기\n",
        "know2017['bq31'] = know2017['bq31'].str.replace(\" \",\"\")\n",
        "know2017['bq31'] = know2017['bq31'].str.replace(\"등\",\"\")\n",
        "know2017['bq31'] = know2017['bq31'].str.replace(\".\",\",\")\n",
        "know2017['bq31'] = know2017['bq31'].str.replace(\"/\",\",\")\n",
        "know2017['bq31'] = know2017['bq31'].str.replace(\"(\",\",\")\n",
        "know2017['bq31'] = know2017['bq31'].str.replace(\")\",\",\")\n",
        "\n",
        "# 영어를 소문자로 변환한다.\n",
        "know2017['bq31'] = know2017['bq31'].str.lower()"
      ],
      "metadata": {
        "id": "5m8mbxaXKsWn"
      },
      "execution_count": 4,
      "outputs": []
    },
    {
      "cell_type": "code",
      "source": [
        "# know2017_1 : 2017데이터의 bq31 columns\n",
        "know2017_1 = pd.DataFrame(know2017['bq31'])\n",
        "\n",
        "# DataFrame을 list로 변환한다.\n",
        "know2017_1 = know2017_1.values.tolist()\n",
        "\n",
        "# 도구들을 쉼표 단위로 나눠서 tool list에 담는다.\n",
        "tool = []\n",
        "for i in range(0,len(know2017_1)):\n",
        "  tool_1 = know2017_1[i][0].split(',')\n",
        "  tool.append(tool_1)\n",
        "\n",
        "# list를 합친다.\n",
        "tool = sum(tool,[])"
      ],
      "metadata": {
        "id": "RgnTyi2rLWyv"
      },
      "execution_count": 5,
      "outputs": []
    },
    {
      "cell_type": "code",
      "source": [
        "# '' 데이터 삭제.\n",
        "tool = pd.DataFrame(tool)\n",
        "index = tool[tool[0] == ''].index\n",
        "tool = tool.drop(index)"
      ],
      "metadata": {
        "id": "BuPQIxywOZWV"
      },
      "execution_count": 6,
      "outputs": []
    },
    {
      "cell_type": "code",
      "source": [
        "### 라벨 인코딩 ###\n",
        "tool = tool[0].values.tolist()\n",
        "\n",
        "# dict에 도구 값 넣기\n",
        "my_dict = {}\n",
        "for i in range(len(tool)):\n",
        "  my_dict[tool[i]] = i\n",
        "\n",
        "\n",
        "def text_to_list(text:str):\n",
        "  return list(text.split(','))\n",
        "\n",
        "know2017['bq31'] = know2017['bq31'].map(text_to_list)"
      ],
      "metadata": {
        "colab": {
          "base_uri": "https://localhost:8080/"
        },
        "id": "dzFYFoobQKM6",
        "outputId": "c580eba4-5d40-4e3a-ba17-2b6e14e2dfef"
      },
      "execution_count": 7,
      "outputs": [
        {
          "output_type": "execute_result",
          "data": {
            "text/plain": [
              "0                                  [없다]\n",
              "1                  [매타기, 드라이버, 가위, cad]\n",
              "2               [건축설계표, 오토캐드, 파이프, 보일러]\n",
              "3                         [토탈스테이션, szp]\n",
              "4                        [캐드, 엑셀, 건축도면]\n",
              "                     ...               \n",
              "9481            [한글, 편집프로그램, 포토샵, 일러스트]\n",
              "9482    [autocad, catia, 전문특수정비도구, 툴, ]\n",
              "9483                           [볼트, 리벳]\n",
              "9484                              [컴퓨터]\n",
              "9485                          [차량관리시스템]\n",
              "Name: bq31, Length: 9486, dtype: object"
            ]
          },
          "metadata": {},
          "execution_count": 7
        }
      ]
    },
    {
      "cell_type": "code",
      "source": [
        "def tool_to_label(tools:list):\n",
        "  result = []\n",
        "  for tool in tools:\n",
        "    if tool in my_dict:\n",
        "      result.append(my_dict[tool])\n",
        "    else :\n",
        "      result.append(0)\n",
        "  return result\n",
        "\n",
        "know2017['label_tool'] = know2017['bq31'].map(tool_to_label)"
      ],
      "metadata": {
        "id": "f8ErRbDsMZ6K"
      },
      "execution_count": 8,
      "outputs": []
    },
    {
      "cell_type": "markdown",
      "source": [
        "\n",
        "##2018 데이터 전처리\n",
        "'bq30' 전처리 및 label encoding"
      ],
      "metadata": {
        "id": "TTOAimlXaJDf"
      }
    },
    {
      "cell_type": "code",
      "source": [
        "know2018 = know_train[1]"
      ],
      "metadata": {
        "id": "AVsNEWoRUOu7"
      },
      "execution_count": 9,
      "outputs": []
    },
    {
      "cell_type": "code",
      "source": [
        "# 데이터 바꾸기\n",
        "know2018['bq30'] = know2018['bq30'].str.replace(\" \",\"\")\n",
        "know2018['bq30'] = know2018['bq30'].str.replace(\"등\",\"\")\n",
        "know2018['bq30'] = know2018['bq30'].str.replace(\".\",\",\")\n",
        "know2018['bq30'] = know2018['bq30'].str.replace(\"/\",\",\")\n",
        "know2018['bq30'] = know2018['bq30'].str.replace(\"(\",\",\")\n",
        "know2018['bq30'] = know2018['bq30'].str.replace(\")\",\",\")\n",
        "\n",
        "# 영어를 소문자로 변환한다.\n",
        "know2018['bq30'] = know2018['bq30'].str.lower()"
      ],
      "metadata": {
        "id": "IDrukT4AaZ7U"
      },
      "execution_count": 10,
      "outputs": []
    },
    {
      "cell_type": "code",
      "source": [
        "# know2018_1 : 2017데이터의 bq30 columns\n",
        "know2018_1 = pd.DataFrame(know2018['bq30'])\n",
        "\n",
        "# DataFrame을 list로 변환한다.\n",
        "know2018_1 = know2018_1.values.tolist()\n",
        "\n",
        "# 도구들을 쉼표 단위로 나눠서 tool list에 담는다.\n",
        "tool = []\n",
        "for i in range(0,len(know2018_1)):\n",
        "  tool_1 = know2018_1[i][0].split(',')\n",
        "  tool.append(tool_1)\n",
        "\n",
        "# list를 합친다.\n",
        "tool = sum(tool,[])"
      ],
      "metadata": {
        "id": "55zfO65OaiVp"
      },
      "execution_count": 11,
      "outputs": []
    },
    {
      "cell_type": "code",
      "source": [
        "# '' 데이터 삭제.\n",
        "tool = pd.DataFrame(tool)\n",
        "index = tool[tool[0] == ''].index\n",
        "tool = tool.drop(index)"
      ],
      "metadata": {
        "id": "6D3TqP_2atYP"
      },
      "execution_count": 12,
      "outputs": []
    },
    {
      "cell_type": "code",
      "source": [
        "### 라벨 인코딩 ###\n",
        "tool = tool[0].values.tolist()\n",
        "\n",
        "# dict에 도구 값 넣기\n",
        "my_dict = {}\n",
        "for i in range(len(tool)):\n",
        "  my_dict[tool[i]] = i\n",
        "\n",
        "\n",
        "def text_to_list(text:str):\n",
        "  return list(text.split(','))\n",
        "\n",
        "know2018['bq30'] = know2018['bq30'].map(text_to_list)\n",
        "\n",
        "\n",
        "def tool_to_label(tools:list):\n",
        "  result = []\n",
        "  for tool in tools:\n",
        "    if tool in my_dict:\n",
        "      result.append(my_dict[tool])\n",
        "    else :\n",
        "      result.append(0)\n",
        "  return result\n",
        "\n",
        "know2018['label_tool'] = know2018['bq30'].map(tool_to_label)"
      ],
      "metadata": {
        "id": "aP1xtJZ6axFY"
      },
      "execution_count": 13,
      "outputs": []
    },
    {
      "cell_type": "markdown",
      "source": [
        "'bq37','bq37_1' 전처리 및 label encoding"
      ],
      "metadata": {
        "id": "ZQiq6C60bRMw"
      }
    },
    {
      "cell_type": "code",
      "source": [
        "# bq37행에서 전공 걸러내기\n",
        "know2018['bq37'].unique()\n",
        "\n",
        "# bq37행에서 전공 걸러내서 bq37_1_2018에 담기\n",
        "bq37_1_2018 = know2018[(know2018['bq37'] !='1')\n",
        "&(know2018['bq37'] !='2')\n",
        "&(know2018['bq37'] !='3')\n",
        "&(know2018['bq37'] !='4')\n",
        "&(know2018['bq37'] !='5')\n",
        "&(know2018['bq37'] !='6')]\n",
        "\n",
        "# 잘못된 입력 값 인덱스 찾기\n",
        "wrong_index = know2018[(know2018['bq37'] !='1')\n",
        "&(know2018['bq37'] !='2')\n",
        "&(know2018['bq37'] !='3')\n",
        "&(know2018['bq37'] !='4')\n",
        "&(know2018['bq37'] !='5')\n",
        "&(know2018['bq37'] !='6')].index\n",
        "\n",
        "# 원래 데이터에서 잘못된 row 제거\n",
        "know2018 = know2018.drop(wrong_index)"
      ],
      "metadata": {
        "id": "WMSCCTXOne4O"
      },
      "execution_count": 14,
      "outputs": []
    },
    {
      "cell_type": "code",
      "source": [
        "# column 이름을 바꿔서 원위치 시키기\n",
        "bq37_1_2018.rename(columns={'bq37_1':'bq37-1'},inplace=True)\n",
        "bq37_1_2018.rename(columns={'bq37':'bq37_1'},inplace=True)\n",
        "bq37_1_2018.rename(columns={'bq37-1':'bq37'},inplace=True)"
      ],
      "metadata": {
        "id": "sKmfLUARomhm"
      },
      "execution_count": 15,
      "outputs": []
    },
    {
      "cell_type": "code",
      "source": [
        "# 데이터 합치기\n",
        "know2018 = pd.concat([know2018,bq37_1_2018])"
      ],
      "metadata": {
        "id": "HvVZ6yO7pD_g"
      },
      "execution_count": 16,
      "outputs": []
    },
    {
      "cell_type": "code",
      "source": [
        "### *** 데이터가 이상한 값 *** ###\n",
        "know2018[(know2018['bq37'] == '색채심리상담사')]\n",
        "\n",
        "# know2018['bq37'] 칼럼을 숫자형으로 바꾸기를 하려고 했는데 색채심리상담사때문에 안됨\n",
        "# know2018['bq37'] = pd.to_numeric(know2018['bq37'])"
      ],
      "metadata": {
        "colab": {
          "base_uri": "https://localhost:8080/",
          "height": 486
        },
        "id": "u-932zoOpLiB",
        "outputId": "eb266b8e-850d-44ef-93f8-62427e8b077e"
      },
      "execution_count": 17,
      "outputs": [
        {
          "output_type": "execute_result",
          "data": {
            "text/html": [
              "\n",
              "  <div id=\"df-ddce0014-fbbf-4f06-8725-18e583b2964a\">\n",
              "    <div class=\"colab-df-container\">\n",
              "      <div>\n",
              "<style scoped>\n",
              "    .dataframe tbody tr th:only-of-type {\n",
              "        vertical-align: middle;\n",
              "    }\n",
              "\n",
              "    .dataframe tbody tr th {\n",
              "        vertical-align: top;\n",
              "    }\n",
              "\n",
              "    .dataframe thead th {\n",
              "        text-align: right;\n",
              "    }\n",
              "</style>\n",
              "<table border=\"1\" class=\"dataframe\">\n",
              "  <thead>\n",
              "    <tr style=\"text-align: right;\">\n",
              "      <th></th>\n",
              "      <th>idx</th>\n",
              "      <th>cq1</th>\n",
              "      <th>cq2</th>\n",
              "      <th>cq3</th>\n",
              "      <th>cq4</th>\n",
              "      <th>cq5</th>\n",
              "      <th>cq6</th>\n",
              "      <th>cq7</th>\n",
              "      <th>cq8</th>\n",
              "      <th>cq9</th>\n",
              "      <th>cq10</th>\n",
              "      <th>cq11</th>\n",
              "      <th>cq12</th>\n",
              "      <th>cq13</th>\n",
              "      <th>cq14</th>\n",
              "      <th>cq15</th>\n",
              "      <th>cq16</th>\n",
              "      <th>cq17</th>\n",
              "      <th>cq18</th>\n",
              "      <th>cq19</th>\n",
              "      <th>cq20</th>\n",
              "      <th>cq21</th>\n",
              "      <th>cq22</th>\n",
              "      <th>cq23</th>\n",
              "      <th>cq24</th>\n",
              "      <th>cq25</th>\n",
              "      <th>cq26</th>\n",
              "      <th>cq27</th>\n",
              "      <th>cq28</th>\n",
              "      <th>cq29</th>\n",
              "      <th>cq30</th>\n",
              "      <th>cq31</th>\n",
              "      <th>cq32</th>\n",
              "      <th>cq33</th>\n",
              "      <th>cq34</th>\n",
              "      <th>cq35</th>\n",
              "      <th>cq36</th>\n",
              "      <th>cq37</th>\n",
              "      <th>cq38</th>\n",
              "      <th>cq39</th>\n",
              "      <th>...</th>\n",
              "      <th>bq234</th>\n",
              "      <th>bq235</th>\n",
              "      <th>bq241</th>\n",
              "      <th>bq242</th>\n",
              "      <th>bq243</th>\n",
              "      <th>bq244</th>\n",
              "      <th>bq245</th>\n",
              "      <th>bq25</th>\n",
              "      <th>bq25_1</th>\n",
              "      <th>bq26_1</th>\n",
              "      <th>bq26_1a</th>\n",
              "      <th>bq26_2</th>\n",
              "      <th>bq26_2a</th>\n",
              "      <th>bq26_3</th>\n",
              "      <th>bq26_3a</th>\n",
              "      <th>bq26_4</th>\n",
              "      <th>bq26_4a</th>\n",
              "      <th>bq27</th>\n",
              "      <th>bq28</th>\n",
              "      <th>bq28_1</th>\n",
              "      <th>bq29</th>\n",
              "      <th>bq30</th>\n",
              "      <th>bq31</th>\n",
              "      <th>bq32</th>\n",
              "      <th>bq33</th>\n",
              "      <th>bq34</th>\n",
              "      <th>bq35</th>\n",
              "      <th>bq36</th>\n",
              "      <th>bq37</th>\n",
              "      <th>bq37_1</th>\n",
              "      <th>bq38</th>\n",
              "      <th>bq38_1</th>\n",
              "      <th>bq38_2</th>\n",
              "      <th>bq39</th>\n",
              "      <th>bq40</th>\n",
              "      <th>bq41_1</th>\n",
              "      <th>bq41_2</th>\n",
              "      <th>bq41_3</th>\n",
              "      <th>knowcode</th>\n",
              "      <th>label_tool</th>\n",
              "    </tr>\n",
              "  </thead>\n",
              "  <tbody>\n",
              "    <tr>\n",
              "      <th>8551</th>\n",
              "      <td>18048</td>\n",
              "      <td>5</td>\n",
              "      <td>4</td>\n",
              "      <td>3</td>\n",
              "      <td>3</td>\n",
              "      <td>1</td>\n",
              "      <td>5</td>\n",
              "      <td>2</td>\n",
              "      <td>2</td>\n",
              "      <td>1</td>\n",
              "      <td>1</td>\n",
              "      <td>2</td>\n",
              "      <td>2</td>\n",
              "      <td>2</td>\n",
              "      <td>5</td>\n",
              "      <td>1</td>\n",
              "      <td>1</td>\n",
              "      <td>3</td>\n",
              "      <td>5.0</td>\n",
              "      <td>1.0</td>\n",
              "      <td>1.0</td>\n",
              "      <td>2.0</td>\n",
              "      <td>1.0</td>\n",
              "      <td>1.0</td>\n",
              "      <td>1.0</td>\n",
              "      <td>1.0</td>\n",
              "      <td>1.0</td>\n",
              "      <td>1.0</td>\n",
              "      <td>1.0</td>\n",
              "      <td>5.0</td>\n",
              "      <td>1.0</td>\n",
              "      <td>1.0</td>\n",
              "      <td>5.0</td>\n",
              "      <td>1.0</td>\n",
              "      <td>5.0</td>\n",
              "      <td>1.0</td>\n",
              "      <td>2.0</td>\n",
              "      <td>3.0</td>\n",
              "      <td>4.0</td>\n",
              "      <td>3.0</td>\n",
              "      <td>...</td>\n",
              "      <td>0</td>\n",
              "      <td></td>\n",
              "      <td>1</td>\n",
              "      <td></td>\n",
              "      <td></td>\n",
              "      <td></td>\n",
              "      <td></td>\n",
              "      <td>1</td>\n",
              "      <td>2</td>\n",
              "      <td>1</td>\n",
              "      <td>2</td>\n",
              "      <td>1</td>\n",
              "      <td>2</td>\n",
              "      <td>1</td>\n",
              "      <td>2</td>\n",
              "      <td>1</td>\n",
              "      <td>2</td>\n",
              "      <td>2.0</td>\n",
              "      <td>3</td>\n",
              "      <td>포지션이 희소성이 높고 중요도 또한 높아 원래대로라면 늘어나야 하는 것이 맞지만_경...</td>\n",
              "      <td>배색사</td>\n",
              "      <td>[포토샵, 일러스트레이터프로그램]</td>\n",
              "      <td>없음</td>\n",
              "      <td>없음</td>\n",
              "      <td>컬러리스트는 분야별로 종류가 다양하며 제가 종사하고 있는 분야는 패션입니다._패션 ...</td>\n",
              "      <td>포토샵</td>\n",
              "      <td>라이트룸 등의 컴퓨터 프로그램\"</td>\n",
              "      <td>디자이너</td>\n",
              "      <td>색채심리상담사</td>\n",
              "      <td>디자이너</td>\n",
              "      <td>3</td>\n",
              "      <td>1</td>\n",
              "      <td>48</td>\n",
              "      <td>5</td>\n",
              "      <td>지식재산학</td>\n",
              "      <td>1</td>\n",
              "      <td>1</td>\n",
              "      <td></td>\n",
              "      <td>415404</td>\n",
              "      <td>[17003, 16102]</td>\n",
              "    </tr>\n",
              "  </tbody>\n",
              "</table>\n",
              "<p>1 rows × 142 columns</p>\n",
              "</div>\n",
              "      <button class=\"colab-df-convert\" onclick=\"convertToInteractive('df-ddce0014-fbbf-4f06-8725-18e583b2964a')\"\n",
              "              title=\"Convert this dataframe to an interactive table.\"\n",
              "              style=\"display:none;\">\n",
              "        \n",
              "  <svg xmlns=\"http://www.w3.org/2000/svg\" height=\"24px\"viewBox=\"0 0 24 24\"\n",
              "       width=\"24px\">\n",
              "    <path d=\"M0 0h24v24H0V0z\" fill=\"none\"/>\n",
              "    <path d=\"M18.56 5.44l.94 2.06.94-2.06 2.06-.94-2.06-.94-.94-2.06-.94 2.06-2.06.94zm-11 1L8.5 8.5l.94-2.06 2.06-.94-2.06-.94L8.5 2.5l-.94 2.06-2.06.94zm10 10l.94 2.06.94-2.06 2.06-.94-2.06-.94-.94-2.06-.94 2.06-2.06.94z\"/><path d=\"M17.41 7.96l-1.37-1.37c-.4-.4-.92-.59-1.43-.59-.52 0-1.04.2-1.43.59L10.3 9.45l-7.72 7.72c-.78.78-.78 2.05 0 2.83L4 21.41c.39.39.9.59 1.41.59.51 0 1.02-.2 1.41-.59l7.78-7.78 2.81-2.81c.8-.78.8-2.07 0-2.86zM5.41 20L4 18.59l7.72-7.72 1.47 1.35L5.41 20z\"/>\n",
              "  </svg>\n",
              "      </button>\n",
              "      \n",
              "  <style>\n",
              "    .colab-df-container {\n",
              "      display:flex;\n",
              "      flex-wrap:wrap;\n",
              "      gap: 12px;\n",
              "    }\n",
              "\n",
              "    .colab-df-convert {\n",
              "      background-color: #E8F0FE;\n",
              "      border: none;\n",
              "      border-radius: 50%;\n",
              "      cursor: pointer;\n",
              "      display: none;\n",
              "      fill: #1967D2;\n",
              "      height: 32px;\n",
              "      padding: 0 0 0 0;\n",
              "      width: 32px;\n",
              "    }\n",
              "\n",
              "    .colab-df-convert:hover {\n",
              "      background-color: #E2EBFA;\n",
              "      box-shadow: 0px 1px 2px rgba(60, 64, 67, 0.3), 0px 1px 3px 1px rgba(60, 64, 67, 0.15);\n",
              "      fill: #174EA6;\n",
              "    }\n",
              "\n",
              "    [theme=dark] .colab-df-convert {\n",
              "      background-color: #3B4455;\n",
              "      fill: #D2E3FC;\n",
              "    }\n",
              "\n",
              "    [theme=dark] .colab-df-convert:hover {\n",
              "      background-color: #434B5C;\n",
              "      box-shadow: 0px 1px 3px 1px rgba(0, 0, 0, 0.15);\n",
              "      filter: drop-shadow(0px 1px 2px rgba(0, 0, 0, 0.3));\n",
              "      fill: #FFFFFF;\n",
              "    }\n",
              "  </style>\n",
              "\n",
              "      <script>\n",
              "        const buttonEl =\n",
              "          document.querySelector('#df-ddce0014-fbbf-4f06-8725-18e583b2964a button.colab-df-convert');\n",
              "        buttonEl.style.display =\n",
              "          google.colab.kernel.accessAllowed ? 'block' : 'none';\n",
              "\n",
              "        async function convertToInteractive(key) {\n",
              "          const element = document.querySelector('#df-ddce0014-fbbf-4f06-8725-18e583b2964a');\n",
              "          const dataTable =\n",
              "            await google.colab.kernel.invokeFunction('convertToInteractive',\n",
              "                                                     [key], {});\n",
              "          if (!dataTable) return;\n",
              "\n",
              "          const docLinkHtml = 'Like what you see? Visit the ' +\n",
              "            '<a target=\"_blank\" href=https://colab.research.google.com/notebooks/data_table.ipynb>data table notebook</a>'\n",
              "            + ' to learn more about interactive tables.';\n",
              "          element.innerHTML = '';\n",
              "          dataTable['output_type'] = 'display_data';\n",
              "          await google.colab.output.renderOutput(dataTable, element);\n",
              "          const docLink = document.createElement('div');\n",
              "          docLink.innerHTML = docLinkHtml;\n",
              "          element.appendChild(docLink);\n",
              "        }\n",
              "      </script>\n",
              "    </div>\n",
              "  </div>\n",
              "  "
            ],
            "text/plain": [
              "        idx  cq1  cq2  cq3  ...  bq41_2  bq41_3  knowcode      label_tool\n",
              "8551  18048    5    4    3  ...       1            415404  [17003, 16102]\n",
              "\n",
              "[1 rows x 142 columns]"
            ]
          },
          "metadata": {},
          "execution_count": 17
        }
      ]
    },
    {
      "cell_type": "markdown",
      "source": [
        "## 2019 라벨 인코딩"
      ],
      "metadata": {
        "id": "kEGJcpZkbC5O"
      }
    },
    {
      "cell_type": "code",
      "source": [
        "know2019 = know_train[2]"
      ],
      "metadata": {
        "id": "A2-y9pBfazvz"
      },
      "execution_count": 18,
      "outputs": []
    },
    {
      "cell_type": "code",
      "source": [
        "# bq37행에서 전공 걸러내기\n",
        "know2019['bq27'].unique()"
      ],
      "metadata": {
        "colab": {
          "base_uri": "https://localhost:8080/"
        },
        "id": "WdanIXdnpz-i",
        "outputId": "0ceab24e-bcbd-4ea0-c89e-76ca73f608af"
      },
      "execution_count": 19,
      "outputs": [
        {
          "output_type": "execute_result",
          "data": {
            "text/plain": [
              "array(['4', '3', '2', '1', '5', '6', '지능로봇학', '모바일인터넷', nan, '영상영화디자인과',\n",
              "       '방사선과', '컴퓨터공학', '신문방송', 4, 2, 5, 3, 6, 1], dtype=object)"
            ]
          },
          "metadata": {},
          "execution_count": 19
        }
      ]
    },
    {
      "cell_type": "code",
      "source": [
        "# bq37행에서 전공 걸러내서 bq27_1_2019에 담기\n",
        "bq27_1_2019 = know2019[(know2019['bq27'] !='1')\n",
        "&(know2019['bq27'] !='2')\n",
        "&(know2019['bq27'] !='3')\n",
        "&(know2019['bq27'] !='4')\n",
        "&(know2019['bq27'] !='5')\n",
        "&(know2019['bq27'] !='6')\n",
        "&(know2019['bq27'] != 1)\n",
        "&(know2019['bq27'] != 2)\n",
        "&(know2019['bq27'] != 3)\n",
        "&(know2019['bq27'] != 4)\n",
        "&(know2019['bq27'] != 5)\n",
        "&(know2019['bq27'] != 6)]\n",
        "\n",
        "# 잘못된 입력 값 인덱스 찾기\n",
        "wrong_index = know2019[(know2019['bq27'] !='1')\n",
        "&(know2019['bq27'] !='2')\n",
        "&(know2019['bq27'] !='3')\n",
        "&(know2019['bq27'] !='4')\n",
        "&(know2019['bq27'] !='5')\n",
        "&(know2019['bq27'] !='6')\n",
        "&(know2019['bq27'] != 1)\n",
        "&(know2019['bq27'] != 2)\n",
        "&(know2019['bq27'] != 3)\n",
        "&(know2019['bq27'] != 4)\n",
        "&(know2019['bq27'] != 5)\n",
        "&(know2019['bq27'] != 6)].index\n",
        "\n",
        "# 원래 데이터에서 잘못된 row 제거\n",
        "know2019 = know2019.drop(wrong_index)"
      ],
      "metadata": {
        "id": "OjTodTokplk3"
      },
      "execution_count": 20,
      "outputs": []
    },
    {
      "cell_type": "code",
      "source": [
        "# column 이름을 바꿔서 원위치 시키기\n",
        "\n",
        "bq27_1_2019.rename(columns={'bq27_1':'bq27-1'},inplace=True)\n",
        "bq27_1_2019.rename(columns={'bq27':'bq27_1'},inplace=True)\n",
        "bq27_1_2019.rename(columns={'bq27-1':'bq27'},inplace=True)"
      ],
      "metadata": {
        "id": "nwXrTkrdqkzc"
      },
      "execution_count": 21,
      "outputs": []
    },
    {
      "cell_type": "code",
      "source": [
        "# 데이터 합치기\n",
        "know2019 = pd.concat([know2019,bq27_1_2019])"
      ],
      "metadata": {
        "id": "1DrExwgIqt48"
      },
      "execution_count": 22,
      "outputs": []
    },
    {
      "cell_type": "code",
      "source": [
        "# know2019['bq27'] 칼럼을 숫자형으로 바꾸기\n",
        "know2019['bq27'] = pd.to_numeric(know2019['bq27'])"
      ],
      "metadata": {
        "id": "7H_8qxZ6rRMx"
      },
      "execution_count": 23,
      "outputs": []
    },
    {
      "cell_type": "code",
      "source": [
        "### *** 결측치 어떻게 처리할 것인지 ? *** ###\n",
        "know2019[know2019['bq27'].isnull()]"
      ],
      "metadata": {
        "colab": {
          "base_uri": "https://localhost:8080/",
          "height": 237
        },
        "id": "5lbrLEEkrB7h",
        "outputId": "94a96949-e738-4282-cecf-0f8d0aa24c48"
      },
      "execution_count": 24,
      "outputs": [
        {
          "output_type": "execute_result",
          "data": {
            "text/html": [
              "\n",
              "  <div id=\"df-30b7bbcf-9748-4acf-a992-211cf336a09a\">\n",
              "    <div class=\"colab-df-container\">\n",
              "      <div>\n",
              "<style scoped>\n",
              "    .dataframe tbody tr th:only-of-type {\n",
              "        vertical-align: middle;\n",
              "    }\n",
              "\n",
              "    .dataframe tbody tr th {\n",
              "        vertical-align: top;\n",
              "    }\n",
              "\n",
              "    .dataframe thead th {\n",
              "        text-align: right;\n",
              "    }\n",
              "</style>\n",
              "<table border=\"1\" class=\"dataframe\">\n",
              "  <thead>\n",
              "    <tr style=\"text-align: right;\">\n",
              "      <th></th>\n",
              "      <th>idx</th>\n",
              "      <th>sq1</th>\n",
              "      <th>sq2</th>\n",
              "      <th>sq3</th>\n",
              "      <th>sq4</th>\n",
              "      <th>sq5</th>\n",
              "      <th>sq6</th>\n",
              "      <th>sq7</th>\n",
              "      <th>sq8</th>\n",
              "      <th>sq9</th>\n",
              "      <th>sq10</th>\n",
              "      <th>sq11</th>\n",
              "      <th>sq12</th>\n",
              "      <th>sq13</th>\n",
              "      <th>sq14</th>\n",
              "      <th>sq15</th>\n",
              "      <th>sq16</th>\n",
              "      <th>kq1_1</th>\n",
              "      <th>kq1_2</th>\n",
              "      <th>kq2_1</th>\n",
              "      <th>kq2_2</th>\n",
              "      <th>kq3_1</th>\n",
              "      <th>kq3_2</th>\n",
              "      <th>kq4_1</th>\n",
              "      <th>kq4_2</th>\n",
              "      <th>kq5_1</th>\n",
              "      <th>kq5_2</th>\n",
              "      <th>kq6_1</th>\n",
              "      <th>kq6_2</th>\n",
              "      <th>kq7_1</th>\n",
              "      <th>kq7_2</th>\n",
              "      <th>kq8_1</th>\n",
              "      <th>kq8_2</th>\n",
              "      <th>kq9_1</th>\n",
              "      <th>kq9_2</th>\n",
              "      <th>kq10_1</th>\n",
              "      <th>kq10_2</th>\n",
              "      <th>kq11_1</th>\n",
              "      <th>kq11_2</th>\n",
              "      <th>kq12_1</th>\n",
              "      <th>...</th>\n",
              "      <th>bq14_5</th>\n",
              "      <th>bq15</th>\n",
              "      <th>bq16_1</th>\n",
              "      <th>bq16_2</th>\n",
              "      <th>bq16_3</th>\n",
              "      <th>bq16_4</th>\n",
              "      <th>bq16_5</th>\n",
              "      <th>bq17</th>\n",
              "      <th>bq18_1</th>\n",
              "      <th>bq18_2</th>\n",
              "      <th>bq18_3</th>\n",
              "      <th>bq18_4</th>\n",
              "      <th>bq18_5</th>\n",
              "      <th>bq18_6</th>\n",
              "      <th>bq18_7</th>\n",
              "      <th>bq18_8</th>\n",
              "      <th>bq18_9</th>\n",
              "      <th>bq18_10</th>\n",
              "      <th>bq19</th>\n",
              "      <th>bq20</th>\n",
              "      <th>bq20_1</th>\n",
              "      <th>bq21_1</th>\n",
              "      <th>bq21_2</th>\n",
              "      <th>bq21_3</th>\n",
              "      <th>bq22</th>\n",
              "      <th>bq23</th>\n",
              "      <th>bq24</th>\n",
              "      <th>bq25</th>\n",
              "      <th>bq26</th>\n",
              "      <th>bq27</th>\n",
              "      <th>bq27_1</th>\n",
              "      <th>bq28</th>\n",
              "      <th>bq28_1</th>\n",
              "      <th>bq28_2</th>\n",
              "      <th>bq29</th>\n",
              "      <th>bq30</th>\n",
              "      <th>bq31_1</th>\n",
              "      <th>bq31_2</th>\n",
              "      <th>bq31_3</th>\n",
              "      <th>knowcode</th>\n",
              "    </tr>\n",
              "  </thead>\n",
              "  <tbody>\n",
              "    <tr>\n",
              "      <th>1394</th>\n",
              "      <td>19963</td>\n",
              "      <td>3</td>\n",
              "      <td>4</td>\n",
              "      <td>4</td>\n",
              "      <td>4</td>\n",
              "      <td>5</td>\n",
              "      <td>4</td>\n",
              "      <td>5</td>\n",
              "      <td>5</td>\n",
              "      <td>5</td>\n",
              "      <td>4</td>\n",
              "      <td>5</td>\n",
              "      <td>5</td>\n",
              "      <td>3</td>\n",
              "      <td>4</td>\n",
              "      <td>3</td>\n",
              "      <td>4</td>\n",
              "      <td>3</td>\n",
              "      <td>4</td>\n",
              "      <td>3</td>\n",
              "      <td>4</td>\n",
              "      <td>3</td>\n",
              "      <td>4</td>\n",
              "      <td>4</td>\n",
              "      <td>6</td>\n",
              "      <td>3</td>\n",
              "      <td>5</td>\n",
              "      <td>3</td>\n",
              "      <td>5</td>\n",
              "      <td>2</td>\n",
              "      <td>3</td>\n",
              "      <td>1</td>\n",
              "      <td>0</td>\n",
              "      <td>2</td>\n",
              "      <td>4</td>\n",
              "      <td>1</td>\n",
              "      <td>0</td>\n",
              "      <td>1</td>\n",
              "      <td>0</td>\n",
              "      <td>1</td>\n",
              "      <td>...</td>\n",
              "      <td>NaN</td>\n",
              "      <td>NaN</td>\n",
              "      <td>NaN</td>\n",
              "      <td>NaN</td>\n",
              "      <td>NaN</td>\n",
              "      <td>NaN</td>\n",
              "      <td>NaN</td>\n",
              "      <td>NaN</td>\n",
              "      <td>NaN</td>\n",
              "      <td>NaN</td>\n",
              "      <td>NaN</td>\n",
              "      <td>NaN</td>\n",
              "      <td>NaN</td>\n",
              "      <td>NaN</td>\n",
              "      <td>NaN</td>\n",
              "      <td>NaN</td>\n",
              "      <td>NaN</td>\n",
              "      <td>NaN</td>\n",
              "      <td>NaN</td>\n",
              "      <td>NaN</td>\n",
              "      <td>NaN</td>\n",
              "      <td>NaN</td>\n",
              "      <td>NaN</td>\n",
              "      <td>NaN</td>\n",
              "      <td>NaN</td>\n",
              "      <td>NaN</td>\n",
              "      <td>NaN</td>\n",
              "      <td>NaN</td>\n",
              "      <td>NaN</td>\n",
              "      <td>NaN</td>\n",
              "      <td>NaN</td>\n",
              "      <td>NaN</td>\n",
              "      <td>NaN</td>\n",
              "      <td>NaN</td>\n",
              "      <td>NaN</td>\n",
              "      <td>NaN</td>\n",
              "      <td>NaN</td>\n",
              "      <td>NaN</td>\n",
              "      <td>NaN</td>\n",
              "      <td>13902</td>\n",
              "    </tr>\n",
              "    <tr>\n",
              "      <th>2610</th>\n",
              "      <td>21180</td>\n",
              "      <td>5</td>\n",
              "      <td>5</td>\n",
              "      <td>5</td>\n",
              "      <td>2</td>\n",
              "      <td>5</td>\n",
              "      <td>2</td>\n",
              "      <td>5</td>\n",
              "      <td>3</td>\n",
              "      <td>3</td>\n",
              "      <td>2</td>\n",
              "      <td>5</td>\n",
              "      <td>5</td>\n",
              "      <td>5</td>\n",
              "      <td>5</td>\n",
              "      <td>2</td>\n",
              "      <td>3</td>\n",
              "      <td>2</td>\n",
              "      <td>4</td>\n",
              "      <td>4</td>\n",
              "      <td>6</td>\n",
              "      <td>1</td>\n",
              "      <td>0</td>\n",
              "      <td>2</td>\n",
              "      <td>2</td>\n",
              "      <td>2</td>\n",
              "      <td>3</td>\n",
              "      <td>2</td>\n",
              "      <td>2</td>\n",
              "      <td>1</td>\n",
              "      <td>0</td>\n",
              "      <td>1</td>\n",
              "      <td>0</td>\n",
              "      <td>2</td>\n",
              "      <td>5</td>\n",
              "      <td>2</td>\n",
              "      <td>3</td>\n",
              "      <td>3</td>\n",
              "      <td>2</td>\n",
              "      <td>2</td>\n",
              "      <td>...</td>\n",
              "      <td>NaN</td>\n",
              "      <td>NaN</td>\n",
              "      <td>NaN</td>\n",
              "      <td>NaN</td>\n",
              "      <td>NaN</td>\n",
              "      <td>NaN</td>\n",
              "      <td>NaN</td>\n",
              "      <td>NaN</td>\n",
              "      <td>NaN</td>\n",
              "      <td>NaN</td>\n",
              "      <td>NaN</td>\n",
              "      <td>NaN</td>\n",
              "      <td>NaN</td>\n",
              "      <td>NaN</td>\n",
              "      <td>NaN</td>\n",
              "      <td>NaN</td>\n",
              "      <td>NaN</td>\n",
              "      <td>NaN</td>\n",
              "      <td>NaN</td>\n",
              "      <td>NaN</td>\n",
              "      <td>NaN</td>\n",
              "      <td>NaN</td>\n",
              "      <td>NaN</td>\n",
              "      <td>NaN</td>\n",
              "      <td>NaN</td>\n",
              "      <td>NaN</td>\n",
              "      <td>NaN</td>\n",
              "      <td>NaN</td>\n",
              "      <td>NaN</td>\n",
              "      <td>NaN</td>\n",
              "      <td>NaN</td>\n",
              "      <td>NaN</td>\n",
              "      <td>NaN</td>\n",
              "      <td>NaN</td>\n",
              "      <td>NaN</td>\n",
              "      <td>NaN</td>\n",
              "      <td>NaN</td>\n",
              "      <td>NaN</td>\n",
              "      <td>NaN</td>\n",
              "      <td>413202</td>\n",
              "    </tr>\n",
              "    <tr>\n",
              "      <th>2687</th>\n",
              "      <td>21257</td>\n",
              "      <td>3</td>\n",
              "      <td>2</td>\n",
              "      <td>2</td>\n",
              "      <td>3</td>\n",
              "      <td>3</td>\n",
              "      <td>2</td>\n",
              "      <td>3</td>\n",
              "      <td>2</td>\n",
              "      <td>2</td>\n",
              "      <td>3</td>\n",
              "      <td>3</td>\n",
              "      <td>2</td>\n",
              "      <td>2</td>\n",
              "      <td>2</td>\n",
              "      <td>3</td>\n",
              "      <td>3</td>\n",
              "      <td>1</td>\n",
              "      <td>0</td>\n",
              "      <td>1</td>\n",
              "      <td>0</td>\n",
              "      <td>1</td>\n",
              "      <td>0</td>\n",
              "      <td>1</td>\n",
              "      <td>0</td>\n",
              "      <td>1</td>\n",
              "      <td>0</td>\n",
              "      <td>1</td>\n",
              "      <td>0</td>\n",
              "      <td>1</td>\n",
              "      <td>0</td>\n",
              "      <td>1</td>\n",
              "      <td>0</td>\n",
              "      <td>2</td>\n",
              "      <td>4</td>\n",
              "      <td>1</td>\n",
              "      <td>0</td>\n",
              "      <td>3</td>\n",
              "      <td>5</td>\n",
              "      <td>1</td>\n",
              "      <td>...</td>\n",
              "      <td>NaN</td>\n",
              "      <td>NaN</td>\n",
              "      <td>NaN</td>\n",
              "      <td>NaN</td>\n",
              "      <td>NaN</td>\n",
              "      <td>NaN</td>\n",
              "      <td>NaN</td>\n",
              "      <td>NaN</td>\n",
              "      <td>NaN</td>\n",
              "      <td>NaN</td>\n",
              "      <td>NaN</td>\n",
              "      <td>NaN</td>\n",
              "      <td>NaN</td>\n",
              "      <td>NaN</td>\n",
              "      <td>NaN</td>\n",
              "      <td>NaN</td>\n",
              "      <td>NaN</td>\n",
              "      <td>NaN</td>\n",
              "      <td>NaN</td>\n",
              "      <td>NaN</td>\n",
              "      <td>NaN</td>\n",
              "      <td>NaN</td>\n",
              "      <td>NaN</td>\n",
              "      <td>NaN</td>\n",
              "      <td>NaN</td>\n",
              "      <td>NaN</td>\n",
              "      <td>NaN</td>\n",
              "      <td>NaN</td>\n",
              "      <td>NaN</td>\n",
              "      <td>NaN</td>\n",
              "      <td>NaN</td>\n",
              "      <td>NaN</td>\n",
              "      <td>NaN</td>\n",
              "      <td>NaN</td>\n",
              "      <td>NaN</td>\n",
              "      <td>NaN</td>\n",
              "      <td>NaN</td>\n",
              "      <td>NaN</td>\n",
              "      <td>NaN</td>\n",
              "      <td>414303</td>\n",
              "    </tr>\n",
              "  </tbody>\n",
              "</table>\n",
              "<p>3 rows × 153 columns</p>\n",
              "</div>\n",
              "      <button class=\"colab-df-convert\" onclick=\"convertToInteractive('df-30b7bbcf-9748-4acf-a992-211cf336a09a')\"\n",
              "              title=\"Convert this dataframe to an interactive table.\"\n",
              "              style=\"display:none;\">\n",
              "        \n",
              "  <svg xmlns=\"http://www.w3.org/2000/svg\" height=\"24px\"viewBox=\"0 0 24 24\"\n",
              "       width=\"24px\">\n",
              "    <path d=\"M0 0h24v24H0V0z\" fill=\"none\"/>\n",
              "    <path d=\"M18.56 5.44l.94 2.06.94-2.06 2.06-.94-2.06-.94-.94-2.06-.94 2.06-2.06.94zm-11 1L8.5 8.5l.94-2.06 2.06-.94-2.06-.94L8.5 2.5l-.94 2.06-2.06.94zm10 10l.94 2.06.94-2.06 2.06-.94-2.06-.94-.94-2.06-.94 2.06-2.06.94z\"/><path d=\"M17.41 7.96l-1.37-1.37c-.4-.4-.92-.59-1.43-.59-.52 0-1.04.2-1.43.59L10.3 9.45l-7.72 7.72c-.78.78-.78 2.05 0 2.83L4 21.41c.39.39.9.59 1.41.59.51 0 1.02-.2 1.41-.59l7.78-7.78 2.81-2.81c.8-.78.8-2.07 0-2.86zM5.41 20L4 18.59l7.72-7.72 1.47 1.35L5.41 20z\"/>\n",
              "  </svg>\n",
              "      </button>\n",
              "      \n",
              "  <style>\n",
              "    .colab-df-container {\n",
              "      display:flex;\n",
              "      flex-wrap:wrap;\n",
              "      gap: 12px;\n",
              "    }\n",
              "\n",
              "    .colab-df-convert {\n",
              "      background-color: #E8F0FE;\n",
              "      border: none;\n",
              "      border-radius: 50%;\n",
              "      cursor: pointer;\n",
              "      display: none;\n",
              "      fill: #1967D2;\n",
              "      height: 32px;\n",
              "      padding: 0 0 0 0;\n",
              "      width: 32px;\n",
              "    }\n",
              "\n",
              "    .colab-df-convert:hover {\n",
              "      background-color: #E2EBFA;\n",
              "      box-shadow: 0px 1px 2px rgba(60, 64, 67, 0.3), 0px 1px 3px 1px rgba(60, 64, 67, 0.15);\n",
              "      fill: #174EA6;\n",
              "    }\n",
              "\n",
              "    [theme=dark] .colab-df-convert {\n",
              "      background-color: #3B4455;\n",
              "      fill: #D2E3FC;\n",
              "    }\n",
              "\n",
              "    [theme=dark] .colab-df-convert:hover {\n",
              "      background-color: #434B5C;\n",
              "      box-shadow: 0px 1px 3px 1px rgba(0, 0, 0, 0.15);\n",
              "      filter: drop-shadow(0px 1px 2px rgba(0, 0, 0, 0.3));\n",
              "      fill: #FFFFFF;\n",
              "    }\n",
              "  </style>\n",
              "\n",
              "      <script>\n",
              "        const buttonEl =\n",
              "          document.querySelector('#df-30b7bbcf-9748-4acf-a992-211cf336a09a button.colab-df-convert');\n",
              "        buttonEl.style.display =\n",
              "          google.colab.kernel.accessAllowed ? 'block' : 'none';\n",
              "\n",
              "        async function convertToInteractive(key) {\n",
              "          const element = document.querySelector('#df-30b7bbcf-9748-4acf-a992-211cf336a09a');\n",
              "          const dataTable =\n",
              "            await google.colab.kernel.invokeFunction('convertToInteractive',\n",
              "                                                     [key], {});\n",
              "          if (!dataTable) return;\n",
              "\n",
              "          const docLinkHtml = 'Like what you see? Visit the ' +\n",
              "            '<a target=\"_blank\" href=https://colab.research.google.com/notebooks/data_table.ipynb>data table notebook</a>'\n",
              "            + ' to learn more about interactive tables.';\n",
              "          element.innerHTML = '';\n",
              "          dataTable['output_type'] = 'display_data';\n",
              "          await google.colab.output.renderOutput(dataTable, element);\n",
              "          const docLink = document.createElement('div');\n",
              "          docLink.innerHTML = docLinkHtml;\n",
              "          element.appendChild(docLink);\n",
              "        }\n",
              "      </script>\n",
              "    </div>\n",
              "  </div>\n",
              "  "
            ],
            "text/plain": [
              "        idx  sq1  sq2  sq3  sq4  ...  bq30  bq31_1  bq31_2  bq31_3  knowcode\n",
              "1394  19963    3    4    4    4  ...   NaN     NaN     NaN     NaN     13902\n",
              "2610  21180    5    5    5    2  ...   NaN     NaN     NaN     NaN    413202\n",
              "2687  21257    3    2    2    3  ...   NaN     NaN     NaN     NaN    414303\n",
              "\n",
              "[3 rows x 153 columns]"
            ]
          },
          "metadata": {},
          "execution_count": 24
        }
      ]
    },
    {
      "cell_type": "markdown",
      "source": [
        "## 2020 라벨 인코딩"
      ],
      "metadata": {
        "id": "RmN5f6hRbJon"
      }
    },
    {
      "cell_type": "code",
      "source": [
        "know2020 = know_train[3]"
      ],
      "metadata": {
        "id": "yScRKUEEbMlc"
      },
      "execution_count": 25,
      "outputs": []
    },
    {
      "cell_type": "markdown",
      "source": [
        "## 전공 라벨 전처리 & 인코딩"
      ],
      "metadata": {
        "id": "ECTcFvDWxSQH"
      }
    },
    {
      "cell_type": "code",
      "source": [
        "major2017 = know2017['bq38_1']\n",
        "major2017 = major2017.values.tolist()\n",
        "\n",
        "major2018 = know2018['bq37_1']\n",
        "major2018 = major2018.values.tolist()\n",
        "\n",
        "major2019 = know2019['bq27_1']\n",
        "major2019 = major2019.values.tolist()\n",
        "\n",
        "major2020 = know2020['bq26_1']\n",
        "major2020 = major2020.values.tolist()"
      ],
      "metadata": {
        "id": "QMZ8r1GLbNVp"
      },
      "execution_count": 26,
      "outputs": []
    },
    {
      "cell_type": "code",
      "source": [
        "major = major2017 + major2018 + major2019 + major2020"
      ],
      "metadata": {
        "id": "q0V4jYUuxqeb"
      },
      "execution_count": 47,
      "outputs": []
    },
    {
      "cell_type": "markdown",
      "source": [
        "#### 전공 중복 제거"
      ],
      "metadata": {
        "id": "gmjSZ0CMyT3u"
      }
    },
    {
      "cell_type": "code",
      "source": [
        "# 결측치 제거\n",
        "major = pd.DataFrame(major)\n",
        "major = major[major[0].notnull()]\n",
        "major = major[major[0] != ' ']\n",
        "\n",
        "# 이상값 제거\n",
        "major.loc[major[0] == '2',0]='이'\n",
        "\n",
        "# 중복 제거 \n",
        "major = major.drop_duplicates()\n",
        "\n",
        "# ,값으로 나누기\n",
        "major = major.values.tolist()\n",
        "major_list = []\n",
        "for i in range(0,len(major)):\n",
        "  major_list_1 = major[i][0].split(',') \n",
        "  major_list.append(major_list_1)\n",
        "major_list\n",
        "\n",
        "# 리스트 풀기\n",
        "major_list = sum(major_list,[])"
      ],
      "metadata": {
        "id": "8BHv3UDZyPK5"
      },
      "execution_count": 48,
      "outputs": []
    },
    {
      "cell_type": "code",
      "source": [
        "# '' 데이터 삭제.\n",
        "major_list = pd.DataFrame(major_list)\n",
        "index = major_list[major_list[0] == ''].index\n",
        "major_list = major_list.drop(index)"
      ],
      "metadata": {
        "id": "MRAXLZ6UESY6"
      },
      "execution_count": 49,
      "outputs": []
    },
    {
      "cell_type": "code",
      "source": [
        "### 라벨 인코딩 ###\n",
        "major_list = major_list[0].values.tolist()\n",
        "\n",
        "# dict에 도구 값 넣기\n",
        "my_dict = {}\n",
        "for i in range(len(major_list)):\n",
        "  my_dict[major_list[i]] = i\n",
        "\n",
        "\n",
        "def text_to_list(list:str):\n",
        "  return list(text.split(','))\n",
        "\n",
        "know2017['bq38_1'] = know2017['bq38_1'].values.tolist()\n",
        "know2018['bq37_1'] = know2018['bq37_1'].values.tolist()\n",
        "know2019['bq27_1'] = know2019['bq27_1'].values.tolist()\n",
        "know2020['bq26_1'] = know2020['bq26_1'].values.tolist()"
      ],
      "metadata": {
        "id": "RHsi3S2lBY67"
      },
      "execution_count": 52,
      "outputs": []
    },
    {
      "cell_type": "code",
      "source": [
        "def major_to_label(majors:list):\n",
        "  result = []\n",
        "  for major in majors:\n",
        "    if major in my_dict:\n",
        "      result.append(my_dict[major])\n",
        "    else :\n",
        "      result.append(0)\n",
        "  return result\n",
        "\n",
        "know2017['label_major'] = know2017['bq38_1'].map(major_to_label)\n",
        "know2018['label_major'] = know2018['bq37_1'].map(major_to_label)\n",
        "know2019['label_major'] = know2019['bq27_1'].map(major_to_label)\n",
        "know2020['label_major'] = know2020['bq26_1'].map(major_to_label)"
      ],
      "metadata": {
        "colab": {
          "base_uri": "https://localhost:8080/",
          "height": 400
        },
        "id": "MNXC3mbQLlx8",
        "outputId": "9dc1edbf-99b5-491e-e73d-f9c60a9752ef"
      },
      "execution_count": 55,
      "outputs": [
        {
          "output_type": "error",
          "ename": "TypeError",
          "evalue": "ignored",
          "traceback": [
            "\u001b[0;31m---------------------------------------------------------------------------\u001b[0m",
            "\u001b[0;31mTypeError\u001b[0m                                 Traceback (most recent call last)",
            "\u001b[0;32m<ipython-input-55-8a6cb04793d4>\u001b[0m in \u001b[0;36m<module>\u001b[0;34m()\u001b[0m\n\u001b[1;32m     10\u001b[0m \u001b[0mknow2017\u001b[0m\u001b[0;34m[\u001b[0m\u001b[0;34m'label_major'\u001b[0m\u001b[0;34m]\u001b[0m \u001b[0;34m=\u001b[0m \u001b[0mknow2017\u001b[0m\u001b[0;34m[\u001b[0m\u001b[0;34m'bq38_1'\u001b[0m\u001b[0;34m]\u001b[0m\u001b[0;34m.\u001b[0m\u001b[0mmap\u001b[0m\u001b[0;34m(\u001b[0m\u001b[0mmajor_to_label\u001b[0m\u001b[0;34m)\u001b[0m\u001b[0;34m\u001b[0m\u001b[0;34m\u001b[0m\u001b[0m\n\u001b[1;32m     11\u001b[0m \u001b[0mknow2018\u001b[0m\u001b[0;34m[\u001b[0m\u001b[0;34m'label_major'\u001b[0m\u001b[0;34m]\u001b[0m \u001b[0;34m=\u001b[0m \u001b[0mknow2018\u001b[0m\u001b[0;34m[\u001b[0m\u001b[0;34m'bq37_1'\u001b[0m\u001b[0;34m]\u001b[0m\u001b[0;34m.\u001b[0m\u001b[0mmap\u001b[0m\u001b[0;34m(\u001b[0m\u001b[0mmajor_to_label\u001b[0m\u001b[0;34m)\u001b[0m\u001b[0;34m\u001b[0m\u001b[0;34m\u001b[0m\u001b[0m\n\u001b[0;32m---> 12\u001b[0;31m \u001b[0mknow2019\u001b[0m\u001b[0;34m[\u001b[0m\u001b[0;34m'label_major'\u001b[0m\u001b[0;34m]\u001b[0m \u001b[0;34m=\u001b[0m \u001b[0mknow2019\u001b[0m\u001b[0;34m[\u001b[0m\u001b[0;34m'bq27_1'\u001b[0m\u001b[0;34m]\u001b[0m\u001b[0;34m.\u001b[0m\u001b[0mmap\u001b[0m\u001b[0;34m(\u001b[0m\u001b[0mmajor_to_label\u001b[0m\u001b[0;34m)\u001b[0m\u001b[0;34m\u001b[0m\u001b[0;34m\u001b[0m\u001b[0m\n\u001b[0m\u001b[1;32m     13\u001b[0m \u001b[0mknow2020\u001b[0m\u001b[0;34m[\u001b[0m\u001b[0;34m'label_major'\u001b[0m\u001b[0;34m]\u001b[0m \u001b[0;34m=\u001b[0m \u001b[0mknow2020\u001b[0m\u001b[0;34m[\u001b[0m\u001b[0;34m'bq26_1'\u001b[0m\u001b[0;34m]\u001b[0m\u001b[0;34m.\u001b[0m\u001b[0mmap\u001b[0m\u001b[0;34m(\u001b[0m\u001b[0mmajor_to_label\u001b[0m\u001b[0;34m)\u001b[0m\u001b[0;34m\u001b[0m\u001b[0;34m\u001b[0m\u001b[0m\n",
            "\u001b[0;32m/usr/local/lib/python3.7/dist-packages/pandas/core/series.py\u001b[0m in \u001b[0;36mmap\u001b[0;34m(self, arg, na_action)\u001b[0m\n\u001b[1;32m   3981\u001b[0m         \u001b[0mdtype\u001b[0m\u001b[0;34m:\u001b[0m \u001b[0mobject\u001b[0m\u001b[0;34m\u001b[0m\u001b[0;34m\u001b[0m\u001b[0m\n\u001b[1;32m   3982\u001b[0m         \"\"\"\n\u001b[0;32m-> 3983\u001b[0;31m         \u001b[0mnew_values\u001b[0m \u001b[0;34m=\u001b[0m \u001b[0msuper\u001b[0m\u001b[0;34m(\u001b[0m\u001b[0;34m)\u001b[0m\u001b[0;34m.\u001b[0m\u001b[0m_map_values\u001b[0m\u001b[0;34m(\u001b[0m\u001b[0marg\u001b[0m\u001b[0;34m,\u001b[0m \u001b[0mna_action\u001b[0m\u001b[0;34m=\u001b[0m\u001b[0mna_action\u001b[0m\u001b[0;34m)\u001b[0m\u001b[0;34m\u001b[0m\u001b[0;34m\u001b[0m\u001b[0m\n\u001b[0m\u001b[1;32m   3984\u001b[0m         return self._constructor(new_values, index=self.index).__finalize__(\n\u001b[1;32m   3985\u001b[0m             \u001b[0mself\u001b[0m\u001b[0;34m,\u001b[0m \u001b[0mmethod\u001b[0m\u001b[0;34m=\u001b[0m\u001b[0;34m\"map\"\u001b[0m\u001b[0;34m\u001b[0m\u001b[0;34m\u001b[0m\u001b[0m\n",
            "\u001b[0;32m/usr/local/lib/python3.7/dist-packages/pandas/core/base.py\u001b[0m in \u001b[0;36m_map_values\u001b[0;34m(self, mapper, na_action)\u001b[0m\n\u001b[1;32m   1158\u001b[0m \u001b[0;34m\u001b[0m\u001b[0m\n\u001b[1;32m   1159\u001b[0m         \u001b[0;31m# mapper is a function\u001b[0m\u001b[0;34m\u001b[0m\u001b[0;34m\u001b[0m\u001b[0;34m\u001b[0m\u001b[0m\n\u001b[0;32m-> 1160\u001b[0;31m         \u001b[0mnew_values\u001b[0m \u001b[0;34m=\u001b[0m \u001b[0mmap_f\u001b[0m\u001b[0;34m(\u001b[0m\u001b[0mvalues\u001b[0m\u001b[0;34m,\u001b[0m \u001b[0mmapper\u001b[0m\u001b[0;34m)\u001b[0m\u001b[0;34m\u001b[0m\u001b[0;34m\u001b[0m\u001b[0m\n\u001b[0m\u001b[1;32m   1161\u001b[0m \u001b[0;34m\u001b[0m\u001b[0m\n\u001b[1;32m   1162\u001b[0m         \u001b[0;32mreturn\u001b[0m \u001b[0mnew_values\u001b[0m\u001b[0;34m\u001b[0m\u001b[0;34m\u001b[0m\u001b[0m\n",
            "\u001b[0;32mpandas/_libs/lib.pyx\u001b[0m in \u001b[0;36mpandas._libs.lib.map_infer\u001b[0;34m()\u001b[0m\n",
            "\u001b[0;32m<ipython-input-55-8a6cb04793d4>\u001b[0m in \u001b[0;36mmajor_to_label\u001b[0;34m(majors)\u001b[0m\n\u001b[1;32m      1\u001b[0m \u001b[0;32mdef\u001b[0m \u001b[0mmajor_to_label\u001b[0m\u001b[0;34m(\u001b[0m\u001b[0mmajors\u001b[0m\u001b[0;34m:\u001b[0m\u001b[0mlist\u001b[0m\u001b[0;34m)\u001b[0m\u001b[0;34m:\u001b[0m\u001b[0;34m\u001b[0m\u001b[0;34m\u001b[0m\u001b[0m\n\u001b[1;32m      2\u001b[0m   \u001b[0mresult\u001b[0m \u001b[0;34m=\u001b[0m \u001b[0;34m[\u001b[0m\u001b[0;34m]\u001b[0m\u001b[0;34m\u001b[0m\u001b[0;34m\u001b[0m\u001b[0m\n\u001b[0;32m----> 3\u001b[0;31m   \u001b[0;32mfor\u001b[0m \u001b[0mmajor\u001b[0m \u001b[0;32min\u001b[0m \u001b[0mmajors\u001b[0m\u001b[0;34m:\u001b[0m\u001b[0;34m\u001b[0m\u001b[0;34m\u001b[0m\u001b[0m\n\u001b[0m\u001b[1;32m      4\u001b[0m     \u001b[0;32mif\u001b[0m \u001b[0mmajor\u001b[0m \u001b[0;32min\u001b[0m \u001b[0mmy_dict\u001b[0m\u001b[0;34m:\u001b[0m\u001b[0;34m\u001b[0m\u001b[0;34m\u001b[0m\u001b[0m\n\u001b[1;32m      5\u001b[0m       \u001b[0mresult\u001b[0m\u001b[0;34m.\u001b[0m\u001b[0mappend\u001b[0m\u001b[0;34m(\u001b[0m\u001b[0mmy_dict\u001b[0m\u001b[0;34m[\u001b[0m\u001b[0mmajor\u001b[0m\u001b[0;34m]\u001b[0m\u001b[0;34m)\u001b[0m\u001b[0;34m\u001b[0m\u001b[0;34m\u001b[0m\u001b[0m\n",
            "\u001b[0;31mTypeError\u001b[0m: 'float' object is not iterable"
          ]
        }
      ]
    }
  ]
}