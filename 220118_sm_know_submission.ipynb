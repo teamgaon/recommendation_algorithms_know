{
  "nbformat": 4,
  "nbformat_minor": 0,
  "metadata": {
    "colab": {
      "name": "know_rf.ipynb",
      "provenance": [],
      "collapsed_sections": [],
      "machine_shape": "hm",
      "authorship_tag": "ABX9TyOggge2KfTyzBVhOGRcSgWV",
      "include_colab_link": true
    },
    "kernelspec": {
      "name": "python3",
      "display_name": "Python 3"
    },
    "language_info": {
      "name": "python"
    }
  },
  "cells": [
    {
      "cell_type": "markdown",
      "metadata": {
        "id": "view-in-github",
        "colab_type": "text"
      },
      "source": [
        "<a href=\"https://colab.research.google.com/github/teamgaon/recommendation_algorithms_know/blob/main/220118_sm_know_submission.ipynb\" target=\"_parent\"><img src=\"https://colab.research.google.com/assets/colab-badge.svg\" alt=\"Open In Colab\"/></a>"
      ]
    },
    {
      "cell_type": "code",
      "source": [
        "import numpy as np\n",
        "from tqdm.notebook import tqdm\n",
        "import pandas as pd\n",
        "from sklearn.model_selection import train_test_split\n",
        "from google.colab import drive\n",
        "import matplotlib.pyplot as plt\n",
        "from sklearn.ensemble import RandomForestClassifier\n",
        "from sklearn.preprocessing import LabelEncoder\n",
        "\n",
        "import pandas as pd\n",
        "from glob import glob\n",
        "from tqdm import tqdm\n",
        "import warnings"
      ],
      "metadata": {
        "id": "B66Axinqsz67"
      },
      "execution_count": 1,
      "outputs": []
    },
    {
      "cell_type": "code",
      "source": [
        "drive.mount('/content/gdrive')"
      ],
      "metadata": {
        "colab": {
          "base_uri": "https://localhost:8080/"
        },
        "id": "kbFTsrKts09n",
        "outputId": "2bee663e-f4f7-4da4-cc21-09af9ba5a137"
      },
      "execution_count": 2,
      "outputs": [
        {
          "output_type": "stream",
          "name": "stdout",
          "text": [
            "Mounted at /content/gdrive\n"
          ]
        }
      ]
    },
    {
      "cell_type": "code",
      "source": [
        "warnings.filterwarnings(action='ignore')"
      ],
      "metadata": {
        "id": "1d73YsGhs9FW"
      },
      "execution_count": 3,
      "outputs": []
    },
    {
      "cell_type": "code",
      "source": [
        "train1 = pd.read_csv('/content/gdrive/MyDrive/know/train/KNOW_2017.csv', encoding='utf-8')\n",
        "train2 = pd.read_csv('/content/gdrive/MyDrive/know/train/KNOW_2018.csv', encoding='utf-8')\n",
        "train3 = pd.read_csv('/content/gdrive/MyDrive/know/train/KNOW_2019.csv', encoding='utf-8')\n",
        "train4 = pd.read_csv('/content/gdrive/MyDrive/know/train/KNOW_2020.csv', encoding='utf-8')\n",
        "\n",
        "train2 = train2[train2['idx'] != 18048]\n",
        "train3 = train3[train3['idx'] != 19871]\n",
        "train3 = train3[train3['idx'] != 25823]\n",
        "train3 = train3[train3['idx'] != 18746]\n",
        "train3 = train3[train3['idx'] != 19183]\n",
        "train3 = train3[train3['idx'] != 21879]\n",
        "train3 = train3[train3['idx'] != 21931]\n",
        "train3 = train3[train3['idx'] != 26330]\n",
        "\n",
        "test1 = pd.read_csv('/content/gdrive/MyDrive/know/test/KNOW_2017_test.csv', encoding='utf-8')\n",
        "test2 = pd.read_csv('/content/gdrive/MyDrive/know/test/KNOW_2018_test.csv', encoding='utf-8')\n",
        "test3 = pd.read_csv('/content/gdrive/MyDrive/know/test/KNOW_2019_test.csv', encoding='utf-8')\n",
        "test4 = pd.read_csv('/content/gdrive/MyDrive/know/test/KNOW_2020_test.csv', encoding='utf-8')\n",
        "\n",
        "\n",
        "test2.loc[3982, test2.columns[1:]] = 0\n",
        "test3.loc[3694, test3.columns[1:]] = 0\n",
        "test3.loc[7090, test3.columns[1:]] = 0"
      ],
      "metadata": {
        "id": "AAH4gsAbhQ6Q"
      },
      "execution_count": 81,
      "outputs": []
    },
    {
      "cell_type": "code",
      "source": [
        "know_train = [train1, train2, train3, train4]\n",
        "know_test = [test1, test2, test3, test4]"
      ],
      "metadata": {
        "id": "9-aQxwPOyHtG"
      },
      "execution_count": 82,
      "outputs": []
    },
    {
      "cell_type": "code",
      "source": [
        "for df in know_train:\n",
        "    for col in df.columns:\n",
        "        df[col].replace(' ', '0', inplace=True)"
      ],
      "metadata": {
        "id": "OVCJL3igtnpH"
      },
      "execution_count": 83,
      "outputs": []
    },
    {
      "cell_type": "code",
      "source": [
        "for df in know_test:\n",
        "    for col in df.columns:\n",
        "        df[col].replace(' ', '0', inplace=True)"
      ],
      "metadata": {
        "id": "PeKrB2ey3DUR"
      },
      "execution_count": 84,
      "outputs": []
    },
    {
      "cell_type": "code",
      "source": [
        "years = ['2017', '2018', '2019', '2020']\n",
        "\n",
        "rf_predicts = []\n",
        "year_encoder = {}\n",
        "int_col = {}\n",
        "text_col = {}\n",
        "\n",
        "for year, train, test in zip(years, know_train, know_test):\n",
        "    print(year)\n",
        "    encoders = {}\n",
        "    int_temp = []\n",
        "    text_temp = []\n",
        "    for col in train.columns:\n",
        "        if col == 'ID':\n",
        "            continue\n",
        "        try:\n",
        "            train[col] = train[col].map(int)\n",
        "            int_temp.append(col)\n",
        "        except:\n",
        "            encoder = LabelEncoder()\n",
        "            train[col] = train[col].map(str)\n",
        "            train[col] = encoder.fit_transform(train[col])\n",
        "            encoders[col] = encoder\n",
        "            text_temp.append(col)\n",
        "    year_encoder[year] = encoders\n",
        "    int_col[year] = int_temp\n",
        "    text_col[year] = text_temp\n",
        "\n",
        "    feature = train.columns.drop(['idx', 'knowcode'])\n",
        "\n",
        "    model = RandomForestClassifier(n_estimators=100, random_state=123456, n_jobs=8)\n",
        "    model.fit(train[feature], train['knowcode'])\n",
        "\n",
        "    for col in test.columns:\n",
        "      try:\n",
        "          test[col] = test[col].map(int)\n",
        "      except:\n",
        "          encoder = year_encoder[year][col]\n",
        "          test[col] = test[col].map(str)\n",
        "          category_map = {category: idx for idx, category in enumerate(encoder.classes_)}\n",
        "          test[col] = test[col].apply(lambda x: category_map[x] if x in category_map else -1) # train set에서 보지못한 카테고리변수 -1(UNK) 처리\n",
        "    feature = test.columns.drop(['idx'])\n",
        "    pred = model.predict(test[feature])\n",
        "    rf_predicts.extend(pred)"
      ],
      "metadata": {
        "colab": {
          "base_uri": "https://localhost:8080/"
        },
        "id": "Z6CcXZ4CtplY",
        "outputId": "493be099-99a4-4b30-f38b-b6002407517d"
      },
      "execution_count": 85,
      "outputs": [
        {
          "output_type": "stream",
          "name": "stdout",
          "text": [
            "2017\n",
            "2018\n",
            "2019\n",
            "2020\n"
          ]
        }
      ]
    },
    {
      "cell_type": "code",
      "source": [
        "int_col['2017']"
      ],
      "metadata": {
        "id": "ZOhELyoz4UNy",
        "outputId": "800f31ec-bab8-4a43-b49d-179c715e715f",
        "colab": {
          "base_uri": "https://localhost:8080/"
        }
      },
      "execution_count": 90,
      "outputs": [
        {
          "output_type": "execute_result",
          "data": {
            "text/plain": [
              "['idx',\n",
              " 'aq1_1',\n",
              " 'aq1_2',\n",
              " 'aq2_1',\n",
              " 'aq2_2',\n",
              " 'aq3_1',\n",
              " 'aq3_2',\n",
              " 'aq4_1',\n",
              " 'aq4_2',\n",
              " 'aq5_1',\n",
              " 'aq5_2',\n",
              " 'aq6_1',\n",
              " 'aq6_2',\n",
              " 'aq7_1',\n",
              " 'aq7_2',\n",
              " 'aq8_1',\n",
              " 'aq8_2',\n",
              " 'aq9_1',\n",
              " 'aq9_2',\n",
              " 'aq10_1',\n",
              " 'aq10_2',\n",
              " 'aq11_1',\n",
              " 'aq11_2',\n",
              " 'aq12_1',\n",
              " 'aq12_2',\n",
              " 'aq13_1',\n",
              " 'aq13_2',\n",
              " 'aq14_1',\n",
              " 'aq14_2',\n",
              " 'aq15_1',\n",
              " 'aq15_2',\n",
              " 'aq16_1',\n",
              " 'aq16_2',\n",
              " 'aq17_1',\n",
              " 'aq17_2',\n",
              " 'aq18_1',\n",
              " 'aq18_2',\n",
              " 'aq19_1',\n",
              " 'aq19_2',\n",
              " 'aq20_1',\n",
              " 'aq20_2',\n",
              " 'aq21_1',\n",
              " 'aq21_2',\n",
              " 'aq22_1',\n",
              " 'aq22_2',\n",
              " 'aq23_1',\n",
              " 'aq23_2',\n",
              " 'aq24_1',\n",
              " 'aq24_2',\n",
              " 'aq25_1',\n",
              " 'aq25_2',\n",
              " 'aq26_1',\n",
              " 'aq26_2',\n",
              " 'aq27_1',\n",
              " 'aq27_2',\n",
              " 'aq28_1',\n",
              " 'aq28_2',\n",
              " 'aq29_1',\n",
              " 'aq29_2',\n",
              " 'aq30_1',\n",
              " 'aq30_2',\n",
              " 'aq31_1',\n",
              " 'aq31_2',\n",
              " 'aq32_1',\n",
              " 'aq32_2',\n",
              " 'aq33_1',\n",
              " 'aq33_2',\n",
              " 'aq34_1',\n",
              " 'aq34_2',\n",
              " 'aq35_1',\n",
              " 'aq35_2',\n",
              " 'aq36_1',\n",
              " 'aq36_2',\n",
              " 'aq37_1',\n",
              " 'aq37_2',\n",
              " 'aq38_1',\n",
              " 'aq38_2',\n",
              " 'aq39_1',\n",
              " 'aq39_2',\n",
              " 'aq40_1',\n",
              " 'aq40_2',\n",
              " 'aq41_1',\n",
              " 'aq41_2',\n",
              " 'bq1',\n",
              " 'bq2',\n",
              " 'bq3',\n",
              " 'bq4',\n",
              " 'bq5',\n",
              " 'bq5_1',\n",
              " 'bq6',\n",
              " 'bq7',\n",
              " 'bq8_1',\n",
              " 'bq8_2',\n",
              " 'bq8_3',\n",
              " 'bq9',\n",
              " 'bq10',\n",
              " 'bq11',\n",
              " 'bq12_1',\n",
              " 'bq12_2',\n",
              " 'bq12_3',\n",
              " 'bq12_4',\n",
              " 'bq12_5',\n",
              " 'bq13',\n",
              " 'bq14',\n",
              " 'bq15_1',\n",
              " 'bq15_2',\n",
              " 'bq15_3',\n",
              " 'bq16',\n",
              " 'bq17',\n",
              " 'bq18_1',\n",
              " 'bq18_2',\n",
              " 'bq18_3',\n",
              " 'bq18_4',\n",
              " 'bq18_5',\n",
              " 'bq18_6',\n",
              " 'bq18_7',\n",
              " 'bq19',\n",
              " 'bq20',\n",
              " 'bq21',\n",
              " 'bq22',\n",
              " 'bq23',\n",
              " 'bq24_1',\n",
              " 'bq24_2',\n",
              " 'bq24_3',\n",
              " 'bq24_4',\n",
              " 'bq24_5',\n",
              " 'bq24_6',\n",
              " 'bq24_7',\n",
              " 'bq24_8',\n",
              " 'bq25',\n",
              " 'bq26',\n",
              " 'bq27',\n",
              " 'bq28',\n",
              " 'bq29',\n",
              " 'bq35',\n",
              " 'bq36',\n",
              " 'bq37',\n",
              " 'bq38',\n",
              " 'bq39_1',\n",
              " 'bq39_2',\n",
              " 'bq40',\n",
              " 'bq41_1',\n",
              " 'bq41_2',\n",
              " 'bq41_3',\n",
              " 'knowcode']"
            ]
          },
          "metadata": {},
          "execution_count": 90
        }
      ]
    },
    {
      "cell_type": "code",
      "source": [
        "text_col['2017']"
      ],
      "metadata": {
        "id": "55Rk2xLh4F6D",
        "outputId": "050ea6fa-08b3-4349-c2a0-c8cb2995ebe1",
        "colab": {
          "base_uri": "https://localhost:8080/"
        }
      },
      "execution_count": 89,
      "outputs": [
        {
          "output_type": "execute_result",
          "data": {
            "text/plain": [
              "['bq4_1a',\n",
              " 'bq4_1b',\n",
              " 'bq4_1c',\n",
              " 'bq5_2',\n",
              " 'bq19_1',\n",
              " 'bq30',\n",
              " 'bq31',\n",
              " 'bq32',\n",
              " 'bq33',\n",
              " 'bq34',\n",
              " 'bq38_1']"
            ]
          },
          "metadata": {},
          "execution_count": 89
        }
      ]
    },
    {
      "cell_type": "code",
      "source": [
        "submission = pd.read_csv('/content/gdrive/MyDrive/know/sample_submission.csv') # sample submission 불러오기"
      ],
      "metadata": {
        "id": "7WJ2Y9ahyPMx"
      },
      "execution_count": 77,
      "outputs": []
    },
    {
      "cell_type": "code",
      "source": [
        "submission['knowcode'] = rf_predicts"
      ],
      "metadata": {
        "id": "cUaA6pW5yHDM"
      },
      "execution_count": 78,
      "outputs": []
    },
    {
      "cell_type": "code",
      "source": [
        "submission"
      ],
      "metadata": {
        "colab": {
          "base_uri": "https://localhost:8080/",
          "height": 424
        },
        "id": "B1fnPIz765RD",
        "outputId": "176d8a20-0878-4340-fc5f-e51eef615d0c"
      },
      "execution_count": 79,
      "outputs": [
        {
          "output_type": "execute_result",
          "data": {
            "text/html": [
              "\n",
              "  <div id=\"df-7cc31bae-7d8c-40e1-9419-33a0838a42ea\">\n",
              "    <div class=\"colab-df-container\">\n",
              "      <div>\n",
              "<style scoped>\n",
              "    .dataframe tbody tr th:only-of-type {\n",
              "        vertical-align: middle;\n",
              "    }\n",
              "\n",
              "    .dataframe tbody tr th {\n",
              "        vertical-align: top;\n",
              "    }\n",
              "\n",
              "    .dataframe thead th {\n",
              "        text-align: right;\n",
              "    }\n",
              "</style>\n",
              "<table border=\"1\" class=\"dataframe\">\n",
              "  <thead>\n",
              "    <tr style=\"text-align: right;\">\n",
              "      <th></th>\n",
              "      <th>idx</th>\n",
              "      <th>knowcode</th>\n",
              "    </tr>\n",
              "  </thead>\n",
              "  <tbody>\n",
              "    <tr>\n",
              "      <th>0</th>\n",
              "      <td>0</td>\n",
              "      <td>29401</td>\n",
              "    </tr>\n",
              "    <tr>\n",
              "      <th>1</th>\n",
              "      <td>1</td>\n",
              "      <td>151108</td>\n",
              "    </tr>\n",
              "    <tr>\n",
              "      <th>2</th>\n",
              "      <td>2</td>\n",
              "      <td>9999999</td>\n",
              "    </tr>\n",
              "    <tr>\n",
              "      <th>3</th>\n",
              "      <td>3</td>\n",
              "      <td>121102</td>\n",
              "    </tr>\n",
              "    <tr>\n",
              "      <th>4</th>\n",
              "      <td>4</td>\n",
              "      <td>412003</td>\n",
              "    </tr>\n",
              "    <tr>\n",
              "      <th>...</th>\n",
              "      <td>...</td>\n",
              "      <td>...</td>\n",
              "    </tr>\n",
              "    <tr>\n",
              "      <th>35226</th>\n",
              "      <td>35244</td>\n",
              "      <td>851101</td>\n",
              "    </tr>\n",
              "    <tr>\n",
              "      <th>35227</th>\n",
              "      <td>35245</td>\n",
              "      <td>411103</td>\n",
              "    </tr>\n",
              "    <tr>\n",
              "      <th>35228</th>\n",
              "      <td>35246</td>\n",
              "      <td>833001</td>\n",
              "    </tr>\n",
              "    <tr>\n",
              "      <th>35229</th>\n",
              "      <td>35247</td>\n",
              "      <td>140701</td>\n",
              "    </tr>\n",
              "    <tr>\n",
              "      <th>35230</th>\n",
              "      <td>35248</td>\n",
              "      <td>833001</td>\n",
              "    </tr>\n",
              "  </tbody>\n",
              "</table>\n",
              "<p>35231 rows × 2 columns</p>\n",
              "</div>\n",
              "      <button class=\"colab-df-convert\" onclick=\"convertToInteractive('df-7cc31bae-7d8c-40e1-9419-33a0838a42ea')\"\n",
              "              title=\"Convert this dataframe to an interactive table.\"\n",
              "              style=\"display:none;\">\n",
              "        \n",
              "  <svg xmlns=\"http://www.w3.org/2000/svg\" height=\"24px\"viewBox=\"0 0 24 24\"\n",
              "       width=\"24px\">\n",
              "    <path d=\"M0 0h24v24H0V0z\" fill=\"none\"/>\n",
              "    <path d=\"M18.56 5.44l.94 2.06.94-2.06 2.06-.94-2.06-.94-.94-2.06-.94 2.06-2.06.94zm-11 1L8.5 8.5l.94-2.06 2.06-.94-2.06-.94L8.5 2.5l-.94 2.06-2.06.94zm10 10l.94 2.06.94-2.06 2.06-.94-2.06-.94-.94-2.06-.94 2.06-2.06.94z\"/><path d=\"M17.41 7.96l-1.37-1.37c-.4-.4-.92-.59-1.43-.59-.52 0-1.04.2-1.43.59L10.3 9.45l-7.72 7.72c-.78.78-.78 2.05 0 2.83L4 21.41c.39.39.9.59 1.41.59.51 0 1.02-.2 1.41-.59l7.78-7.78 2.81-2.81c.8-.78.8-2.07 0-2.86zM5.41 20L4 18.59l7.72-7.72 1.47 1.35L5.41 20z\"/>\n",
              "  </svg>\n",
              "      </button>\n",
              "      \n",
              "  <style>\n",
              "    .colab-df-container {\n",
              "      display:flex;\n",
              "      flex-wrap:wrap;\n",
              "      gap: 12px;\n",
              "    }\n",
              "\n",
              "    .colab-df-convert {\n",
              "      background-color: #E8F0FE;\n",
              "      border: none;\n",
              "      border-radius: 50%;\n",
              "      cursor: pointer;\n",
              "      display: none;\n",
              "      fill: #1967D2;\n",
              "      height: 32px;\n",
              "      padding: 0 0 0 0;\n",
              "      width: 32px;\n",
              "    }\n",
              "\n",
              "    .colab-df-convert:hover {\n",
              "      background-color: #E2EBFA;\n",
              "      box-shadow: 0px 1px 2px rgba(60, 64, 67, 0.3), 0px 1px 3px 1px rgba(60, 64, 67, 0.15);\n",
              "      fill: #174EA6;\n",
              "    }\n",
              "\n",
              "    [theme=dark] .colab-df-convert {\n",
              "      background-color: #3B4455;\n",
              "      fill: #D2E3FC;\n",
              "    }\n",
              "\n",
              "    [theme=dark] .colab-df-convert:hover {\n",
              "      background-color: #434B5C;\n",
              "      box-shadow: 0px 1px 3px 1px rgba(0, 0, 0, 0.15);\n",
              "      filter: drop-shadow(0px 1px 2px rgba(0, 0, 0, 0.3));\n",
              "      fill: #FFFFFF;\n",
              "    }\n",
              "  </style>\n",
              "\n",
              "      <script>\n",
              "        const buttonEl =\n",
              "          document.querySelector('#df-7cc31bae-7d8c-40e1-9419-33a0838a42ea button.colab-df-convert');\n",
              "        buttonEl.style.display =\n",
              "          google.colab.kernel.accessAllowed ? 'block' : 'none';\n",
              "\n",
              "        async function convertToInteractive(key) {\n",
              "          const element = document.querySelector('#df-7cc31bae-7d8c-40e1-9419-33a0838a42ea');\n",
              "          const dataTable =\n",
              "            await google.colab.kernel.invokeFunction('convertToInteractive',\n",
              "                                                     [key], {});\n",
              "          if (!dataTable) return;\n",
              "\n",
              "          const docLinkHtml = 'Like what you see? Visit the ' +\n",
              "            '<a target=\"_blank\" href=https://colab.research.google.com/notebooks/data_table.ipynb>data table notebook</a>'\n",
              "            + ' to learn more about interactive tables.';\n",
              "          element.innerHTML = '';\n",
              "          dataTable['output_type'] = 'display_data';\n",
              "          await google.colab.output.renderOutput(dataTable, element);\n",
              "          const docLink = document.createElement('div');\n",
              "          docLink.innerHTML = docLinkHtml;\n",
              "          element.appendChild(docLink);\n",
              "        }\n",
              "      </script>\n",
              "    </div>\n",
              "  </div>\n",
              "  "
            ],
            "text/plain": [
              "         idx  knowcode\n",
              "0          0     29401\n",
              "1          1    151108\n",
              "2          2   9999999\n",
              "3          3    121102\n",
              "4          4    412003\n",
              "...      ...       ...\n",
              "35226  35244    851101\n",
              "35227  35245    411103\n",
              "35228  35246    833001\n",
              "35229  35247    140701\n",
              "35230  35248    833001\n",
              "\n",
              "[35231 rows x 2 columns]"
            ]
          },
          "metadata": {},
          "execution_count": 79
        }
      ]
    },
    {
      "cell_type": "code",
      "source": [
        "submission.to_csv('/content/gdrive/MyDrive/know/submission.csv', index=False)"
      ],
      "metadata": {
        "id": "A_-NjJnZyQ7s"
      },
      "execution_count": 80,
      "outputs": []
    }
  ]
}