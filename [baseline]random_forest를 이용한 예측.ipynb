{
 "cells": [
  {
   "cell_type": "markdown",
   "id": "11acce11-d5ba-48ca-9f39-8e8df25c57b7",
   "metadata": {},
   "source": [
    "# Train데이터 불러오기\n",
    "\n",
    "각 년도별 DataFrame을 리스트에 append합니다.\n",
    "\n",
    "리스트 인덱스별로\n",
    "\n",
    "0: 2017년도 데이터   \n",
    "\n",
    "1: 2018년도 데이터 \n",
    "\n",
    "2: 2019년도 데이터 \n",
    "\n",
    "3: 202년도 데이터 \n",
    "\n",
    "입니다"
   ]
  },
  {
   "cell_type": "code",
   "execution_count": 1,
   "id": "ee847486-4c61-44ec-88dc-59ac14edc39c",
   "metadata": {},
   "outputs": [],
   "source": [
    "import pandas as pd\n",
    "from glob import glob\n",
    "from tqdm import tqdm\n",
    "import warnings\n",
    "\n",
    "warnings.filterwarnings(action='ignore') \n",
    "know_train = [pd.read_csv(path) for path in sorted(glob('./train/*.csv'))]"
   ]
  },
  {
   "cell_type": "code",
   "execution_count": 2,
   "id": "1830985e-e8d0-4741-8beb-75132e3bf787",
   "metadata": {},
   "outputs": [
    {
     "data": {
      "text/html": [
       "<div>\n",
       "<style scoped>\n",
       "    .dataframe tbody tr th:only-of-type {\n",
       "        vertical-align: middle;\n",
       "    }\n",
       "\n",
       "    .dataframe tbody tr th {\n",
       "        vertical-align: top;\n",
       "    }\n",
       "\n",
       "    .dataframe thead th {\n",
       "        text-align: right;\n",
       "    }\n",
       "</style>\n",
       "<table border=\"1\" class=\"dataframe\">\n",
       "  <thead>\n",
       "    <tr style=\"text-align: right;\">\n",
       "      <th></th>\n",
       "      <th>idx</th>\n",
       "      <th>aq1_1</th>\n",
       "      <th>aq1_2</th>\n",
       "      <th>aq2_1</th>\n",
       "      <th>aq2_2</th>\n",
       "      <th>aq3_1</th>\n",
       "      <th>aq3_2</th>\n",
       "      <th>aq4_1</th>\n",
       "      <th>aq4_2</th>\n",
       "      <th>aq5_1</th>\n",
       "      <th>...</th>\n",
       "      <th>bq37</th>\n",
       "      <th>bq38</th>\n",
       "      <th>bq38_1</th>\n",
       "      <th>bq39_1</th>\n",
       "      <th>bq39_2</th>\n",
       "      <th>bq40</th>\n",
       "      <th>bq41_1</th>\n",
       "      <th>bq41_2</th>\n",
       "      <th>bq41_3</th>\n",
       "      <th>knowcode</th>\n",
       "    </tr>\n",
       "  </thead>\n",
       "  <tbody>\n",
       "    <tr>\n",
       "      <th>0</th>\n",
       "      <td>0</td>\n",
       "      <td>3</td>\n",
       "      <td>3</td>\n",
       "      <td>3</td>\n",
       "      <td>3</td>\n",
       "      <td>3</td>\n",
       "      <td>3</td>\n",
       "      <td>4</td>\n",
       "      <td>4</td>\n",
       "      <td>3</td>\n",
       "      <td>...</td>\n",
       "      <td>52</td>\n",
       "      <td>2</td>\n",
       "      <td>실업</td>\n",
       "      <td>1</td>\n",
       "      <td>1</td>\n",
       "      <td>1</td>\n",
       "      <td>4000</td>\n",
       "      <td></td>\n",
       "      <td>2200</td>\n",
       "      <td>825101</td>\n",
       "    </tr>\n",
       "    <tr>\n",
       "      <th>1</th>\n",
       "      <td>1</td>\n",
       "      <td>4</td>\n",
       "      <td>5</td>\n",
       "      <td>4</td>\n",
       "      <td>5</td>\n",
       "      <td>3</td>\n",
       "      <td>4</td>\n",
       "      <td>3</td>\n",
       "      <td>4</td>\n",
       "      <td>3</td>\n",
       "      <td>...</td>\n",
       "      <td>38</td>\n",
       "      <td>4</td>\n",
       "      <td>건축공학</td>\n",
       "      <td>1</td>\n",
       "      <td>1</td>\n",
       "      <td>1</td>\n",
       "      <td></td>\n",
       "      <td></td>\n",
       "      <td>2400</td>\n",
       "      <td>140204</td>\n",
       "    </tr>\n",
       "    <tr>\n",
       "      <th>2</th>\n",
       "      <td>2</td>\n",
       "      <td>3</td>\n",
       "      <td>4</td>\n",
       "      <td>3</td>\n",
       "      <td>4</td>\n",
       "      <td>3</td>\n",
       "      <td>4</td>\n",
       "      <td>5</td>\n",
       "      <td>6</td>\n",
       "      <td>4</td>\n",
       "      <td>...</td>\n",
       "      <td>50</td>\n",
       "      <td>4</td>\n",
       "      <td>건축공학</td>\n",
       "      <td>1</td>\n",
       "      <td>1</td>\n",
       "      <td>1</td>\n",
       "      <td>4000</td>\n",
       "      <td></td>\n",
       "      <td>2400</td>\n",
       "      <td>140204</td>\n",
       "    </tr>\n",
       "    <tr>\n",
       "      <th>3</th>\n",
       "      <td>3</td>\n",
       "      <td>3</td>\n",
       "      <td>3</td>\n",
       "      <td>3</td>\n",
       "      <td>3</td>\n",
       "      <td>3</td>\n",
       "      <td>5</td>\n",
       "      <td>4</td>\n",
       "      <td>5</td>\n",
       "      <td>4</td>\n",
       "      <td>...</td>\n",
       "      <td>42</td>\n",
       "      <td>4</td>\n",
       "      <td>환경학과</td>\n",
       "      <td>1</td>\n",
       "      <td>1</td>\n",
       "      <td>1</td>\n",
       "      <td>7000</td>\n",
       "      <td></td>\n",
       "      <td>3500</td>\n",
       "      <td>140601</td>\n",
       "    </tr>\n",
       "    <tr>\n",
       "      <th>4</th>\n",
       "      <td>4</td>\n",
       "      <td>4</td>\n",
       "      <td>5</td>\n",
       "      <td>3</td>\n",
       "      <td>4</td>\n",
       "      <td>3</td>\n",
       "      <td>4</td>\n",
       "      <td>4</td>\n",
       "      <td>5</td>\n",
       "      <td>3</td>\n",
       "      <td>...</td>\n",
       "      <td>51</td>\n",
       "      <td>4</td>\n",
       "      <td>건축공학</td>\n",
       "      <td>1</td>\n",
       "      <td>1</td>\n",
       "      <td>1</td>\n",
       "      <td>4000</td>\n",
       "      <td></td>\n",
       "      <td>2500</td>\n",
       "      <td>140204</td>\n",
       "    </tr>\n",
       "  </tbody>\n",
       "</table>\n",
       "<p>5 rows × 156 columns</p>\n",
       "</div>"
      ],
      "text/plain": [
       "   idx  aq1_1 aq1_2  aq2_1 aq2_2  aq3_1 aq3_2  aq4_1 aq4_2  aq5_1  ... bq37  \\\n",
       "0    0      3     3      3     3      3     3      4     4      3  ...   52   \n",
       "1    1      4     5      4     5      3     4      3     4      3  ...   38   \n",
       "2    2      3     4      3     4      3     4      5     6      4  ...   50   \n",
       "3    3      3     3      3     3      3     5      4     5      4  ...   42   \n",
       "4    4      4     5      3     4      3     4      4     5      3  ...   51   \n",
       "\n",
       "   bq38 bq38_1  bq39_1 bq39_2  bq40 bq41_1  bq41_2 bq41_3  knowcode  \n",
       "0     2     실업       1      1     1   4000           2200    825101  \n",
       "1     4   건축공학       1      1     1                  2400    140204  \n",
       "2     4   건축공학       1      1     1   4000           2400    140204  \n",
       "3     4   환경학과       1      1     1   7000           3500    140601  \n",
       "4     4   건축공학       1      1     1   4000           2500    140204  \n",
       "\n",
       "[5 rows x 156 columns]"
      ]
     },
     "execution_count": 2,
     "metadata": {},
     "output_type": "execute_result"
    }
   ],
   "source": [
    "know_train[0].head() # 2017년도 샘플"
   ]
  },
  {
   "cell_type": "markdown",
   "id": "8795b3bf-0b2b-4882-951d-06970b879e4d",
   "metadata": {},
   "source": [
    "# 전처리 \n",
    "\n",
    "데이터의 빈 셀에 None값이 아닌 ' '처럼 공백으로 들어가있기 때문에 is_null등의 함수로 결측치를 찾아낼 수 없습니다. \n",
    "\n",
    "공백이 있는 컬럼은 '0'으로 대체하였습니다."
   ]
  },
  {
   "cell_type": "code",
   "execution_count": 3,
   "id": "4783af41-8db1-48ce-b6f1-8736c7a13e26",
   "metadata": {
    "tags": []
   },
   "outputs": [],
   "source": [
    "for df in know_train:\n",
    "    for col in df.columns:\n",
    "        df[col].replace(' ', '0', inplace=True)"
   ]
  },
  {
   "cell_type": "markdown",
   "id": "c0c350e4-8feb-4140-8ebf-a0be4a2fb942",
   "metadata": {},
   "source": [
    "## 라벨 인코딩\n",
    "\n",
    "숫자로 변환할 수 있는 컬럼은 라벨 인코딩을 사용하지 않았습니다.\n",
    "\n",
    "string이나 object컬럼은 라벨인코더를 이용해 변환하였으며 추후 test셋에 사용해야하기 때문에 년도별, 컬럼별로 dictionary를 이용해 저장하였습니다"
   ]
  },
  {
   "cell_type": "code",
   "execution_count": 4,
   "id": "15eecb5d-f005-494a-b41d-e9458c098134",
   "metadata": {},
   "outputs": [
    {
     "name": "stdout",
     "output_type": "stream",
     "text": [
      "2017\n",
      "2018\n",
      "2019\n",
      "2020\n"
     ]
    }
   ],
   "source": [
    "from sklearn.preprocessing import LabelEncoder\n",
    "years = ['2017', '2018', '2019', '2020']\n",
    "\n",
    "year_encoder = {}\n",
    "\n",
    "for year, df in zip(years, know_train):\n",
    "    print(year)\n",
    "    encoders = {}\n",
    "    \n",
    "    for col in df.columns:\n",
    "        if col == 'ID':\n",
    "            continue\n",
    "        \n",
    "        try:\n",
    "            df[col] = df[col].map(int)\n",
    "        except:\n",
    "            encoder = LabelEncoder()\n",
    "            df[col] = df[col].map(str)\n",
    "            df[col] = encoder.fit_transform(df[col])\n",
    "            encoders[col] = encoder\n",
    "            \n",
    "            \n",
    "    year_encoder[year] = encoders"
   ]
  },
  {
   "cell_type": "markdown",
   "id": "96f78fff-2045-44cf-8946-2e2953aaf171",
   "metadata": {},
   "source": [
    "# X, y 구분 및 모델 학습\n",
    "\n",
    "이번 대회에서 맞춰야 할 값은 knowcode입니다.\n",
    "\n",
    "ID와 knowcode를 제외한 나머지 feature를 X, knowcode를 정답 y로 두어 모델을 학습하였습니다.\n",
    "\n",
    "베이스라인에서는 의사결정나무와 랜덤포레스트를 선정하였습니다"
   ]
  },
  {
   "cell_type": "code",
   "execution_count": 7,
   "id": "0a8e0613-c575-4688-a96e-1ee2e3c9aeec",
   "metadata": {},
   "outputs": [],
   "source": [
    "train_data = {}\n",
    "for year, df in zip(years, know_train):\n",
    "    train_data[year] = {'X': df.iloc[:, 1:-1], # ID제외\n",
    "                        'y': df.iloc[:, -1]} "
   ]
  },
  {
   "cell_type": "markdown",
   "id": "8ba31d8e-8be2-4325-ad56-a887c37b9432",
   "metadata": {},
   "source": [
    "## 의사결정나무"
   ]
  },
  {
   "cell_type": "code",
   "execution_count": 8,
   "id": "a9b6494a-9591-4b38-ae16-7242fb239856",
   "metadata": {},
   "outputs": [
    {
     "name": "stderr",
     "output_type": "stream",
     "text": [
      "100%|██████████| 4/4 [00:10<00:00,  2.59s/it]\n"
     ]
    }
   ],
   "source": [
    "from sklearn.ensemble import RandomForestClassifier\n",
    "from sklearn.tree import DecisionTreeClassifier\n",
    "\n",
    "dt_models = {}\n",
    "\n",
    "for year in tqdm(years):\n",
    "    model = DecisionTreeClassifier(random_state=123456)\n",
    "    model.fit(train_data[year]['X'].iloc[:, :], train_data[year]['y'])\n",
    "    dt_models[year] = model"
   ]
  },
  {
   "cell_type": "markdown",
   "id": "f5158dde-a099-4b67-8a7e-6e13fef0f34f",
   "metadata": {},
   "source": [
    "## 랜덤포레스트"
   ]
  },
  {
   "cell_type": "code",
   "execution_count": 9,
   "id": "14bb44b3-ac0a-4fe5-9cfd-50cc5d29174e",
   "metadata": {},
   "outputs": [
    {
     "name": "stderr",
     "output_type": "stream",
     "text": [
      "100%|██████████| 4/4 [00:12<00:00,  3.23s/it]\n"
     ]
    }
   ],
   "source": [
    "\n",
    "rf_models = {}\n",
    "\n",
    "for year in tqdm(years):\n",
    "    model = RandomForestClassifier(n_estimators=100, random_state=123456, n_jobs=8)\n",
    "    model.fit(train_data[year]['X'].iloc[:, :], train_data[year]['y'])\n",
    "    rf_models[year] = model"
   ]
  },
  {
   "cell_type": "markdown",
   "id": "708d6a8a-5514-4019-9c06-1522a86122de",
   "metadata": {},
   "source": [
    "## Testset 불러오기\n",
    "\n",
    "마찬가지로 년도별로 DataFrame으로 불러온 후 리스트에 할당합니다.\n"
   ]
  },
  {
   "cell_type": "code",
   "execution_count": 10,
   "id": "9fe33285-7c4f-45d4-a538-b5499f15268c",
   "metadata": {},
   "outputs": [
    {
     "data": {
      "text/html": [
       "<div>\n",
       "<style scoped>\n",
       "    .dataframe tbody tr th:only-of-type {\n",
       "        vertical-align: middle;\n",
       "    }\n",
       "\n",
       "    .dataframe tbody tr th {\n",
       "        vertical-align: top;\n",
       "    }\n",
       "\n",
       "    .dataframe thead th {\n",
       "        text-align: right;\n",
       "    }\n",
       "</style>\n",
       "<table border=\"1\" class=\"dataframe\">\n",
       "  <thead>\n",
       "    <tr style=\"text-align: right;\">\n",
       "      <th></th>\n",
       "      <th>idx</th>\n",
       "      <th>aq1_1</th>\n",
       "      <th>aq1_2</th>\n",
       "      <th>aq2_1</th>\n",
       "      <th>aq2_2</th>\n",
       "      <th>aq3_1</th>\n",
       "      <th>aq3_2</th>\n",
       "      <th>aq4_1</th>\n",
       "      <th>aq4_2</th>\n",
       "      <th>aq5_1</th>\n",
       "      <th>...</th>\n",
       "      <th>bq36</th>\n",
       "      <th>bq37</th>\n",
       "      <th>bq38</th>\n",
       "      <th>bq38_1</th>\n",
       "      <th>bq39_1</th>\n",
       "      <th>bq39_2</th>\n",
       "      <th>bq40</th>\n",
       "      <th>bq41_1</th>\n",
       "      <th>bq41_2</th>\n",
       "      <th>bq41_3</th>\n",
       "    </tr>\n",
       "  </thead>\n",
       "  <tbody>\n",
       "    <tr>\n",
       "      <th>0</th>\n",
       "      <td>0</td>\n",
       "      <td>3</td>\n",
       "      <td>4</td>\n",
       "      <td>2</td>\n",
       "      <td>2</td>\n",
       "      <td>3</td>\n",
       "      <td>3</td>\n",
       "      <td>1</td>\n",
       "      <td></td>\n",
       "      <td>3</td>\n",
       "      <td>...</td>\n",
       "      <td>2</td>\n",
       "      <td>26</td>\n",
       "      <td>3</td>\n",
       "      <td>비서학</td>\n",
       "      <td>1</td>\n",
       "      <td>1</td>\n",
       "      <td>1</td>\n",
       "      <td>3000</td>\n",
       "      <td></td>\n",
       "      <td>2300</td>\n",
       "    </tr>\n",
       "    <tr>\n",
       "      <th>1</th>\n",
       "      <td>1</td>\n",
       "      <td>5</td>\n",
       "      <td>5</td>\n",
       "      <td>3</td>\n",
       "      <td>5</td>\n",
       "      <td>5</td>\n",
       "      <td>5</td>\n",
       "      <td>5</td>\n",
       "      <td>5</td>\n",
       "      <td>4</td>\n",
       "      <td>...</td>\n",
       "      <td>1</td>\n",
       "      <td>57</td>\n",
       "      <td>4</td>\n",
       "      <td>농화학</td>\n",
       "      <td>1</td>\n",
       "      <td>1</td>\n",
       "      <td>1</td>\n",
       "      <td>5500</td>\n",
       "      <td></td>\n",
       "      <td>2500</td>\n",
       "    </tr>\n",
       "    <tr>\n",
       "      <th>2</th>\n",
       "      <td>2</td>\n",
       "      <td>5</td>\n",
       "      <td>5</td>\n",
       "      <td>5</td>\n",
       "      <td>4</td>\n",
       "      <td>5</td>\n",
       "      <td>4</td>\n",
       "      <td>1</td>\n",
       "      <td></td>\n",
       "      <td>1</td>\n",
       "      <td>...</td>\n",
       "      <td>1</td>\n",
       "      <td>31</td>\n",
       "      <td>4</td>\n",
       "      <td>신문방송</td>\n",
       "      <td>1</td>\n",
       "      <td>1</td>\n",
       "      <td>1</td>\n",
       "      <td>4300</td>\n",
       "      <td></td>\n",
       "      <td>4000</td>\n",
       "    </tr>\n",
       "    <tr>\n",
       "      <th>3</th>\n",
       "      <td>3</td>\n",
       "      <td>4</td>\n",
       "      <td>5</td>\n",
       "      <td>5</td>\n",
       "      <td>6</td>\n",
       "      <td>4</td>\n",
       "      <td>6</td>\n",
       "      <td>3</td>\n",
       "      <td>4</td>\n",
       "      <td>4</td>\n",
       "      <td>...</td>\n",
       "      <td>1</td>\n",
       "      <td>35</td>\n",
       "      <td>6</td>\n",
       "      <td>화학</td>\n",
       "      <td>1</td>\n",
       "      <td>1</td>\n",
       "      <td>1</td>\n",
       "      <td>4100</td>\n",
       "      <td></td>\n",
       "      <td>3000</td>\n",
       "    </tr>\n",
       "    <tr>\n",
       "      <th>4</th>\n",
       "      <td>4</td>\n",
       "      <td>5</td>\n",
       "      <td>6</td>\n",
       "      <td>4</td>\n",
       "      <td>5</td>\n",
       "      <td>4</td>\n",
       "      <td>5</td>\n",
       "      <td>1</td>\n",
       "      <td></td>\n",
       "      <td>1</td>\n",
       "      <td>...</td>\n",
       "      <td>1</td>\n",
       "      <td>36</td>\n",
       "      <td>4</td>\n",
       "      <td>광고홍보</td>\n",
       "      <td>1</td>\n",
       "      <td>1</td>\n",
       "      <td>1</td>\n",
       "      <td>2800</td>\n",
       "      <td></td>\n",
       "      <td>2000</td>\n",
       "    </tr>\n",
       "  </tbody>\n",
       "</table>\n",
       "<p>5 rows × 155 columns</p>\n",
       "</div>"
      ],
      "text/plain": [
       "   idx  aq1_1 aq1_2  aq2_1 aq2_2  aq3_1 aq3_2  aq4_1 aq4_2  aq5_1  ... bq36  \\\n",
       "0    0      3     4      2     2      3     3      1            3  ...    2   \n",
       "1    1      5     5      3     5      5     5      5     5      4  ...    1   \n",
       "2    2      5     5      5     4      5     4      1            1  ...    1   \n",
       "3    3      4     5      5     6      4     6      3     4      4  ...    1   \n",
       "4    4      5     6      4     5      4     5      1            1  ...    1   \n",
       "\n",
       "   bq37 bq38  bq38_1 bq39_1  bq39_2 bq40  bq41_1 bq41_2  bq41_3  \n",
       "0    26    3     비서학      1       1    1    3000           2300  \n",
       "1    57    4     농화학      1       1    1    5500           2500  \n",
       "2    31    4    신문방송      1       1    1    4300           4000  \n",
       "3    35    6      화학      1       1    1    4100           3000  \n",
       "4    36    4    광고홍보      1       1    1    2800           2000  \n",
       "\n",
       "[5 rows x 155 columns]"
      ]
     },
     "execution_count": 10,
     "metadata": {},
     "output_type": "execute_result"
    }
   ],
   "source": [
    "know_test = [pd.read_csv(path) for path in sorted(glob('./test/*.csv'))]\n",
    "know_test[0].head() # 2017년도 test 샘플"
   ]
  },
  {
   "cell_type": "markdown",
   "id": "182db4af-f03a-4f1d-b89f-1215987a1f17",
   "metadata": {},
   "source": [
    "Train set과 마찬가지로 평균, '0'으로 대체하였습니다"
   ]
  },
  {
   "cell_type": "code",
   "execution_count": 11,
   "id": "65be8fea-404d-44c4-b49b-deb6edca5d09",
   "metadata": {},
   "outputs": [],
   "source": [
    "for df in know_test:\n",
    "    for col in df.columns:\n",
    "        df[col].replace(' ', '0', inplace=True)"
   ]
  },
  {
   "cell_type": "markdown",
   "id": "0e885444-1885-4ad8-89d7-78993be7e481",
   "metadata": {},
   "source": [
    "Train에 사용하였던 라벨인코더를 이용해서 카테고리를 정수로 변환합니다.\n",
    "\n",
    "만약 Test변수가 Train 라벨인코더의 클래스에 없을경우 -1로 처리합니다"
   ]
  },
  {
   "cell_type": "code",
   "execution_count": 12,
   "id": "55a4ebc1-5770-4362-946b-0372de77878c",
   "metadata": {
    "tags": []
   },
   "outputs": [
    {
     "name": "stdout",
     "output_type": "stream",
     "text": [
      "2017\n",
      "2018\n",
      "2019\n",
      "2020\n"
     ]
    }
   ],
   "source": [
    "years = ['2017', '2018', '2019', '2020']\n",
    "\n",
    "for year, df in zip(years, know_test):\n",
    "    print(year)\n",
    "    encoders = {}\n",
    "    \n",
    "    for col in df.columns:\n",
    "        \n",
    "        try:\n",
    "            df[col] = df[col].map(int)\n",
    "        except:\n",
    "            encoder = year_encoder[year][col]\n",
    "            df[col] = df[col].map(str)\n",
    "            category_map = {category: idx for idx, category in enumerate(encoder.classes_)}\n",
    "            df[col] = df[col].apply(lambda x: category_map[x] if x in category_map else -1) # train set에서 보지못한 카테고리변수 -1(UNK) 처리\n",
    "            \n",
    "            "
   ]
  },
  {
   "cell_type": "markdown",
   "id": "d6afdec0-c8ac-400d-8d4e-cd3a29bd7e50",
   "metadata": {},
   "source": [
    "### 데이터 처리 및 라벨인코딩 후 "
   ]
  },
  {
   "cell_type": "code",
   "execution_count": 13,
   "id": "2a8e4776-d73b-46ab-893d-4c57094d3a54",
   "metadata": {},
   "outputs": [
    {
     "data": {
      "text/plain": [
       "3    3116\n",
       "4    3007\n",
       "2    1706\n",
       "5    1072\n",
       "1     585\n",
       "Name: aq1_1, dtype: int64"
      ]
     },
     "execution_count": 13,
     "metadata": {},
     "output_type": "execute_result"
    }
   ],
   "source": [
    "know_train[0]['aq1_1'].value_counts()"
   ]
  },
  {
   "cell_type": "code",
   "execution_count": 14,
   "id": "76c0fe94-f731-49c5-b47e-3b380e238448",
   "metadata": {},
   "outputs": [
    {
     "data": {
      "text/html": [
       "<div>\n",
       "<style scoped>\n",
       "    .dataframe tbody tr th:only-of-type {\n",
       "        vertical-align: middle;\n",
       "    }\n",
       "\n",
       "    .dataframe tbody tr th {\n",
       "        vertical-align: top;\n",
       "    }\n",
       "\n",
       "    .dataframe thead th {\n",
       "        text-align: right;\n",
       "    }\n",
       "</style>\n",
       "<table border=\"1\" class=\"dataframe\">\n",
       "  <thead>\n",
       "    <tr style=\"text-align: right;\">\n",
       "      <th></th>\n",
       "      <th>idx</th>\n",
       "      <th>aq1_1</th>\n",
       "      <th>aq1_2</th>\n",
       "      <th>aq2_1</th>\n",
       "      <th>aq2_2</th>\n",
       "      <th>aq3_1</th>\n",
       "      <th>aq3_2</th>\n",
       "      <th>aq4_1</th>\n",
       "      <th>aq4_2</th>\n",
       "      <th>aq5_1</th>\n",
       "      <th>...</th>\n",
       "      <th>bq36</th>\n",
       "      <th>bq37</th>\n",
       "      <th>bq38</th>\n",
       "      <th>bq38_1</th>\n",
       "      <th>bq39_1</th>\n",
       "      <th>bq39_2</th>\n",
       "      <th>bq40</th>\n",
       "      <th>bq41_1</th>\n",
       "      <th>bq41_2</th>\n",
       "      <th>bq41_3</th>\n",
       "    </tr>\n",
       "  </thead>\n",
       "  <tbody>\n",
       "    <tr>\n",
       "      <th>0</th>\n",
       "      <td>0</td>\n",
       "      <td>3</td>\n",
       "      <td>4</td>\n",
       "      <td>2</td>\n",
       "      <td>2</td>\n",
       "      <td>3</td>\n",
       "      <td>3</td>\n",
       "      <td>1</td>\n",
       "      <td>0</td>\n",
       "      <td>3</td>\n",
       "      <td>...</td>\n",
       "      <td>2</td>\n",
       "      <td>26</td>\n",
       "      <td>3</td>\n",
       "      <td>497</td>\n",
       "      <td>1</td>\n",
       "      <td>1</td>\n",
       "      <td>1</td>\n",
       "      <td>3000</td>\n",
       "      <td>0</td>\n",
       "      <td>2300</td>\n",
       "    </tr>\n",
       "    <tr>\n",
       "      <th>1</th>\n",
       "      <td>1</td>\n",
       "      <td>5</td>\n",
       "      <td>5</td>\n",
       "      <td>3</td>\n",
       "      <td>5</td>\n",
       "      <td>5</td>\n",
       "      <td>5</td>\n",
       "      <td>5</td>\n",
       "      <td>5</td>\n",
       "      <td>4</td>\n",
       "      <td>...</td>\n",
       "      <td>1</td>\n",
       "      <td>57</td>\n",
       "      <td>4</td>\n",
       "      <td>287</td>\n",
       "      <td>1</td>\n",
       "      <td>1</td>\n",
       "      <td>1</td>\n",
       "      <td>5500</td>\n",
       "      <td>0</td>\n",
       "      <td>2500</td>\n",
       "    </tr>\n",
       "    <tr>\n",
       "      <th>2</th>\n",
       "      <td>2</td>\n",
       "      <td>5</td>\n",
       "      <td>5</td>\n",
       "      <td>5</td>\n",
       "      <td>4</td>\n",
       "      <td>5</td>\n",
       "      <td>4</td>\n",
       "      <td>1</td>\n",
       "      <td>0</td>\n",
       "      <td>1</td>\n",
       "      <td>...</td>\n",
       "      <td>1</td>\n",
       "      <td>31</td>\n",
       "      <td>4</td>\n",
       "      <td>705</td>\n",
       "      <td>1</td>\n",
       "      <td>1</td>\n",
       "      <td>1</td>\n",
       "      <td>4300</td>\n",
       "      <td>0</td>\n",
       "      <td>4000</td>\n",
       "    </tr>\n",
       "    <tr>\n",
       "      <th>3</th>\n",
       "      <td>3</td>\n",
       "      <td>4</td>\n",
       "      <td>5</td>\n",
       "      <td>5</td>\n",
       "      <td>6</td>\n",
       "      <td>4</td>\n",
       "      <td>6</td>\n",
       "      <td>3</td>\n",
       "      <td>4</td>\n",
       "      <td>4</td>\n",
       "      <td>...</td>\n",
       "      <td>1</td>\n",
       "      <td>35</td>\n",
       "      <td>6</td>\n",
       "      <td>1423</td>\n",
       "      <td>1</td>\n",
       "      <td>1</td>\n",
       "      <td>1</td>\n",
       "      <td>4100</td>\n",
       "      <td>0</td>\n",
       "      <td>3000</td>\n",
       "    </tr>\n",
       "    <tr>\n",
       "      <th>4</th>\n",
       "      <td>4</td>\n",
       "      <td>5</td>\n",
       "      <td>6</td>\n",
       "      <td>4</td>\n",
       "      <td>5</td>\n",
       "      <td>4</td>\n",
       "      <td>5</td>\n",
       "      <td>1</td>\n",
       "      <td>0</td>\n",
       "      <td>1</td>\n",
       "      <td>...</td>\n",
       "      <td>1</td>\n",
       "      <td>36</td>\n",
       "      <td>4</td>\n",
       "      <td>141</td>\n",
       "      <td>1</td>\n",
       "      <td>1</td>\n",
       "      <td>1</td>\n",
       "      <td>2800</td>\n",
       "      <td>0</td>\n",
       "      <td>2000</td>\n",
       "    </tr>\n",
       "  </tbody>\n",
       "</table>\n",
       "<p>5 rows × 155 columns</p>\n",
       "</div>"
      ],
      "text/plain": [
       "   idx  aq1_1  aq1_2  aq2_1  aq2_2  aq3_1  aq3_2  aq4_1  aq4_2  aq5_1  ...  \\\n",
       "0    0      3      4      2      2      3      3      1      0      3  ...   \n",
       "1    1      5      5      3      5      5      5      5      5      4  ...   \n",
       "2    2      5      5      5      4      5      4      1      0      1  ...   \n",
       "3    3      4      5      5      6      4      6      3      4      4  ...   \n",
       "4    4      5      6      4      5      4      5      1      0      1  ...   \n",
       "\n",
       "   bq36  bq37  bq38  bq38_1  bq39_1  bq39_2  bq40  bq41_1  bq41_2  bq41_3  \n",
       "0     2    26     3     497       1       1     1    3000       0    2300  \n",
       "1     1    57     4     287       1       1     1    5500       0    2500  \n",
       "2     1    31     4     705       1       1     1    4300       0    4000  \n",
       "3     1    35     6    1423       1       1     1    4100       0    3000  \n",
       "4     1    36     4     141       1       1     1    2800       0    2000  \n",
       "\n",
       "[5 rows x 155 columns]"
      ]
     },
     "execution_count": 14,
     "metadata": {},
     "output_type": "execute_result"
    }
   ],
   "source": [
    "know_test[0].head() # 2017년도 test 샘플"
   ]
  },
  {
   "cell_type": "markdown",
   "id": "cd8d7ba5-fa28-4139-b1f0-35bf96ea2119",
   "metadata": {},
   "source": [
    "## 테스트셋 추출 및 학습\n",
    "\n",
    "ID 값을 제외한 나머지 데이터를 이용하여 모델에 넣어 추론합니다."
   ]
  },
  {
   "cell_type": "code",
   "execution_count": 15,
   "id": "46494a33-fc1c-4a7f-ac11-e3e167bd8a32",
   "metadata": {},
   "outputs": [],
   "source": [
    "test_data = {}\n",
    "for year, df in zip(years, know_test):\n",
    "    test_data[year] =  {'X': df.iloc[:,1:]}"
   ]
  },
  {
   "cell_type": "markdown",
   "id": "4e81f76f-27fe-4954-a87a-c3b3878f1a3a",
   "metadata": {},
   "source": [
    "### 의사결정나무로 예측"
   ]
  },
  {
   "cell_type": "code",
   "execution_count": 16,
   "id": "c5699345-c978-4e26-86fd-b2ced1cbb7d5",
   "metadata": {},
   "outputs": [
    {
     "name": "stderr",
     "output_type": "stream",
     "text": [
      "100%|██████████| 4/4 [00:00<00:00, 16.97it/s]\n"
     ]
    }
   ],
   "source": [
    "dt_predicts = [] \n",
    "\n",
    "for year in tqdm(years):\n",
    "    pred = dt_models[year].predict(test_data[year]['X'])\n",
    "    dt_predicts.extend(pred)\n",
    "    \n",
    "    "
   ]
  },
  {
   "cell_type": "markdown",
   "id": "17f03b83-588c-45af-a4be-bd5979aec64c",
   "metadata": {},
   "source": [
    "### 랜덤포레스트로 예측"
   ]
  },
  {
   "cell_type": "code",
   "execution_count": 17,
   "id": "d82bc04e-de7c-4fbe-9433-083b6f630fe5",
   "metadata": {},
   "outputs": [
    {
     "name": "stderr",
     "output_type": "stream",
     "text": [
      "100%|██████████| 4/4 [00:04<00:00,  1.25s/it]\n"
     ]
    }
   ],
   "source": [
    "rf_predicts = [] \n",
    "\n",
    "for year in tqdm(years):\n",
    "    pred = rf_models[year].predict(test_data[year]['X'])\n",
    "    rf_predicts.extend(pred)"
   ]
  },
  {
   "cell_type": "markdown",
   "id": "4ae4dc8a-58e6-4807-9dce-bb7346c2c969",
   "metadata": {},
   "source": [
    "# 제출"
   ]
  },
  {
   "cell_type": "code",
   "execution_count": 18,
   "id": "afc91acf-ff0e-4a09-9638-0faf508f40b3",
   "metadata": {},
   "outputs": [],
   "source": [
    "submission = pd.read_csv('sample_submission.csv') # sample submission 불러오기"
   ]
  },
  {
   "cell_type": "code",
   "execution_count": 19,
   "id": "7f955d68-67c1-4ad1-bc19-77511c6b557f",
   "metadata": {},
   "outputs": [],
   "source": [
    "submission['knowcode'] = rf_predicts\n",
    "\n",
    "submission.to_csv('submission.csv', index=False)"
   ]
  }
 ],
 "metadata": {
  "kernelspec": {
   "display_name": "moonjong",
   "language": "python",
   "name": "moonjong"
  },
  "language_info": {
   "codemirror_mode": {
    "name": "ipython",
    "version": 3
   },
   "file_extension": ".py",
   "mimetype": "text/x-python",
   "name": "python",
   "nbconvert_exporter": "python",
   "pygments_lexer": "ipython3",
   "version": "3.8.12"
  }
 },
 "nbformat": 4,
 "nbformat_minor": 5
}
