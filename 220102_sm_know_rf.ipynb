{
  "nbformat": 4,
  "nbformat_minor": 0,
  "metadata": {
    "colab": {
      "name": "know_rf.ipynb",
      "provenance": [],
      "collapsed_sections": [],
      "machine_shape": "hm",
      "authorship_tag": "ABX9TyMtVH9sLMna03SA1e9u9CHI",
      "include_colab_link": true
    },
    "kernelspec": {
      "name": "python3",
      "display_name": "Python 3"
    },
    "language_info": {
      "name": "python"
    }
  },
  "cells": [
    {
      "cell_type": "markdown",
      "metadata": {
        "id": "view-in-github",
        "colab_type": "text"
      },
      "source": [
        "<a href=\"https://colab.research.google.com/github/teamgaon/recommendation_algorithms_know/blob/main/220102_sm_know_rf.ipynb\" target=\"_parent\"><img src=\"https://colab.research.google.com/assets/colab-badge.svg\" alt=\"Open In Colab\"/></a>"
      ]
    },
    {
      "cell_type": "code",
      "execution_count": 1,
      "metadata": {
        "colab": {
          "base_uri": "https://localhost:8080/"
        },
        "id": "36EXB00asvXh",
        "outputId": "469ce824-56ae-458c-81a4-b31c5971bacc"
      },
      "outputs": [
        {
          "output_type": "stream",
          "name": "stdout",
          "text": [
            "Collecting kobert_tokenizer\n",
            "  Cloning https://github.com/SKTBrain/KoBERT.git to /tmp/pip-install-3cxbdpqq/kobert-tokenizer_d289d28917de4f1dbcb658f324c019dc\n",
            "  Running command git clone -q https://github.com/SKTBrain/KoBERT.git /tmp/pip-install-3cxbdpqq/kobert-tokenizer_d289d28917de4f1dbcb658f324c019dc\n"
          ]
        }
      ],
      "source": [
        "# !pip install gluonnlp\n",
        "# !pip install mxnet\n",
        "!pip install 'git+https://github.com/SKTBrain/KoBERT.git#egg=kobert_tokenizer&subdirectory=kobert_hf'\n",
        "# !pip install git+https://git@github.com/SKTBrain/KoBERT.git@master\n",
        "# !pip install transformers\n",
        "# !pip install sentencepiece\n",
        "# !pip install kobert-transformers\n",
        "# !pip install git+https://git@github.com/SKTBrain/KoBERT.git@master"
      ]
    },
    {
      "cell_type": "code",
      "source": [
        "# import torch\n",
        "# from torch import nn\n",
        "# import torch.nn.functional as F\n",
        "# import torch.optim as optim\n",
        "# from torch.utils.data import Dataset, DataLoader\n",
        "# import gluonnlp as nlp\n",
        "import numpy as np\n",
        "from tqdm.notebook import tqdm\n",
        "import pandas as pd\n",
        "# from kobert.utils import get_tokenizer\n",
        "# from kobert.pytorch_kobert import get_pytorch_kobert_model\n",
        "# from transformers import AdamW\n",
        "# from transformers.optimization import get_cosine_schedule_with_warmup\n",
        "from kobert_tokenizer import KoBERTTokenizer\n",
        "from sklearn.model_selection import train_test_split\n",
        "from google.colab import drive\n",
        "import matplotlib.pyplot as plt\n",
        "from sklearn.ensemble import RandomForestClassifier"
      ],
      "metadata": {
        "id": "B66Axinqsz67"
      },
      "execution_count": 2,
      "outputs": []
    },
    {
      "cell_type": "code",
      "source": [
        "import pandas as pd\n",
        "from glob import glob\n",
        "from tqdm import tqdm\n",
        "import warnings"
      ],
      "metadata": {
        "id": "y4BkWxKes6d2"
      },
      "execution_count": 3,
      "outputs": []
    },
    {
      "cell_type": "code",
      "source": [
        "drive.mount('/content/gdrive')"
      ],
      "metadata": {
        "colab": {
          "base_uri": "https://localhost:8080/"
        },
        "id": "kbFTsrKts09n",
        "outputId": "6e3b1d80-3e68-4d2a-8434-9ced77056876"
      },
      "execution_count": 4,
      "outputs": [
        {
          "output_type": "stream",
          "name": "stdout",
          "text": [
            "Drive already mounted at /content/gdrive; to attempt to forcibly remount, call drive.mount(\"/content/gdrive\", force_remount=True).\n"
          ]
        }
      ]
    },
    {
      "cell_type": "code",
      "source": [
        "tokenizer = KoBERTTokenizer.from_pretrained('skt/kobert-base-v1')"
      ],
      "metadata": {
        "colab": {
          "base_uri": "https://localhost:8080/"
        },
        "id": "PBgrQ7sTt3Mx",
        "outputId": "35b2e90b-7b6c-4e7d-adcb-cb76569ab8fc"
      },
      "execution_count": 5,
      "outputs": [
        {
          "output_type": "stream",
          "name": "stderr",
          "text": [
            "The tokenizer class you load from this checkpoint is not the same type as the class this function is called from. It may result in unexpected tokenization. \n",
            "The tokenizer class you load from this checkpoint is 'XLNetTokenizer'. \n",
            "The class this function is called from is 'KoBERTTokenizer'.\n"
          ]
        }
      ]
    },
    {
      "cell_type": "code",
      "source": [
        "warnings.filterwarnings(action='ignore') \n",
        "know_train = [pd.read_csv(path) for path in sorted(glob('/content/gdrive/MyDrive/know/train/*.csv'))]\n",
        "know_test = [pd.read_csv(path) for path in sorted(glob('/content/gdrive/MyDrive/know/test/*.csv'))]"
      ],
      "metadata": {
        "id": "1d73YsGhs9FW"
      },
      "execution_count": 33,
      "outputs": []
    },
    {
      "cell_type": "code",
      "source": [
        "for df in know_train:\n",
        "    for col in df.columns:\n",
        "        df[col].replace(' ', '0', inplace=True)"
      ],
      "metadata": {
        "id": "OVCJL3igtnpH"
      },
      "execution_count": 34,
      "outputs": []
    },
    {
      "cell_type": "code",
      "source": [
        "for df in know_test:\n",
        "    for col in df.columns:\n",
        "        df[col].replace(' ', '0', inplace=True)"
      ],
      "metadata": {
        "id": "PeKrB2ey3DUR"
      },
      "execution_count": 35,
      "outputs": []
    },
    {
      "cell_type": "code",
      "source": [
        "def text_to_token(df:pd.DataFrame):\n",
        "  input_ids = list()\n",
        "\n",
        "  for i in range(len(df)):\n",
        "    temp = tokenizer.encode_plus(df['text'].loc[i], add_special_tokens=True,\n",
        "            pad_to_max_length=True,\n",
        "            return_attention_mask = True, \n",
        "            return_token_type_ids=True,\n",
        "            truncation=True)\n",
        "    input_ids.append(temp['input_ids'])\n",
        "\n",
        "  return input_ids"
      ],
      "metadata": {
        "id": "tgzPujtrt_-A"
      },
      "execution_count": 36,
      "outputs": []
    },
    {
      "cell_type": "code",
      "source": [
        "years = ['2017', '2018', '2019', '2020']\n",
        "\n",
        "rf_predicts = []\n",
        "\n",
        "for year, train, test in zip(years, know_train, know_test):\n",
        "    print(year)\n",
        "    cols = []\n",
        "    for col in train.columns:\n",
        "        if col == 'ID':\n",
        "            continue\n",
        "        try:\n",
        "            train[col] = train[col].map(int)\n",
        "        except:\n",
        "            train[col] =  train[col].map(str)\n",
        "            cols.append(col)\n",
        "    text = ''\n",
        "    for col in cols:\n",
        "      text += train[col] + ' '\n",
        "    train['text'] = text\n",
        "    train['input_ids'] = text_to_token(train)\n",
        "    max_len = int((train['input_ids'].map(len).mean() + train['input_ids'].map(len).max())/3)\n",
        "    def ids_to_trunc(text:list):\n",
        "      if len(text) < max_len:\n",
        "        return text\n",
        "      else:\n",
        "        return text[:max_len]\n",
        "\n",
        "    train['input_ids'] = train['input_ids'].map(ids_to_trunc)\n",
        "    for sentence in train['input_ids']: # 각 문장에 대해서\n",
        "      while len(sentence) < max_len: # max_len보다 작으면\n",
        "          sentence.append(0)\n",
        "    train = pd.concat([train, pd.DataFrame(train['input_ids'].to_list(), columns=range(max_len))], axis=1)\n",
        "    feature = train.columns.drop(['idx', 'knowcode', 'text', 'input_ids'])\n",
        "    feature = feature.drop(cols)\n",
        "    model = RandomForestClassifier(n_estimators=100, random_state=123456, n_jobs=8)\n",
        "    model.fit(train[feature], train['knowcode'])\n",
        "\n",
        "    for col in cols:\n",
        "      test[col] =  test[col].map(str)\n",
        "\n",
        "    text = ''\n",
        "    for col in cols:\n",
        "      text += test[col] + ' '\n",
        "    test['text'] = text\n",
        "    test['input_ids'] = text_to_token(test)\n",
        "    def ids_to_trunc(text:list):\n",
        "      if len(text) < max_len:\n",
        "        return text\n",
        "      else:\n",
        "        return text[:max_len]\n",
        "\n",
        "    test['input_ids'] = test['input_ids'].map(ids_to_trunc)\n",
        "    for sentence in test['input_ids']: # 각 문장에 대해서\n",
        "      while len(sentence) < max_len: # max_len보다 작으면\n",
        "          sentence.append(0)\n",
        "    test = pd.concat([test, pd.DataFrame(test['input_ids'].to_list(), columns=range(max_len))], axis=1)\n",
        "    feature = test.columns.drop(['idx', 'text', 'input_ids'])\n",
        "    feature = feature.drop(cols)\n",
        "    pred = model.predict(test[feature])\n",
        "    rf_predicts.extend(pred)"
      ],
      "metadata": {
        "colab": {
          "base_uri": "https://localhost:8080/"
        },
        "id": "Z6CcXZ4CtplY",
        "outputId": "ec276f47-0907-437a-a295-3b3bb215b243"
      },
      "execution_count": 37,
      "outputs": [
        {
          "output_type": "stream",
          "name": "stdout",
          "text": [
            "2017\n",
            "2018\n",
            "2019\n",
            "2020\n"
          ]
        }
      ]
    },
    {
      "cell_type": "code",
      "source": [
        "submission = pd.read_csv('/content/gdrive/MyDrive/know/sample_submission.csv') # sample submission 불러오기"
      ],
      "metadata": {
        "id": "7WJ2Y9ahyPMx"
      },
      "execution_count": 38,
      "outputs": []
    },
    {
      "cell_type": "code",
      "source": [
        "submission['knowcode'] = rf_predicts"
      ],
      "metadata": {
        "id": "cUaA6pW5yHDM"
      },
      "execution_count": 39,
      "outputs": []
    },
    {
      "cell_type": "code",
      "source": [
        "submission"
      ],
      "metadata": {
        "colab": {
          "base_uri": "https://localhost:8080/",
          "height": 424
        },
        "id": "B1fnPIz765RD",
        "outputId": "5379dda1-117a-4d9c-d91b-165e4a0a7126"
      },
      "execution_count": 40,
      "outputs": [
        {
          "output_type": "execute_result",
          "data": {
            "text/html": [
              "\n",
              "  <div id=\"df-74d65308-7fc3-43ed-9f04-312819f7e627\">\n",
              "    <div class=\"colab-df-container\">\n",
              "      <div>\n",
              "<style scoped>\n",
              "    .dataframe tbody tr th:only-of-type {\n",
              "        vertical-align: middle;\n",
              "    }\n",
              "\n",
              "    .dataframe tbody tr th {\n",
              "        vertical-align: top;\n",
              "    }\n",
              "\n",
              "    .dataframe thead th {\n",
              "        text-align: right;\n",
              "    }\n",
              "</style>\n",
              "<table border=\"1\" class=\"dataframe\">\n",
              "  <thead>\n",
              "    <tr style=\"text-align: right;\">\n",
              "      <th></th>\n",
              "      <th>idx</th>\n",
              "      <th>knowcode</th>\n",
              "    </tr>\n",
              "  </thead>\n",
              "  <tbody>\n",
              "    <tr>\n",
              "      <th>0</th>\n",
              "      <td>0</td>\n",
              "      <td>29401</td>\n",
              "    </tr>\n",
              "    <tr>\n",
              "      <th>1</th>\n",
              "      <td>1</td>\n",
              "      <td>28402</td>\n",
              "    </tr>\n",
              "    <tr>\n",
              "      <th>2</th>\n",
              "      <td>2</td>\n",
              "      <td>26101</td>\n",
              "    </tr>\n",
              "    <tr>\n",
              "      <th>3</th>\n",
              "      <td>3</td>\n",
              "      <td>121102</td>\n",
              "    </tr>\n",
              "    <tr>\n",
              "      <th>4</th>\n",
              "      <td>4</td>\n",
              "      <td>412003</td>\n",
              "    </tr>\n",
              "    <tr>\n",
              "      <th>...</th>\n",
              "      <td>...</td>\n",
              "      <td>...</td>\n",
              "    </tr>\n",
              "    <tr>\n",
              "      <th>35226</th>\n",
              "      <td>35244</td>\n",
              "      <td>822301</td>\n",
              "    </tr>\n",
              "    <tr>\n",
              "      <th>35227</th>\n",
              "      <td>35245</td>\n",
              "      <td>29303</td>\n",
              "    </tr>\n",
              "    <tr>\n",
              "      <th>35228</th>\n",
              "      <td>35246</td>\n",
              "      <td>833001</td>\n",
              "    </tr>\n",
              "    <tr>\n",
              "      <th>35229</th>\n",
              "      <td>35247</td>\n",
              "      <td>140101</td>\n",
              "    </tr>\n",
              "    <tr>\n",
              "      <th>35230</th>\n",
              "      <td>35248</td>\n",
              "      <td>152201</td>\n",
              "    </tr>\n",
              "  </tbody>\n",
              "</table>\n",
              "<p>35231 rows × 2 columns</p>\n",
              "</div>\n",
              "      <button class=\"colab-df-convert\" onclick=\"convertToInteractive('df-74d65308-7fc3-43ed-9f04-312819f7e627')\"\n",
              "              title=\"Convert this dataframe to an interactive table.\"\n",
              "              style=\"display:none;\">\n",
              "        \n",
              "  <svg xmlns=\"http://www.w3.org/2000/svg\" height=\"24px\"viewBox=\"0 0 24 24\"\n",
              "       width=\"24px\">\n",
              "    <path d=\"M0 0h24v24H0V0z\" fill=\"none\"/>\n",
              "    <path d=\"M18.56 5.44l.94 2.06.94-2.06 2.06-.94-2.06-.94-.94-2.06-.94 2.06-2.06.94zm-11 1L8.5 8.5l.94-2.06 2.06-.94-2.06-.94L8.5 2.5l-.94 2.06-2.06.94zm10 10l.94 2.06.94-2.06 2.06-.94-2.06-.94-.94-2.06-.94 2.06-2.06.94z\"/><path d=\"M17.41 7.96l-1.37-1.37c-.4-.4-.92-.59-1.43-.59-.52 0-1.04.2-1.43.59L10.3 9.45l-7.72 7.72c-.78.78-.78 2.05 0 2.83L4 21.41c.39.39.9.59 1.41.59.51 0 1.02-.2 1.41-.59l7.78-7.78 2.81-2.81c.8-.78.8-2.07 0-2.86zM5.41 20L4 18.59l7.72-7.72 1.47 1.35L5.41 20z\"/>\n",
              "  </svg>\n",
              "      </button>\n",
              "      \n",
              "  <style>\n",
              "    .colab-df-container {\n",
              "      display:flex;\n",
              "      flex-wrap:wrap;\n",
              "      gap: 12px;\n",
              "    }\n",
              "\n",
              "    .colab-df-convert {\n",
              "      background-color: #E8F0FE;\n",
              "      border: none;\n",
              "      border-radius: 50%;\n",
              "      cursor: pointer;\n",
              "      display: none;\n",
              "      fill: #1967D2;\n",
              "      height: 32px;\n",
              "      padding: 0 0 0 0;\n",
              "      width: 32px;\n",
              "    }\n",
              "\n",
              "    .colab-df-convert:hover {\n",
              "      background-color: #E2EBFA;\n",
              "      box-shadow: 0px 1px 2px rgba(60, 64, 67, 0.3), 0px 1px 3px 1px rgba(60, 64, 67, 0.15);\n",
              "      fill: #174EA6;\n",
              "    }\n",
              "\n",
              "    [theme=dark] .colab-df-convert {\n",
              "      background-color: #3B4455;\n",
              "      fill: #D2E3FC;\n",
              "    }\n",
              "\n",
              "    [theme=dark] .colab-df-convert:hover {\n",
              "      background-color: #434B5C;\n",
              "      box-shadow: 0px 1px 3px 1px rgba(0, 0, 0, 0.15);\n",
              "      filter: drop-shadow(0px 1px 2px rgba(0, 0, 0, 0.3));\n",
              "      fill: #FFFFFF;\n",
              "    }\n",
              "  </style>\n",
              "\n",
              "      <script>\n",
              "        const buttonEl =\n",
              "          document.querySelector('#df-74d65308-7fc3-43ed-9f04-312819f7e627 button.colab-df-convert');\n",
              "        buttonEl.style.display =\n",
              "          google.colab.kernel.accessAllowed ? 'block' : 'none';\n",
              "\n",
              "        async function convertToInteractive(key) {\n",
              "          const element = document.querySelector('#df-74d65308-7fc3-43ed-9f04-312819f7e627');\n",
              "          const dataTable =\n",
              "            await google.colab.kernel.invokeFunction('convertToInteractive',\n",
              "                                                     [key], {});\n",
              "          if (!dataTable) return;\n",
              "\n",
              "          const docLinkHtml = 'Like what you see? Visit the ' +\n",
              "            '<a target=\"_blank\" href=https://colab.research.google.com/notebooks/data_table.ipynb>data table notebook</a>'\n",
              "            + ' to learn more about interactive tables.';\n",
              "          element.innerHTML = '';\n",
              "          dataTable['output_type'] = 'display_data';\n",
              "          await google.colab.output.renderOutput(dataTable, element);\n",
              "          const docLink = document.createElement('div');\n",
              "          docLink.innerHTML = docLinkHtml;\n",
              "          element.appendChild(docLink);\n",
              "        }\n",
              "      </script>\n",
              "    </div>\n",
              "  </div>\n",
              "  "
            ],
            "text/plain": [
              "         idx  knowcode\n",
              "0          0     29401\n",
              "1          1     28402\n",
              "2          2     26101\n",
              "3          3    121102\n",
              "4          4    412003\n",
              "...      ...       ...\n",
              "35226  35244    822301\n",
              "35227  35245     29303\n",
              "35228  35246    833001\n",
              "35229  35247    140101\n",
              "35230  35248    152201\n",
              "\n",
              "[35231 rows x 2 columns]"
            ]
          },
          "metadata": {},
          "execution_count": 40
        }
      ]
    },
    {
      "cell_type": "code",
      "source": [
        "submission.to_csv('submission.csv', index=False)"
      ],
      "metadata": {
        "id": "A_-NjJnZyQ7s"
      },
      "execution_count": 41,
      "outputs": []
    },
    {
      "cell_type": "markdown",
      "source": [
        "## 할일:\n",
        "칼럼 매칭\n",
        "칼럼이 뭔가 뒤죽박죽인 느낌임"
      ],
      "metadata": {
        "id": "dakgZIkR6Iy9"
      }
    },
    {
      "cell_type": "markdown",
      "source": [
        "## 내가 할일:\n",
        "카테고리컬 텍스트 : 비서학, 농화학, 신문방송\n",
        "\n",
        "그냥 텍스트 : 수송 수요가 줄어서\n",
        "\n",
        "구분하기"
      ],
      "metadata": {
        "id": "AkWv-mgL7zrg"
      }
    }
  ]
}