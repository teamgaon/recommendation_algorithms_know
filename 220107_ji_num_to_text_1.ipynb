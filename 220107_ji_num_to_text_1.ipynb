{
  "nbformat": 4,
  "nbformat_minor": 0,
  "metadata": {
    "colab": {
      "name": "Untitled16.ipynb",
      "provenance": [],
      "authorship_tag": "ABX9TyOyo0i7W5VHRG76V89dlOIm",
      "include_colab_link": true
    },
    "kernelspec": {
      "name": "python3",
      "display_name": "Python 3"
    },
    "language_info": {
      "name": "python"
    }
  },
  "cells": [
    {
      "cell_type": "markdown",
      "metadata": {
        "id": "view-in-github",
        "colab_type": "text"
      },
      "source": [
        "<a href=\"https://colab.research.google.com/github/teamgaon/recommendation_algorithms_know/blob/main/220107_ji_num_to_text_1.ipynb\" target=\"_parent\"><img src=\"https://colab.research.google.com/assets/colab-badge.svg\" alt=\"Open In Colab\"/></a>"
      ]
    },
    {
      "cell_type": "code",
      "execution_count": 1,
      "metadata": {
        "id": "sWQAWuD3aqR1"
      },
      "outputs": [],
      "source": [
        "import matplotlib.pyplot as plt\n",
        "plt.rc('font', family='NanumBarunGothic') \n",
        "import tensorflow as tf\n",
        "import keras\n",
        "from numpy import array\n",
        "import pandas as pd\n",
        "from google.colab import drive\n",
        "import matplotlib.pyplot as plt\n",
        "import numpy as np\n",
        "import math\n",
        "import matplotlib as mpl\n",
        "from IPython.core.display import display, HTML\n",
        "from datetime import datetime\n",
        "from datetime import timedelta\n",
        "from dateutil.relativedelta import relativedelta\n",
        "from sklearn.preprocessing import MinMaxScaler, RobustScaler\n",
        "from sklearn.model_selection import train_test_split\n",
        "from sklearn.metrics import mean_squared_error, r2_score, mean_absolute_error, f1_score\n",
        "from tensorflow.keras import Sequential\n",
        "from tensorflow.keras import layers\n",
        "from tensorflow.keras.layers import Dense, LSTM, Dropout\n",
        "from keras.callbacks import ModelCheckpoint, EarlyStopping\n",
        "import urllib.request\n",
        "import json\n",
        "import datetime\n",
        "import os\n",
        "from datetime import datetime\n",
        "from tqdm import tqdm\n",
        "import warnings\n",
        "from glob import glob\n"
      ]
    },
    {
      "cell_type": "code",
      "source": [
        "drive.mount('/content/gdrive')"
      ],
      "metadata": {
        "colab": {
          "base_uri": "https://localhost:8080/"
        },
        "id": "QXz9mxSSavVc",
        "outputId": "99dfb88f-ff12-496e-b8d9-75c3990502b2"
      },
      "execution_count": 2,
      "outputs": [
        {
          "output_type": "stream",
          "name": "stdout",
          "text": [
            "Mounted at /content/gdrive\n"
          ]
        }
      ]
    },
    {
      "cell_type": "code",
      "source": [
        "warnings.filterwarnings(action='ignore') \n",
        "train1 = pd.read_csv('/content/gdrive/MyDrive/data/know/train/KNOW_2017.csv', encoding='utf-8')\n",
        "train2 = pd.read_csv('/content/gdrive/MyDrive/data/know/train/KNOW_2018.csv', encoding='utf-8')\n",
        "train3 = pd.read_csv('/content/gdrive/MyDrive/data/know/train/KNOW_2019.csv', encoding='utf-8')\n",
        "train4 = pd.read_csv('/content/gdrive/MyDrive/data/know/train/KNOW_2020.csv', encoding='utf-8')\n",
        "\n",
        "test1 = pd.read_csv('/content/gdrive/MyDrive/data/know/test/KNOW_2017_test.csv', encoding='utf-8')\n",
        "test2 = pd.read_csv('/content/gdrive/MyDrive/data/know/test/KNOW_2018_test.csv', encoding='utf-8')\n",
        "test3 = pd.read_csv('/content/gdrive/MyDrive/data/know/test/KNOW_2019_test.csv', encoding='utf-8')\n",
        "test4 = pd.read_csv('/content/gdrive/MyDrive/data/know/test/KNOW_2020_test.csv', encoding='utf-8')\n",
        "\n",
        "submission = pd.read_csv('/content/gdrive/MyDrive/data/know/sample_submission.csv', encoding='utf-8')\n",
        "\n",
        "train2 = train2[train2['idx'] != 18048]\n",
        "train3 = train3[train3['idx'] != 19871]"
      ],
      "metadata": {
        "id": "SbertQtRaw0e"
      },
      "execution_count": 24,
      "outputs": []
    },
    {
      "cell_type": "code",
      "source": [
        "train3['bq1']"
      ],
      "metadata": {
        "colab": {
          "base_uri": "https://localhost:8080/"
        },
        "id": "PhypZbHXcGv0",
        "outputId": "d4081652-853b-4181-d0fe-92e629255820"
      },
      "execution_count": 25,
      "outputs": [
        {
          "output_type": "execute_result",
          "data": {
            "text/plain": [
              "0       15\n",
              "1        8\n",
              "2        1\n",
              "3       15\n",
              "4       19\n",
              "        ..\n",
              "8550    10\n",
              "8551     9\n",
              "8552     7\n",
              "8553    19\n",
              "8554    16\n",
              "Name: bq1, Length: 8554, dtype: int64"
            ]
          },
          "metadata": {},
          "execution_count": 25
        }
      ]
    },
    {
      "cell_type": "code",
      "source": [
        "def bq1_to_text(num:int):\n",
        "  if num == 1:\n",
        "    return '산업유형은 농업, 임업, 어업.'\n",
        "  elif num == 2:\n",
        "    return '산업유형은 광업.'\n",
        "  elif num == 3:\n",
        "    return '산업유형은 제조업.'\n",
        "  elif num == 4:\n",
        "    return '산업유형은 전기, 가스, 증기 및 공기조절 공급업.'\n",
        "  elif num == 5:\n",
        "    return '산업유형은 수도·하수·폐기물 처리, 원료재생업.'\n",
        "  elif num == 6:\n",
        "    return '산업유형은 건설업.'\n",
        "  elif num == 7:\n",
        "    return '산업유형은 도매 및 소매업.'\n",
        "  elif num == 8:\n",
        "    return '산업유형은 운수 및 창고업.'\n",
        "  elif num == 9:\n",
        "    return '산업유형은 숙박 및 음식점업.'\n",
        "  elif num == 10:\n",
        "    return '산업유형은 정보통신업.'\n",
        "  elif num == 11:\n",
        "    return '산업유형은 금융 및 보험업.'\n",
        "  elif num == 12:\n",
        "    return '산업유형은 부동산업.'\n",
        "  elif num == 13:\n",
        "    return '산업유형은 전문, 과학 및 기술 서비스업.'\n",
        "  elif num == 14:\n",
        "    return '산업유형은 사업시설 관리, 사업지원 및 임대 서비스업.'\n",
        "  elif num == 15:\n",
        "    return '산업유형은 공공행정, 국방 및 사회보장 행정.'\n",
        "  elif num == 16:\n",
        "    return '산업유형은 교육 서비스업.'\n",
        "  elif num == 17:\n",
        "    return '산업유형은 보건업 및 사회복지 서비스업.'\n",
        "  elif num == 18:\n",
        "    return '산업유형은 예술, 스포츠 및 여가관련 서비스업.'\n",
        "  elif num == 19:\n",
        "    return '산업유형은 협회 및 단체, 수리 및 기타 개인 서비스업.'\n",
        "  elif num == 20:\n",
        "    return '산업유형은 가구내 고용활동 및 달리 분류되지 않은 자가소비 생산활동.'\n",
        "  elif num == 21:\n",
        "    return '산업유형은 국제 및 외국기관.'\n",
        "\n",
        "train3['bq1'] = train3['bq1'].map(bq1_to_text)"
      ],
      "metadata": {
        "id": "zDHjBB8Ia9Zu"
      },
      "execution_count": 26,
      "outputs": []
    },
    {
      "cell_type": "code",
      "source": [
        "train3['bq1']"
      ],
      "metadata": {
        "colab": {
          "base_uri": "https://localhost:8080/"
        },
        "id": "aqwZOdlQb6Y0",
        "outputId": "93f86e9f-0a5e-4b75-969a-916860e87ef3"
      },
      "execution_count": 27,
      "outputs": [
        {
          "output_type": "execute_result",
          "data": {
            "text/plain": [
              "0             산업유형은 공공행정, 국방 및 사회보장 행정.\n",
              "1                       산업유형은 운수 및 창고업.\n",
              "2                     산업유형은 농업, 임업, 어업.\n",
              "3             산업유형은 공공행정, 국방 및 사회보장 행정.\n",
              "4       산업유형은 협회 및 단체, 수리 및 기타 개인 서비스업.\n",
              "                     ...               \n",
              "8550                       산업유형은 정보통신업.\n",
              "8551                   산업유형은 숙박 및 음식점업.\n",
              "8552                    산업유형은 도매 및 소매업.\n",
              "8553    산업유형은 협회 및 단체, 수리 및 기타 개인 서비스업.\n",
              "8554                     산업유형은 교육 서비스업.\n",
              "Name: bq1, Length: 8554, dtype: object"
            ]
          },
          "metadata": {},
          "execution_count": 27
        }
      ]
    },
    {
      "cell_type": "code",
      "source": [
        "def bq2_to_text(num:int):\n",
        "  if num == 1:\n",
        "    return '근무업체 유형은 민간회사 또는 개인사업체(외국인회사 포함).'\n",
        "  elif num == 2:\n",
        "    return '근무업체 유형은 정부기관 및 산하기관(공기업 포함).'\n",
        "  elif num == 3:\n",
        "    return '근무업체 유형은 (재단, 사단)법인단체.'\n",
        "  elif num == 4:\n",
        "    return '근무업체 유형은 특정회사나 사업체에 소속되어 있지 않음 (자영업 포함).'\n",
        "  elif num == 5:\n",
        "    return '근무업체 유형은 학교법인 혹은 학원.'\n",
        "  elif num == 6:\n",
        "    return '근무업체 유형은 기타.'\n",
        "\n",
        "train3['bq2'] = train3['bq2'].map(bq2_to_text)"
      ],
      "metadata": {
        "id": "-o7gvgJpb9tv"
      },
      "execution_count": 28,
      "outputs": []
    },
    {
      "cell_type": "code",
      "source": [
        "train3['bq2']"
      ],
      "metadata": {
        "colab": {
          "base_uri": "https://localhost:8080/"
        },
        "id": "PyUJeSfDcaC_",
        "outputId": "fe96954d-19c1-4c96-97ae-95633e9c4178"
      },
      "execution_count": 29,
      "outputs": [
        {
          "output_type": "execute_result",
          "data": {
            "text/plain": [
              "0                  근무업체 유형은 정부기관 및 산하기관(공기업 포함).\n",
              "1              근무업체 유형은 민간회사 또는 개인사업체(외국인회사 포함).\n",
              "2       근무업체 유형은 특정회사나 사업체에 소속되어 있지 않음 (자영업 포함).\n",
              "3              근무업체 유형은 민간회사 또는 개인사업체(외국인회사 포함).\n",
              "4       근무업체 유형은 특정회사나 사업체에 소속되어 있지 않음 (자영업 포함).\n",
              "                          ...                   \n",
              "8550                      근무업체 유형은 (재단, 사단)법인단체.\n",
              "8551           근무업체 유형은 민간회사 또는 개인사업체(외국인회사 포함).\n",
              "8552           근무업체 유형은 민간회사 또는 개인사업체(외국인회사 포함).\n",
              "8553    근무업체 유형은 특정회사나 사업체에 소속되어 있지 않음 (자영업 포함).\n",
              "8554               근무업체 유형은 정부기관 및 산하기관(공기업 포함).\n",
              "Name: bq2, Length: 8554, dtype: object"
            ]
          },
          "metadata": {},
          "execution_count": 29
        }
      ]
    },
    {
      "cell_type": "code",
      "source": [
        "def bq3_to_text(num:int):\n",
        "  if num == 1:\n",
        "    return '근무업체 규모는 1명 ~ 4명.'\n",
        "  elif num == 2:\n",
        "    return '근무업체 규모는 5명 ~ 49명.'\n",
        "  elif num == 3:\n",
        "    return '근무업체 규모는 50명 ~ 99명.'\n",
        "  elif num == 4:\n",
        "    return '근무업체 규모는 100명 ~299명.'\n",
        "  elif num == 5:\n",
        "    return '근무업체 규모는 300명 ~ 999명.'\n",
        "  elif num == 6:\n",
        "    return '근무업체 규모는 1,000명 이상.'\n",
        "\n",
        "train3['bq3'] = train3['bq3'].map(bq3_to_text)\n"
      ],
      "metadata": {
        "id": "1C3DcTBvcbaO"
      },
      "execution_count": 30,
      "outputs": []
    },
    {
      "cell_type": "code",
      "source": [
        "train3['bq3']"
      ],
      "metadata": {
        "colab": {
          "base_uri": "https://localhost:8080/"
        },
        "id": "8bWqubnKchM-",
        "outputId": "004d7e46-1baa-42ea-82a6-5366857a5749"
      },
      "execution_count": 31,
      "outputs": [
        {
          "output_type": "execute_result",
          "data": {
            "text/plain": [
              "0       근무업체 규모는 100명 ~299명.\n",
              "1        근무업체 규모는 50명 ~ 99명.\n",
              "2          근무업체 규모는 1명 ~ 4명.\n",
              "3         근무업체 규모는 5명 ~ 49명.\n",
              "4          근무업체 규모는 1명 ~ 4명.\n",
              "                ...         \n",
              "8550    근무업체 규모는 100명 ~299명.\n",
              "8551       근무업체 규모는 1명 ~ 4명.\n",
              "8552       근무업체 규모는 1명 ~ 4명.\n",
              "8553      근무업체 규모는 5명 ~ 49명.\n",
              "8554    근무업체 규모는 100명 ~299명.\n",
              "Name: bq3, Length: 8554, dtype: object"
            ]
          },
          "metadata": {},
          "execution_count": 31
        }
      ]
    },
    {
      "cell_type": "code",
      "source": [
        "def bq5_1_to_text(num:int):\n",
        "  try :\n",
        "    num = int(num)\n",
        "    if num == 1:\n",
        "      return '훈련기간은 1개월 미만.'\n",
        "    elif num == 2:\n",
        "      return '훈련기간은 1개월 이상~3개월 미만.'\n",
        "    elif num == 3:\n",
        "      return '훈련기간은 3개월 이상~6개월 미만.'\n",
        "    elif num == 4:\n",
        "      return '훈련기간은 6개월 이상~1년 미만.'\n",
        "    elif num == 5:\n",
        "      return '훈련기간은 1년 이상~2년 미만.'\n",
        "    elif num == 6:\n",
        "      return '훈련기간은 2년 이상.'\n",
        "  except :\n",
        "    return '훈련기간은 필요없다.'\n",
        "\n",
        "train3['bq5_1'] = train3['bq5_1'].map(bq5_1_to_text)\n"
      ],
      "metadata": {
        "id": "AtXDF2gicitM"
      },
      "execution_count": 32,
      "outputs": []
    },
    {
      "cell_type": "code",
      "source": [
        "train3['bq5_1']"
      ],
      "metadata": {
        "colab": {
          "base_uri": "https://localhost:8080/"
        },
        "id": "iqjF68nrdeVb",
        "outputId": "473ab79d-9099-4e58-e834-ed9d53e12111"
      },
      "execution_count": 33,
      "outputs": [
        {
          "output_type": "execute_result",
          "data": {
            "text/plain": [
              "0         훈련기간은 1년 이상~2년 미만.\n",
              "1                훈련기간은 필요없다.\n",
              "2                훈련기간은 필요없다.\n",
              "3              훈련기간은 1개월 미만.\n",
              "4                훈련기간은 필요없다.\n",
              "                ...         \n",
              "8550           훈련기간은 1개월 미만.\n",
              "8551    훈련기간은 3개월 이상~6개월 미만.\n",
              "8552             훈련기간은 필요없다.\n",
              "8553             훈련기간은 필요없다.\n",
              "8554             훈련기간은 필요없다.\n",
              "Name: bq5_1, Length: 8554, dtype: object"
            ]
          },
          "metadata": {},
          "execution_count": 33
        }
      ]
    },
    {
      "cell_type": "code",
      "source": [
        ""
      ],
      "metadata": {
        "id": "qCGbeJZOdkuA"
      },
      "execution_count": null,
      "outputs": []
    },
    {
      "cell_type": "markdown",
      "source": [
        "## 2020년"
      ],
      "metadata": {
        "id": "ha8q3ysheOu-"
      }
    },
    {
      "cell_type": "code",
      "source": [
        "train4['bq1'] = train4['bq1'].map(bq1_to_text)"
      ],
      "metadata": {
        "id": "1fZlP3G6eQpg"
      },
      "execution_count": 34,
      "outputs": []
    },
    {
      "cell_type": "code",
      "source": [
        "train4['bq1']"
      ],
      "metadata": {
        "colab": {
          "base_uri": "https://localhost:8080/"
        },
        "outputId": "73d4b491-bcb4-4240-d3a5-0be74a00e9e0",
        "id": "b959B_SaeQph"
      },
      "execution_count": 35,
      "outputs": [
        {
          "output_type": "execute_result",
          "data": {
            "text/plain": [
              "0                  산업유형은 교육 서비스업.\n",
              "1       산업유형은 공공행정, 국방 및 사회보장 행정.\n",
              "2                      산업유형은 제조업.\n",
              "3                  산업유형은 교육 서비스업.\n",
              "4                      산업유형은 건설업.\n",
              "                  ...            \n",
              "8117      산업유형은 전문, 과학 및 기술 서비스업.\n",
              "8118              산업유형은 금융 및 보험업.\n",
              "8119              산업유형은 금융 및 보험업.\n",
              "8120                   산업유형은 제조업.\n",
              "8121             산업유형은 숙박 및 음식점업.\n",
              "Name: bq1, Length: 8122, dtype: object"
            ]
          },
          "metadata": {},
          "execution_count": 35
        }
      ]
    },
    {
      "cell_type": "code",
      "source": [
        "train4['bq2'] = train4['bq2'].map(bq2_to_text)"
      ],
      "metadata": {
        "id": "vA0pTaMpeQpi"
      },
      "execution_count": 36,
      "outputs": []
    },
    {
      "cell_type": "code",
      "source": [
        "train4['bq2']"
      ],
      "metadata": {
        "colab": {
          "base_uri": "https://localhost:8080/"
        },
        "outputId": "8c25dda1-0a1d-4bdb-b04a-6d6700f912fb",
        "id": "XOIBpQN5eQpi"
      },
      "execution_count": 37,
      "outputs": [
        {
          "output_type": "execute_result",
          "data": {
            "text/plain": [
              "0                    근무업체 유형은 학교법인 혹은 학원.\n",
              "1           근무업체 유형은 정부기관 및 산하기관(공기업 포함).\n",
              "2       근무업체 유형은 민간회사 또는 개인사업체(외국인회사 포함).\n",
              "3                    근무업체 유형은 학교법인 혹은 학원.\n",
              "4       근무업체 유형은 민간회사 또는 개인사업체(외국인회사 포함).\n",
              "                      ...                \n",
              "8117        근무업체 유형은 정부기관 및 산하기관(공기업 포함).\n",
              "8118    근무업체 유형은 민간회사 또는 개인사업체(외국인회사 포함).\n",
              "8119    근무업체 유형은 민간회사 또는 개인사업체(외국인회사 포함).\n",
              "8120    근무업체 유형은 민간회사 또는 개인사업체(외국인회사 포함).\n",
              "8121    근무업체 유형은 민간회사 또는 개인사업체(외국인회사 포함).\n",
              "Name: bq2, Length: 8122, dtype: object"
            ]
          },
          "metadata": {},
          "execution_count": 37
        }
      ]
    },
    {
      "cell_type": "code",
      "source": [
        "train4['bq3'] = train4['bq3'].map(bq3_to_text)"
      ],
      "metadata": {
        "id": "imq6a6WCeQpj"
      },
      "execution_count": 38,
      "outputs": []
    },
    {
      "cell_type": "code",
      "source": [
        "train4['bq3']"
      ],
      "metadata": {
        "colab": {
          "base_uri": "https://localhost:8080/"
        },
        "outputId": "0a2c72dd-5857-484e-a971-ffe6bc0e08b5",
        "id": "AduU1ekVeQpj"
      },
      "execution_count": 39,
      "outputs": [
        {
          "output_type": "execute_result",
          "data": {
            "text/plain": [
              "0         근무업체 규모는 50명 ~ 99명.\n",
              "1          근무업체 규모는 5명 ~ 49명.\n",
              "2        근무업체 규모는 100명 ~299명.\n",
              "3         근무업체 규모는 50명 ~ 99명.\n",
              "4          근무업체 규모는 5명 ~ 49명.\n",
              "                ...          \n",
              "8117    근무업체 규모는 300명 ~ 999명.\n",
              "8118       근무업체 규모는 5명 ~ 49명.\n",
              "8119      근무업체 규모는 50명 ~ 99명.\n",
              "8120       근무업체 규모는 5명 ~ 49명.\n",
              "8121       근무업체 규모는 5명 ~ 49명.\n",
              "Name: bq3, Length: 8122, dtype: object"
            ]
          },
          "metadata": {},
          "execution_count": 39
        }
      ]
    },
    {
      "cell_type": "code",
      "source": [
        "train4['bq5_1'] = train4['bq5_1'].map(bq5_1_to_text)"
      ],
      "metadata": {
        "id": "EyIBhUZEeQpj"
      },
      "execution_count": 40,
      "outputs": []
    },
    {
      "cell_type": "code",
      "source": [
        "train4['bq5_1']"
      ],
      "metadata": {
        "colab": {
          "base_uri": "https://localhost:8080/"
        },
        "id": "FLdsxxwAew3C",
        "outputId": "bc85c55e-5635-4244-f194-a290fb4cf923"
      },
      "execution_count": 41,
      "outputs": [
        {
          "output_type": "execute_result",
          "data": {
            "text/plain": [
              "0                훈련기간은 필요없다.\n",
              "1        훈련기간은 6개월 이상~1년 미만.\n",
              "2                훈련기간은 필요없다.\n",
              "3       훈련기간은 1개월 이상~3개월 미만.\n",
              "4                훈련기간은 필요없다.\n",
              "                ...         \n",
              "8117             훈련기간은 필요없다.\n",
              "8118             훈련기간은 필요없다.\n",
              "8119             훈련기간은 필요없다.\n",
              "8120             훈련기간은 필요없다.\n",
              "8121             훈련기간은 필요없다.\n",
              "Name: bq5_1, Length: 8122, dtype: object"
            ]
          },
          "metadata": {},
          "execution_count": 41
        }
      ]
    },
    {
      "cell_type": "code",
      "source": [
        "def bq6_to_text(num:int):\n",
        "  if num == 1:\n",
        "    return '관련된 업무 경험은 1개월 미만.'\n",
        "  elif num == 2:\n",
        "    return '관련된 업무 경험은 1개월 이상~3개월 미만.'\n",
        "  elif num == 3:\n",
        "    return '관련된 업무 경험은 3개월 이상~6개월 미만.'\n",
        "  elif num == 4:\n",
        "    return '관련된 업무 경험은 6개월 이상~1년 미만.'\n",
        "  elif num == 5:\n",
        "    return '관련된 업무 경험은 1년 이상~2년 미만.'\n",
        "  elif num == 6:\n",
        "    return '관련된 업무 경험은 2년 이상.'\n",
        "  elif num == 7:\n",
        "    return '관련된 업무 경험은 필요없음.'\n",
        "\n",
        "train4['bq6'] = train4['bq6'].map(bq6_to_text)"
      ],
      "metadata": {
        "id": "gG4WGL5weyCA"
      },
      "execution_count": 42,
      "outputs": []
    },
    {
      "cell_type": "code",
      "source": [
        "train4['bq6']"
      ],
      "metadata": {
        "colab": {
          "base_uri": "https://localhost:8080/"
        },
        "id": "sYIi6eUkgEsy",
        "outputId": "6a49e28b-4e80-4f89-b2e1-3e64c86ca3dd"
      },
      "execution_count": 44,
      "outputs": [
        {
          "output_type": "execute_result",
          "data": {
            "text/plain": [
              "0                관련된 업무 경험은 필요없음.\n",
              "1        관련된 업무 경험은 6개월 이상~1년 미만.\n",
              "2         관련된 업무 경험은 1년 이상~2년 미만.\n",
              "3        관련된 업무 경험은 6개월 이상~1년 미만.\n",
              "4                관련된 업무 경험은 필요없음.\n",
              "                  ...            \n",
              "8117    관련된 업무 경험은 3개월 이상~6개월 미만.\n",
              "8118    관련된 업무 경험은 1개월 이상~3개월 미만.\n",
              "8119             관련된 업무 경험은 필요없음.\n",
              "8120            관련된 업무 경험은 2년 이상.\n",
              "8121     관련된 업무 경험은 6개월 이상~1년 미만.\n",
              "Name: bq6, Length: 8122, dtype: object"
            ]
          },
          "metadata": {},
          "execution_count": 44
        }
      ]
    },
    {
      "cell_type": "code",
      "source": [
        "def bq7_to_text(num:int):\n",
        "  if num == 1:\n",
        "    return '업무 수행 교육수준은 중학교 졸업 이하.'\n",
        "  elif num == 2:\n",
        "    return '업무 수행 교육수준은 고등학교 졸업.'\n",
        "  elif num == 3:\n",
        "    return '업무 수행 교육수준은 고등학교 졸업 후 직업교육(6개월 이상) 이수.'\n",
        "  elif num == 4:\n",
        "    return '업무 수행 교육수준은 전문대학교 졸업.'\n",
        "  elif num == 5:\n",
        "    return '업무 수행 교육수준은 대학교 졸업.'\n",
        "  elif num == 6:\n",
        "    return '업무 수행 교육수준은 대학원 석사 졸업.'\n",
        "  elif num == 7:\n",
        "    return '업무 수행 교육수준은 대학원 박사 졸업.'\n",
        "\n",
        "train4['bq7'] = train4['bq7'].map(bq7_to_text)"
      ],
      "metadata": {
        "id": "K3jeLrNzgGxK"
      },
      "execution_count": 45,
      "outputs": []
    },
    {
      "cell_type": "code",
      "source": [
        "train4['bq7']"
      ],
      "metadata": {
        "colab": {
          "base_uri": "https://localhost:8080/"
        },
        "id": "fNzEyR_YgK2C",
        "outputId": "e20eb748-f360-4393-b8a7-55aaea833ee0"
      },
      "execution_count": 47,
      "outputs": [
        {
          "output_type": "execute_result",
          "data": {
            "text/plain": [
              "0          업무 수행 교육수준은 대학교 졸업.\n",
              "1          업무 수행 교육수준은 대학교 졸업.\n",
              "2          업무 수행 교육수준은 대학교 졸업.\n",
              "3          업무 수행 교육수준은 대학교 졸업.\n",
              "4          업무 수행 교육수준은 대학교 졸업.\n",
              "                 ...          \n",
              "8117    업무 수행 교육수준은 대학원 석사 졸업.\n",
              "8118       업무 수행 교육수준은 대학교 졸업.\n",
              "8119       업무 수행 교육수준은 대학교 졸업.\n",
              "8120       업무 수행 교육수준은 대학교 졸업.\n",
              "8121     업무 수행 교육수준은 전문대학교 졸업.\n",
              "Name: bq7, Length: 8122, dtype: object"
            ]
          },
          "metadata": {},
          "execution_count": 47
        }
      ]
    },
    {
      "cell_type": "code",
      "source": [
        "def bq24_to_text(num:int):\n",
        "  if num == 1:\n",
        "    return '나의 성별은 남성이다.'\n",
        "  elif num == 2:\n",
        "    return '나의 성별은 여성이다.'\n",
        "\n",
        "train4['bq24'] = train4['bq24'].map(bq24_to_text)"
      ],
      "metadata": {
        "id": "r8bnGaxggNM0"
      },
      "execution_count": 48,
      "outputs": []
    },
    {
      "cell_type": "code",
      "source": [
        "train4['bq24']"
      ],
      "metadata": {
        "colab": {
          "base_uri": "https://localhost:8080/"
        },
        "id": "weFleI3rgjV5",
        "outputId": "d5371096-89ca-4876-badc-eb75a1bd0c7c"
      },
      "execution_count": 49,
      "outputs": [
        {
          "output_type": "execute_result",
          "data": {
            "text/plain": [
              "0       나의 성별은 여성이다.\n",
              "1       나의 성별은 남성이다.\n",
              "2       나의 성별은 남성이다.\n",
              "3       나의 성별은 여성이다.\n",
              "4       나의 성별은 남성이다.\n",
              "            ...     \n",
              "8117    나의 성별은 남성이다.\n",
              "8118    나의 성별은 여성이다.\n",
              "8119    나의 성별은 남성이다.\n",
              "8120    나의 성별은 여성이다.\n",
              "8121    나의 성별은 남성이다.\n",
              "Name: bq24, Length: 8122, dtype: object"
            ]
          },
          "metadata": {},
          "execution_count": 49
        }
      ]
    },
    {
      "cell_type": "code",
      "source": [
        "def bq25_to_text(num:int):\n",
        "  return '나의 나이는 ' + str(num) + '살이다.'\n",
        "\n",
        "train4['bq25'] = train4['bq25'].map(bq25_to_text)\n"
      ],
      "metadata": {
        "id": "Tr5BmAuTgkoL"
      },
      "execution_count": 50,
      "outputs": []
    },
    {
      "cell_type": "code",
      "source": [
        "train4['bq25']"
      ],
      "metadata": {
        "colab": {
          "base_uri": "https://localhost:8080/"
        },
        "id": "6IRvau6Ugs4I",
        "outputId": "3565721c-506c-4ceb-a24c-05da9ab73b12"
      },
      "execution_count": 52,
      "outputs": [
        {
          "output_type": "execute_result",
          "data": {
            "text/plain": [
              "0       나의 나이는 42살이다.\n",
              "1       나의 나이는 45살이다.\n",
              "2       나의 나이는 38살이다.\n",
              "3       나의 나이는 25살이다.\n",
              "4       나의 나이는 49살이다.\n",
              "            ...      \n",
              "8117    나의 나이는 45살이다.\n",
              "8118    나의 나이는 33살이다.\n",
              "8119    나의 나이는 45살이다.\n",
              "8120    나의 나이는 36살이다.\n",
              "8121    나의 나이는 37살이다.\n",
              "Name: bq25, Length: 8122, dtype: object"
            ]
          },
          "metadata": {},
          "execution_count": 52
        }
      ]
    },
    {
      "cell_type": "code",
      "source": [
        "def bq26_to_text(num:int):\n",
        "  if num == 1:\n",
        "    return '나의 최종학력은 중학교 졸업 이하이다.'\n",
        "  elif num == 2:\n",
        "    return '나의 최종학력은 고등학교 졸업이다.'\n",
        "  elif num == 3:\n",
        "    return '나의 최종학력은 2~3년제 대학교 졸업이다.'\n",
        "  elif num == 4:\n",
        "    return '나의 최종학력은 대학교 졸업이다.'\n",
        "  elif num == 5:\n",
        "    return '나의 최종학력은 대학원 석사 졸업이다.'\n",
        "  elif num == 6:\n",
        "    return '나의 최종학력은 대학원 박사 졸업이다.'\n",
        "\n",
        "train4['bq26'] = train4['bq26'].map(bq26_to_text)\n"
      ],
      "metadata": {
        "id": "f1Z4ULvMg1Ec"
      },
      "execution_count": 53,
      "outputs": []
    },
    {
      "cell_type": "code",
      "source": [
        "train4['bq26']"
      ],
      "metadata": {
        "colab": {
          "base_uri": "https://localhost:8080/"
        },
        "id": "JN4SD2lLg_rv",
        "outputId": "01fd8c93-c816-4714-852b-74ae90b2c0eb"
      },
      "execution_count": 55,
      "outputs": [
        {
          "output_type": "execute_result",
          "data": {
            "text/plain": [
              "0             나의 최종학력은 대학교 졸업이다.\n",
              "1             나의 최종학력은 대학교 졸업이다.\n",
              "2             나의 최종학력은 대학교 졸업이다.\n",
              "3             나의 최종학력은 대학교 졸업이다.\n",
              "4             나의 최종학력은 대학교 졸업이다.\n",
              "                  ...           \n",
              "8117       나의 최종학력은 대학원 박사 졸업이다.\n",
              "8118          나의 최종학력은 대학교 졸업이다.\n",
              "8119          나의 최종학력은 대학교 졸업이다.\n",
              "8120       나의 최종학력은 대학원 석사 졸업이다.\n",
              "8121    나의 최종학력은 2~3년제 대학교 졸업이다.\n",
              "Name: bq26, Length: 8122, dtype: object"
            ]
          },
          "metadata": {},
          "execution_count": 55
        }
      ]
    },
    {
      "cell_type": "code",
      "source": [
        "def bq28_to_text(num:int):\n",
        "  try:\n",
        "    num = int(num)\n",
        "    if num == 1:\n",
        "      return '나의 계약형태는 정규직이다.'\n",
        "    elif num == 2:\n",
        "      return '나의 계약형태는 비정규직이다.'\n",
        "  except:\n",
        "    return '나의 계약형태는 알 수 없다.'\n",
        "\n",
        "train4['bq28'] = train4['bq28'].map(bq28_to_text)"
      ],
      "metadata": {
        "id": "uMs6cj3lhBHj"
      },
      "execution_count": 57,
      "outputs": []
    },
    {
      "cell_type": "code",
      "source": [
        "train4['bq28']"
      ],
      "metadata": {
        "colab": {
          "base_uri": "https://localhost:8080/"
        },
        "id": "UWDjXeJ2hipe",
        "outputId": "db54fa70-d6fd-4374-ed35-16b7fc602384"
      },
      "execution_count": 58,
      "outputs": [
        {
          "output_type": "execute_result",
          "data": {
            "text/plain": [
              "0       나의 계약형태는 정규직이다.\n",
              "1       나의 계약형태는 정규직이다.\n",
              "2       나의 계약형태는 정규직이다.\n",
              "3       나의 계약형태는 정규직이다.\n",
              "4       나의 계약형태는 정규직이다.\n",
              "             ...       \n",
              "8117    나의 계약형태는 정규직이다.\n",
              "8118    나의 계약형태는 정규직이다.\n",
              "8119    나의 계약형태는 정규직이다.\n",
              "8120    나의 계약형태는 정규직이다.\n",
              "8121    나의 계약형태는 정규직이다.\n",
              "Name: bq28, Length: 8122, dtype: object"
            ]
          },
          "metadata": {},
          "execution_count": 58
        }
      ]
    },
    {
      "cell_type": "code",
      "source": [
        "def bq29_to_text(num:int):\n",
        "  return '주당 근로시간은 ' + str(num) + '시간이다.'\n",
        "\n",
        "train4['bq29'] = train4['bq29'].map(bq29_to_text)\n"
      ],
      "metadata": {
        "id": "Esx8Q0a1hrOC"
      },
      "execution_count": 59,
      "outputs": []
    },
    {
      "cell_type": "code",
      "source": [
        "train4['bq29']"
      ],
      "metadata": {
        "colab": {
          "base_uri": "https://localhost:8080/"
        },
        "id": "lQSa9VGaisgH",
        "outputId": "2ff52d24-35ed-4c0b-b974-bce6a5e94911"
      },
      "execution_count": 61,
      "outputs": [
        {
          "output_type": "execute_result",
          "data": {
            "text/plain": [
              "0       주당 근로시간은 40시간이다.\n",
              "1       주당 근로시간은 40시간이다.\n",
              "2       주당 근로시간은 48시간이다.\n",
              "3       주당 근로시간은 40시간이다.\n",
              "4       주당 근로시간은 40시간이다.\n",
              "              ...       \n",
              "8117    주당 근로시간은 40시간이다.\n",
              "8118    주당 근로시간은 45시간이다.\n",
              "8119    주당 근로시간은 40시간이다.\n",
              "8120    주당 근로시간은 40시간이다.\n",
              "8121    주당 근로시간은 46시간이다.\n",
              "Name: bq29, Length: 8122, dtype: object"
            ]
          },
          "metadata": {},
          "execution_count": 61
        }
      ]
    },
    {
      "cell_type": "code",
      "source": [
        "def bq30_1_to_text(num:int):\n",
        "  try:\n",
        "    num = int(num)\n",
        "    return '나의 근로소득은 ' + str(num) + '만원이다.'\n",
        "  except:\n",
        "    return '나의 근로소득은 알 수 없다.'\n",
        "\n",
        "train4['bq30_1'] = train4['bq30_1'].map(bq30_1_to_text)"
      ],
      "metadata": {
        "id": "qAq___Tdiv9J"
      },
      "execution_count": 62,
      "outputs": []
    },
    {
      "cell_type": "code",
      "source": [
        "train4['bq30_1']"
      ],
      "metadata": {
        "colab": {
          "base_uri": "https://localhost:8080/"
        },
        "id": "DXxHifVkjBcJ",
        "outputId": "077ef679-cb47-4214-9b59-dcae78e5e97a"
      },
      "execution_count": 64,
      "outputs": [
        {
          "output_type": "execute_result",
          "data": {
            "text/plain": [
              "0       나의 근로소득은 4000만원이다.\n",
              "1       나의 근로소득은 4000만원이다.\n",
              "2       나의 근로소득은 4300만원이다.\n",
              "3       나의 근로소득은 3500만원이다.\n",
              "4       나의 근로소득은 5700만원이다.\n",
              "               ...        \n",
              "8117    나의 근로소득은 5100만원이다.\n",
              "8118    나의 근로소득은 3100만원이다.\n",
              "8119    나의 근로소득은 8000만원이다.\n",
              "8120    나의 근로소득은 5700만원이다.\n",
              "8121    나의 근로소득은 3700만원이다.\n",
              "Name: bq30_1, Length: 8122, dtype: object"
            ]
          },
          "metadata": {},
          "execution_count": 64
        }
      ]
    },
    {
      "cell_type": "code",
      "source": [
        "def bq30_2_to_text(num:int):\n",
        "  try:\n",
        "    num = int(num)\n",
        "    return '나의 초임임금은 ' + str(num) + '만원이다.'\n",
        "  except:\n",
        "    return '나의 초임임금은 알 수 없다.'\n",
        "\n",
        "train4['bq30_2'] = train4['bq30_2'].map(bq30_2_to_text)"
      ],
      "metadata": {
        "id": "njQeOomMjDzB"
      },
      "execution_count": 65,
      "outputs": []
    },
    {
      "cell_type": "code",
      "source": [
        "train4['bq30_2']"
      ],
      "metadata": {
        "colab": {
          "base_uri": "https://localhost:8080/"
        },
        "id": "bQGo1mObkIYP",
        "outputId": "34ce26d7-cd4e-4efe-a982-27c071a44998"
      },
      "execution_count": 68,
      "outputs": [
        {
          "output_type": "execute_result",
          "data": {
            "text/plain": [
              "0       나의 초임임금은 2600만원이다.\n",
              "1       나의 초임임금은 3000만원이다.\n",
              "2       나의 초임임금은 3000만원이다.\n",
              "3       나의 초임임금은 3300만원이다.\n",
              "4       나의 초임임금은 2700만원이다.\n",
              "               ...        \n",
              "8117    나의 초임임금은 4000만원이다.\n",
              "8118    나의 초임임금은 2600만원이다.\n",
              "8119    나의 초임임금은 3000만원이다.\n",
              "8120    나의 초임임금은 3200만원이다.\n",
              "8121    나의 초임임금은 2700만원이다.\n",
              "Name: bq30_2, Length: 8122, dtype: object"
            ]
          },
          "metadata": {},
          "execution_count": 68
        }
      ]
    },
    {
      "cell_type": "code",
      "source": [
        "def bq30_3_to_text(num:int):\n",
        "  try:\n",
        "    num = int(num)\n",
        "    return '나의 순수입은 ' + str(num) + '만원이다.'\n",
        "  except:\n",
        "    return '나의 순수입은 알 수 없다.'\n",
        "\n",
        "train4['bq30_3'] = train4['bq30_3'].map(bq30_3_to_text)"
      ],
      "metadata": {
        "id": "oAfHipuakKV9"
      },
      "execution_count": 69,
      "outputs": []
    },
    {
      "cell_type": "code",
      "source": [
        "train4['bq30_3']"
      ],
      "metadata": {
        "colab": {
          "base_uri": "https://localhost:8080/"
        },
        "id": "_M3PXiznkT2D",
        "outputId": "19a3cb3d-828e-49c7-bc82-27cd3f2ee2a5"
      },
      "execution_count": 70,
      "outputs": [
        {
          "output_type": "execute_result",
          "data": {
            "text/plain": [
              "0       나의 순수입은 알 수 없다.\n",
              "1       나의 순수입은 알 수 없다.\n",
              "2       나의 순수입은 알 수 없다.\n",
              "3       나의 순수입은 알 수 없다.\n",
              "4       나의 순수입은 알 수 없다.\n",
              "             ...       \n",
              "8117    나의 순수입은 알 수 없다.\n",
              "8118    나의 순수입은 알 수 없다.\n",
              "8119    나의 순수입은 알 수 없다.\n",
              "8120    나의 순수입은 알 수 없다.\n",
              "8121    나의 순수입은 알 수 없다.\n",
              "Name: bq30_3, Length: 8122, dtype: object"
            ]
          },
          "metadata": {},
          "execution_count": 70
        }
      ]
    },
    {
      "cell_type": "code",
      "source": [
        ""
      ],
      "metadata": {
        "id": "vRniu6PVkWyU"
      },
      "execution_count": null,
      "outputs": []
    }
  ]
}