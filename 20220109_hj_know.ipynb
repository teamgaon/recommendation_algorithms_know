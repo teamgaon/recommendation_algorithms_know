{
  "nbformat": 4,
  "nbformat_minor": 0,
  "metadata": {
    "colab": {
      "name": "20220109_hj_know.ipynb",
      "provenance": [],
      "collapsed_sections": [],
      "authorship_tag": "ABX9TyMadyikyLTbe/aFz99Po5id",
      "include_colab_link": true
    },
    "kernelspec": {
      "name": "python3",
      "display_name": "Python 3"
    },
    "language_info": {
      "name": "python"
    }
  },
  "cells": [
    {
      "cell_type": "markdown",
      "metadata": {
        "id": "view-in-github",
        "colab_type": "text"
      },
      "source": [
        "<a href=\"https://colab.research.google.com/github/teamgaon/recommendation_algorithms_know/blob/main/20220109_hj_know.ipynb\" target=\"_parent\"><img src=\"https://colab.research.google.com/assets/colab-badge.svg\" alt=\"Open In Colab\"/></a>"
      ]
    },
    {
      "cell_type": "markdown",
      "source": [
        "## Train Data 불러오기\n",
        "\n",
        "\n",
        "---\n",
        "\n",
        "리스트 인덱스별로  \n",
        "train[0] : 2017 data  \n",
        "train[1] : 2018 data  \n",
        "train[2] : 2019 data  \n",
        "train[3] : 2020 data"
      ],
      "metadata": {
        "id": "iAB2Skju7i6W"
      }
    },
    {
      "cell_type": "code",
      "source": [
        "from google.colab import drive\n",
        "drive.mount('/content/drive')"
      ],
      "metadata": {
        "colab": {
          "base_uri": "https://localhost:8080/"
        },
        "id": "sq5XKU967kDN",
        "outputId": "4e25038d-3e00-4395-c61c-8187e43bf777"
      },
      "execution_count": 1,
      "outputs": [
        {
          "output_type": "stream",
          "name": "stdout",
          "text": [
            "Drive already mounted at /content/drive; to attempt to forcibly remount, call drive.mount(\"/content/drive\", force_remount=True).\n"
          ]
        }
      ]
    },
    {
      "cell_type": "code",
      "source": [
        "import pandas as pd\n",
        "import numpy as np\n",
        "from glob import glob\n",
        "from tqdm import tqdm\n",
        "import warnings\n",
        "from sklearn.preprocessing import LabelEncoder\n",
        "\n",
        "warnings.filterwarnings(action='ignore') \n",
        "know_train = [pd.read_csv(path) for path in sorted(glob('/content/drive/MyDrive/KNOW/train/*.csv'))]"
      ],
      "metadata": {
        "id": "cn-QtSSx7mBM"
      },
      "execution_count": 2,
      "outputs": []
    },
    {
      "cell_type": "markdown",
      "source": [
        "## 전체 데이터 전처리"
      ],
      "metadata": {
        "id": "3IEP-VlX7tQc"
      }
    },
    {
      "cell_type": "markdown",
      "source": [
        "#### 2017 데이터 전처리"
      ],
      "metadata": {
        "id": "axbDxnJj7vAC"
      }
    },
    {
      "cell_type": "code",
      "source": [
        "know2017 = know_train[0]"
      ],
      "metadata": {
        "id": "MYGRYZuo7nYw"
      },
      "execution_count": 3,
      "outputs": []
    },
    {
      "cell_type": "code",
      "source": [
        "know2017_text = know2017.loc[:,['bq4_1a','bq4_1b','bq4_1c','bq5_2','bq30','bq31','bq32','bq33','bq34','bq38_1']]"
      ],
      "metadata": {
        "id": "CZvjQ4Lv8gOh"
      },
      "execution_count": 4,
      "outputs": []
    },
    {
      "cell_type": "code",
      "source": [
        "def columns_data_processing1(Series):\n",
        "  return Series.str.replace(r'[^\\w]',\" \")\n",
        "\n",
        "def columns_data_processing2(Series):\n",
        "  return Series.str.replace(' ',\",\")\n",
        "\n",
        "def columns_data_processing3(Series):\n",
        "  return Series.str.replace(',,',\",\")\n",
        "\n",
        "def columns_data_processing4(Series):\n",
        "  return Series.str.replace('없다',\"무\")\n",
        "\n",
        "def columns_data_processing5(Series):\n",
        "  return Series.str.replace('없음',\"무\")\n",
        "\n",
        "def columns_data_processing6(Series):\n",
        "  return Series.str.lower()\n",
        "\n",
        "def columns_data_processing7(Series):\n",
        "  return Series.str.replace('등',\"\")\n",
        "\n",
        "def columns_data_processing8(Series):\n",
        "  return Series.str.replace('및',\"\")"
      ],
      "metadata": {
        "id": "rWsyzWGrA1E-"
      },
      "execution_count": 5,
      "outputs": []
    },
    {
      "cell_type": "code",
      "source": [
        "know2017_text = know2017_text.apply(columns_data_processing1,axis=0)\n",
        "know2017_text = know2017_text.apply(columns_data_processing2,axis=0)\n",
        "know2017_text = know2017_text.apply(columns_data_processing3,axis=0)\n",
        "know2017_text = know2017_text.apply(columns_data_processing4,axis=0)\n",
        "know2017_text = know2017_text.apply(columns_data_processing5,axis=0)\n",
        "know2017_text = know2017_text.apply(columns_data_processing6,axis=0)"
      ],
      "metadata": {
        "id": "u_I5r07T8spl"
      },
      "execution_count": 6,
      "outputs": []
    },
    {
      "cell_type": "markdown",
      "source": [
        "#### 2018 데이터 전처리"
      ],
      "metadata": {
        "id": "Z5jigjYOAM_6"
      }
    },
    {
      "cell_type": "code",
      "source": [
        "know2018 = know_train[1]"
      ],
      "metadata": {
        "id": "zlL5cMXhAMHK"
      },
      "execution_count": 7,
      "outputs": []
    },
    {
      "cell_type": "code",
      "source": [
        "know2018_text = know2018.loc[:,['bq4_1a','bq4_1b','bq4_1c','bq5_2','bq29','bq30','bq31','bq32','bq33','bq37','bq37_1']]"
      ],
      "metadata": {
        "id": "xgb5rxkr-xDy"
      },
      "execution_count": 8,
      "outputs": []
    },
    {
      "cell_type": "code",
      "source": [
        "know2018_text = know2018_text.apply(columns_data_processing1,axis=0)\n",
        "know2018_text = know2018_text.apply(columns_data_processing2,axis=0)\n",
        "know2018_text = know2018_text.apply(columns_data_processing3,axis=0)\n",
        "know2018_text = know2018_text.apply(columns_data_processing4,axis=0)\n",
        "know2018_text = know2018_text.apply(columns_data_processing5,axis=0)\n",
        "know2018_text = know2018_text.apply(columns_data_processing6,axis=0)"
      ],
      "metadata": {
        "id": "cfu4XpluAu2P"
      },
      "execution_count": 9,
      "outputs": []
    },
    {
      "cell_type": "markdown",
      "source": [
        "#### 2019 데이터 전처리"
      ],
      "metadata": {
        "id": "vVZyy864BDU7"
      }
    },
    {
      "cell_type": "code",
      "source": [
        "know2019 = know_train[2]"
      ],
      "metadata": {
        "id": "eCNFriSQBM_9"
      },
      "execution_count": 10,
      "outputs": []
    },
    {
      "cell_type": "code",
      "source": [
        "know2019_text = know2019.loc[:,['bq4_1a','bq4_1b','bq4_1c','bq5_2','bq22','bq23','bq24','bq27','bq27_1']]"
      ],
      "metadata": {
        "id": "osIlYzVcA-vi"
      },
      "execution_count": 11,
      "outputs": []
    },
    {
      "cell_type": "code",
      "source": [
        "know2019_text = know2019_text.apply(columns_data_processing1,axis=0)\n",
        "know2019_text = know2019_text.apply(columns_data_processing2,axis=0)\n",
        "know2019_text = know2019_text.apply(columns_data_processing3,axis=0)\n",
        "know2019_text = know2019_text.apply(columns_data_processing4,axis=0)\n",
        "know2019_text = know2019_text.apply(columns_data_processing5,axis=0)\n",
        "know2019_text = know2019_text.apply(columns_data_processing6,axis=0)"
      ],
      "metadata": {
        "id": "TbxAHpn_BsXa"
      },
      "execution_count": 12,
      "outputs": []
    },
    {
      "cell_type": "markdown",
      "source": [
        "#### 2020 데이터 전처리"
      ],
      "metadata": {
        "id": "GDmo6UEgCYbo"
      }
    },
    {
      "cell_type": "code",
      "source": [
        "know2020 = know_train[2]"
      ],
      "metadata": {
        "id": "6JFdstWjCSxn"
      },
      "execution_count": 13,
      "outputs": []
    },
    {
      "cell_type": "code",
      "source": [
        "know2020_text = know2020.loc[:,['bq4_1a','bq4_1b','bq4_1c','bq5_2','bq22','bq23','bq27','bq27_1']]"
      ],
      "metadata": {
        "id": "L7rCVQ8hCzys"
      },
      "execution_count": 14,
      "outputs": []
    },
    {
      "cell_type": "code",
      "source": [
        "know2020_text = know2020_text.apply(columns_data_processing1,axis=0)\n",
        "know2020_text = know2020_text.apply(columns_data_processing2,axis=0)\n",
        "know2020_text = know2020_text.apply(columns_data_processing3,axis=0)\n",
        "know2020_text = know2020_text.apply(columns_data_processing4,axis=0)\n",
        "know2020_text = know2020_text.apply(columns_data_processing5,axis=0)\n",
        "know2020_text = know2020_text.apply(columns_data_processing6,axis=0)"
      ],
      "metadata": {
        "id": "8zG7szpcEe62"
      },
      "execution_count": 15,
      "outputs": []
    },
    {
      "cell_type": "markdown",
      "source": [
        "## 각 Column 별 전처리"
      ],
      "metadata": {
        "id": "ardqfAKUE2uU"
      }
    },
    {
      "cell_type": "markdown",
      "source": [
        "### 도구 전처리"
      ],
      "metadata": {
        "id": "LswrfH8FFe96"
      }
    },
    {
      "cell_type": "code",
      "source": [
        "tool2017 = know2017_text['bq31']\n",
        "tool2018 = know2018_text['bq30']\n",
        "\n",
        "tool = pd.concat([tool2017,tool2018],ignore_index=True)"
      ],
      "metadata": {
        "id": "a3oOcrTDFejq"
      },
      "execution_count": 16,
      "outputs": []
    },
    {
      "cell_type": "code",
      "source": [
        "tool = pd.DataFrame(tool)"
      ],
      "metadata": {
        "id": "gvVcMhKQKoEE"
      },
      "execution_count": 17,
      "outputs": []
    },
    {
      "cell_type": "code",
      "source": [
        "tool = tool.values.tolist()"
      ],
      "metadata": {
        "id": "avOYu09mKQg9"
      },
      "execution_count": 18,
      "outputs": []
    },
    {
      "cell_type": "code",
      "source": [
        "# 도구들을 쉼표 단위로 나눠서 tool list에 담는다.\n",
        "tools = []\n",
        "for i in range(0,len(tool)):\n",
        "  tool_1 = tool[i][0].split(',')\n",
        "  tools.append(tool_1)\n",
        "\n",
        "# list를 합친다.\n",
        "tools = sum(tools,[])"
      ],
      "metadata": {
        "id": "Epj2rrNIJJdh"
      },
      "execution_count": 19,
      "outputs": []
    },
    {
      "cell_type": "code",
      "source": [
        "# '' 데이터 삭제.\n",
        "tools = pd.DataFrame(tools)\n",
        "index = tools[tools[0] == ''].index\n",
        "tools = tools.drop(index)"
      ],
      "metadata": {
        "id": "tUhxZ1ywMgDd"
      },
      "execution_count": 20,
      "outputs": []
    },
    {
      "cell_type": "code",
      "source": [
        "### 라벨 인코딩 ###\n",
        "tools = tools[0].values.tolist()\n",
        "\n",
        "# dict에 도구 값 넣기\n",
        "my_dict = {}\n",
        "for i in range(len(tools)):\n",
        "  my_dict[tools[i]] = i\n",
        "\n",
        "\n",
        "def text_to_list(text:str):\n",
        "  return list(text.split(','))\n",
        "\n",
        "know2017_text['bq31'] = know2017_text['bq31'].map(text_to_list)\n",
        "know2018_text['bq30'] = know2018_text['bq30'].map(text_to_list)"
      ],
      "metadata": {
        "id": "_A4ZbpNPE2bu"
      },
      "execution_count": 21,
      "outputs": []
    },
    {
      "cell_type": "code",
      "source": [
        "def tool_to_label(tools:list):\n",
        "  result = []\n",
        "  for tool in tools:\n",
        "    if tool in my_dict:\n",
        "      result.append(my_dict[tool])\n",
        "    else :\n",
        "      result.append(0)\n",
        "  return result\n",
        "\n",
        "know2017_text['label_tool'] = know2017_text['bq31'].map(tool_to_label)\n",
        "know2018_text['label_tool'] = know2018_text['bq30'].map(tool_to_label)"
      ],
      "metadata": {
        "id": "vKiLvF4mEqux"
      },
      "execution_count": 22,
      "outputs": []
    },
    {
      "cell_type": "markdown",
      "source": [
        "### 전공 전처리"
      ],
      "metadata": {
        "id": "ZptYR2JcNfv3"
      }
    },
    {
      "cell_type": "markdown",
      "source": [
        "##### 2017년도"
      ],
      "metadata": {
        "id": "APHkx4svPCuz"
      }
    },
    {
      "cell_type": "markdown",
      "source": [
        "##### 2018년도"
      ],
      "metadata": {
        "id": "VaA999uPQAx_"
      }
    },
    {
      "cell_type": "code",
      "source": [
        "# bq37행에서 전공 걸러내기\n",
        "know2018_text['bq37'].unique()\n",
        "\n",
        "# bq37행에서 전공 걸러내서 bq37_1_2018에 담기\n",
        "bq37_1_2018 = know2018_text[(know2018_text['bq37'] !='1')\n",
        "&(know2018_text['bq37'] !='2')\n",
        "&(know2018_text['bq37'] !='3')\n",
        "&(know2018_text['bq37'] !='4')\n",
        "&(know2018_text['bq37'] !='5')\n",
        "&(know2018_text['bq37'] !='6')]\n",
        "\n",
        "# 잘못된 입력 값 인덱스 찾기\n",
        "wrong_index = know2018_text[(know2018_text['bq37'] !='1')\n",
        "&(know2018_text['bq37'] !='2')\n",
        "&(know2018_text['bq37'] !='3')\n",
        "&(know2018_text['bq37'] !='4')\n",
        "&(know2018_text['bq37'] !='5')\n",
        "&(know2018_text['bq37'] !='6')].index\n",
        "\n",
        "# 원래 데이터에서 잘못된 row 제거\n",
        "know2018_text = know2018_text.drop(wrong_index)"
      ],
      "metadata": {
        "id": "eknlpwO1QAcw"
      },
      "execution_count": 23,
      "outputs": []
    },
    {
      "cell_type": "code",
      "source": [
        "# column 이름을 바꿔서 원위치 시키기\n",
        "bq37_1_2018.rename(columns={'bq37_1':'bq37-1'},inplace=True)\n",
        "bq37_1_2018.rename(columns={'bq37':'bq37_1'},inplace=True)\n",
        "bq37_1_2018.rename(columns={'bq37-1':'bq37'},inplace=True)"
      ],
      "metadata": {
        "id": "yDn1cMmeQ9GJ"
      },
      "execution_count": 24,
      "outputs": []
    },
    {
      "cell_type": "code",
      "source": [
        "# 데이터 합치기\n",
        "know2018_text = pd.concat([know2018_text,bq37_1_2018])"
      ],
      "metadata": {
        "id": "DvRZJEw-Q_km"
      },
      "execution_count": 25,
      "outputs": []
    },
    {
      "cell_type": "code",
      "source": [
        "# 데이터 날리기\n",
        "drop_index = know2018[(know2018_text['bq37'] == '색채심리상담사')].index\n",
        "know2018_text.drop(drop_index)"
      ],
      "metadata": {
        "colab": {
          "base_uri": "https://localhost:8080/",
          "height": 1000
        },
        "id": "NYnWB1ZJRGgW",
        "outputId": "ac73e1f5-281b-4f31-edfa-a052e8401be3"
      },
      "execution_count": 26,
      "outputs": [
        {
          "output_type": "execute_result",
          "data": {
            "text/html": [
              "\n",
              "  <div id=\"df-7638adbf-defa-4978-98ff-86a49685a83a\">\n",
              "    <div class=\"colab-df-container\">\n",
              "      <div>\n",
              "<style scoped>\n",
              "    .dataframe tbody tr th:only-of-type {\n",
              "        vertical-align: middle;\n",
              "    }\n",
              "\n",
              "    .dataframe tbody tr th {\n",
              "        vertical-align: top;\n",
              "    }\n",
              "\n",
              "    .dataframe thead th {\n",
              "        text-align: right;\n",
              "    }\n",
              "</style>\n",
              "<table border=\"1\" class=\"dataframe\">\n",
              "  <thead>\n",
              "    <tr style=\"text-align: right;\">\n",
              "      <th></th>\n",
              "      <th>bq4_1a</th>\n",
              "      <th>bq4_1b</th>\n",
              "      <th>bq4_1c</th>\n",
              "      <th>bq5_2</th>\n",
              "      <th>bq29</th>\n",
              "      <th>bq30</th>\n",
              "      <th>bq31</th>\n",
              "      <th>bq32</th>\n",
              "      <th>bq33</th>\n",
              "      <th>bq37</th>\n",
              "      <th>bq37_1</th>\n",
              "      <th>label_tool</th>\n",
              "    </tr>\n",
              "  </thead>\n",
              "  <tbody>\n",
              "    <tr>\n",
              "      <th>0</th>\n",
              "      <td>치과기공사</td>\n",
              "      <td>,</td>\n",
              "      <td>,</td>\n",
              "      <td>세라믹,지르크니아,등,제작,방법,프로그램,사용방법</td>\n",
              "      <td>치기공사</td>\n",
              "      <td>[치카공]</td>\n",
              "      <td>,</td>\n",
              "      <td>교정전문가</td>\n",
              "      <td>,</td>\n",
              "      <td>3</td>\n",
              "      <td>치기공과</td>\n",
              "      <td>[25625]</td>\n",
              "    </tr>\n",
              "    <tr>\n",
              "      <th>1</th>\n",
              "      <td>정보처리기사</td>\n",
              "      <td>,</td>\n",
              "      <td>,</td>\n",
              "      <td>게임,개발,독학,네트워크,기본,지식</td>\n",
              "      <td>무</td>\n",
              "      <td>[서브라임텍스트, 유니티, 리눅스]</td>\n",
              "      <td>정보보호컨설턴트</td>\n",
              "      <td>일반,프로그래머</td>\n",
              "      <td>무</td>\n",
              "      <td>2</td>\n",
              "      <td>이과</td>\n",
              "      <td>[25626, 44416, 29353]</td>\n",
              "    </tr>\n",
              "    <tr>\n",
              "      <th>2</th>\n",
              "      <td>,</td>\n",
              "      <td>,</td>\n",
              "      <td>,</td>\n",
              "      <td>,</td>\n",
              "      <td>사장님</td>\n",
              "      <td>[망치, 실리콘, 사다리, 유리칼]</td>\n",
              "      <td>회사원</td>\n",
              "      <td>,</td>\n",
              "      <td>,</td>\n",
              "      <td>2</td>\n",
              "      <td>기계과</td>\n",
              "      <td>[45374, 45175, 45526, 40006]</td>\n",
              "    </tr>\n",
              "    <tr>\n",
              "      <th>3</th>\n",
              "      <td>화학분석기능사</td>\n",
              "      <td>,</td>\n",
              "      <td>,</td>\n",
              "      <td>,</td>\n",
              "      <td>,</td>\n",
              "      <td>[전자현미경, 컴퓨터]</td>\n",
              "      <td>,</td>\n",
              "      <td>,</td>\n",
              "      <td>,</td>\n",
              "      <td>4</td>\n",
              "      <td>물리,과학</td>\n",
              "      <td>[43177, 45687]</td>\n",
              "    </tr>\n",
              "    <tr>\n",
              "      <th>4</th>\n",
              "      <td>치과기능사</td>\n",
              "      <td>,</td>\n",
              "      <td>,</td>\n",
              "      <td>,</td>\n",
              "      <td>,</td>\n",
              "      <td>[니켈, 크롬, 코발트]</td>\n",
              "      <td>판매업</td>\n",
              "      <td>,</td>\n",
              "      <td>,</td>\n",
              "      <td>4</td>\n",
              "      <td>치기공학</td>\n",
              "      <td>[25635, 25636, 25637]</td>\n",
              "    </tr>\n",
              "    <tr>\n",
              "      <th>...</th>\n",
              "      <td>...</td>\n",
              "      <td>...</td>\n",
              "      <td>...</td>\n",
              "      <td>...</td>\n",
              "      <td>...</td>\n",
              "      <td>...</td>\n",
              "      <td>...</td>\n",
              "      <td>...</td>\n",
              "      <td>...</td>\n",
              "      <td>...</td>\n",
              "      <td>...</td>\n",
              "      <td>...</td>\n",
              "    </tr>\n",
              "    <tr>\n",
              "      <th>8760</th>\n",
              "      <td>,</td>\n",
              "      <td>,</td>\n",
              "      <td>1</td>\n",
              "      <td>6</td>\n",
              "      <td>통제시스템</td>\n",
              "      <td>[, ]</td>\n",
              "      <td>,</td>\n",
              "      <td>,</td>\n",
              "      <td>3</td>\n",
              "      <td>1</td>\n",
              "      <td>기계학</td>\n",
              "      <td>[0, 0]</td>\n",
              "    </tr>\n",
              "    <tr>\n",
              "      <th>8783</th>\n",
              "      <td>산업안전기사</td>\n",
              "      <td>워드프로세서</td>\n",
              "      <td>1</td>\n",
              "      <td>3</td>\n",
              "      <td>엑셀</td>\n",
              "      <td>[, ]</td>\n",
              "      <td>각종,공기업,공무원</td>\n",
              "      <td>,</td>\n",
              "      <td>4</td>\n",
              "      <td>1</td>\n",
              "      <td>전기공학</td>\n",
              "      <td>[0, 0]</td>\n",
              "    </tr>\n",
              "    <tr>\n",
              "      <th>8987</th>\n",
              "      <td>,</td>\n",
              "      <td>,</td>\n",
              "      <td>2</td>\n",
              "      <td>5</td>\n",
              "      <td>기기</td>\n",
              "      <td>[, ]</td>\n",
              "      <td>,</td>\n",
              "      <td>,</td>\n",
              "      <td>2</td>\n",
              "      <td>1</td>\n",
              "      <td>금속</td>\n",
              "      <td>[0, 0]</td>\n",
              "    </tr>\n",
              "    <tr>\n",
              "      <th>8992</th>\n",
              "      <td>,</td>\n",
              "      <td>,</td>\n",
              "      <td>1</td>\n",
              "      <td>3</td>\n",
              "      <td>철도차량프로그램</td>\n",
              "      <td>[, ]</td>\n",
              "      <td>철도차량,부품,제작업체</td>\n",
              "      <td>해당무</td>\n",
              "      <td>2</td>\n",
              "      <td>1</td>\n",
              "      <td>기계공학</td>\n",
              "      <td>[0, 0]</td>\n",
              "    </tr>\n",
              "    <tr>\n",
              "      <th>9016</th>\n",
              "      <td>,</td>\n",
              "      <td>,</td>\n",
              "      <td>1</td>\n",
              "      <td>2</td>\n",
              "      <td>설계도면</td>\n",
              "      <td>[무]</td>\n",
              "      <td>무</td>\n",
              "      <td>무</td>\n",
              "      <td>4</td>\n",
              "      <td>1</td>\n",
              "      <td>전기공학</td>\n",
              "      <td>[45610]</td>\n",
              "    </tr>\n",
              "  </tbody>\n",
              "</table>\n",
              "<p>9071 rows × 12 columns</p>\n",
              "</div>\n",
              "      <button class=\"colab-df-convert\" onclick=\"convertToInteractive('df-7638adbf-defa-4978-98ff-86a49685a83a')\"\n",
              "              title=\"Convert this dataframe to an interactive table.\"\n",
              "              style=\"display:none;\">\n",
              "        \n",
              "  <svg xmlns=\"http://www.w3.org/2000/svg\" height=\"24px\"viewBox=\"0 0 24 24\"\n",
              "       width=\"24px\">\n",
              "    <path d=\"M0 0h24v24H0V0z\" fill=\"none\"/>\n",
              "    <path d=\"M18.56 5.44l.94 2.06.94-2.06 2.06-.94-2.06-.94-.94-2.06-.94 2.06-2.06.94zm-11 1L8.5 8.5l.94-2.06 2.06-.94-2.06-.94L8.5 2.5l-.94 2.06-2.06.94zm10 10l.94 2.06.94-2.06 2.06-.94-2.06-.94-.94-2.06-.94 2.06-2.06.94z\"/><path d=\"M17.41 7.96l-1.37-1.37c-.4-.4-.92-.59-1.43-.59-.52 0-1.04.2-1.43.59L10.3 9.45l-7.72 7.72c-.78.78-.78 2.05 0 2.83L4 21.41c.39.39.9.59 1.41.59.51 0 1.02-.2 1.41-.59l7.78-7.78 2.81-2.81c.8-.78.8-2.07 0-2.86zM5.41 20L4 18.59l7.72-7.72 1.47 1.35L5.41 20z\"/>\n",
              "  </svg>\n",
              "      </button>\n",
              "      \n",
              "  <style>\n",
              "    .colab-df-container {\n",
              "      display:flex;\n",
              "      flex-wrap:wrap;\n",
              "      gap: 12px;\n",
              "    }\n",
              "\n",
              "    .colab-df-convert {\n",
              "      background-color: #E8F0FE;\n",
              "      border: none;\n",
              "      border-radius: 50%;\n",
              "      cursor: pointer;\n",
              "      display: none;\n",
              "      fill: #1967D2;\n",
              "      height: 32px;\n",
              "      padding: 0 0 0 0;\n",
              "      width: 32px;\n",
              "    }\n",
              "\n",
              "    .colab-df-convert:hover {\n",
              "      background-color: #E2EBFA;\n",
              "      box-shadow: 0px 1px 2px rgba(60, 64, 67, 0.3), 0px 1px 3px 1px rgba(60, 64, 67, 0.15);\n",
              "      fill: #174EA6;\n",
              "    }\n",
              "\n",
              "    [theme=dark] .colab-df-convert {\n",
              "      background-color: #3B4455;\n",
              "      fill: #D2E3FC;\n",
              "    }\n",
              "\n",
              "    [theme=dark] .colab-df-convert:hover {\n",
              "      background-color: #434B5C;\n",
              "      box-shadow: 0px 1px 3px 1px rgba(0, 0, 0, 0.15);\n",
              "      filter: drop-shadow(0px 1px 2px rgba(0, 0, 0, 0.3));\n",
              "      fill: #FFFFFF;\n",
              "    }\n",
              "  </style>\n",
              "\n",
              "      <script>\n",
              "        const buttonEl =\n",
              "          document.querySelector('#df-7638adbf-defa-4978-98ff-86a49685a83a button.colab-df-convert');\n",
              "        buttonEl.style.display =\n",
              "          google.colab.kernel.accessAllowed ? 'block' : 'none';\n",
              "\n",
              "        async function convertToInteractive(key) {\n",
              "          const element = document.querySelector('#df-7638adbf-defa-4978-98ff-86a49685a83a');\n",
              "          const dataTable =\n",
              "            await google.colab.kernel.invokeFunction('convertToInteractive',\n",
              "                                                     [key], {});\n",
              "          if (!dataTable) return;\n",
              "\n",
              "          const docLinkHtml = 'Like what you see? Visit the ' +\n",
              "            '<a target=\"_blank\" href=https://colab.research.google.com/notebooks/data_table.ipynb>data table notebook</a>'\n",
              "            + ' to learn more about interactive tables.';\n",
              "          element.innerHTML = '';\n",
              "          dataTable['output_type'] = 'display_data';\n",
              "          await google.colab.output.renderOutput(dataTable, element);\n",
              "          const docLink = document.createElement('div');\n",
              "          docLink.innerHTML = docLinkHtml;\n",
              "          element.appendChild(docLink);\n",
              "        }\n",
              "      </script>\n",
              "    </div>\n",
              "  </div>\n",
              "  "
            ],
            "text/plain": [
              "       bq4_1a  bq4_1b bq4_1c  ... bq37 bq37_1                    label_tool\n",
              "0       치과기공사       ,      ,  ...    3   치기공과                       [25625]\n",
              "1      정보처리기사       ,      ,  ...    2     이과         [25626, 44416, 29353]\n",
              "2           ,       ,      ,  ...    2    기계과  [45374, 45175, 45526, 40006]\n",
              "3     화학분석기능사       ,      ,  ...    4  물리,과학                [43177, 45687]\n",
              "4       치과기능사       ,      ,  ...    4   치기공학         [25635, 25636, 25637]\n",
              "...       ...     ...    ...  ...  ...    ...                           ...\n",
              "8760        ,       ,      1  ...    1    기계학                        [0, 0]\n",
              "8783   산업안전기사  워드프로세서      1  ...    1   전기공학                        [0, 0]\n",
              "8987        ,       ,      2  ...    1     금속                        [0, 0]\n",
              "8992        ,       ,      1  ...    1   기계공학                        [0, 0]\n",
              "9016        ,       ,      1  ...    1   전기공학                       [45610]\n",
              "\n",
              "[9071 rows x 12 columns]"
            ]
          },
          "metadata": {},
          "execution_count": 26
        }
      ]
    },
    {
      "cell_type": "markdown",
      "source": [
        "#### 2019년도"
      ],
      "metadata": {
        "id": "pXu0qll0UChs"
      }
    },
    {
      "cell_type": "code",
      "source": [
        "# num to str\n",
        "know2019_text['bq27'] = know2019_text['bq27'].map(str)"
      ],
      "metadata": {
        "id": "2c2fcYGfUCRn"
      },
      "execution_count": 27,
      "outputs": []
    },
    {
      "cell_type": "code",
      "source": [
        "know2019_text['bq27'].unique()"
      ],
      "metadata": {
        "colab": {
          "base_uri": "https://localhost:8080/"
        },
        "id": "PwRP_44oWaZs",
        "outputId": "a997a071-4714-4300-a75e-d090740de86b"
      },
      "execution_count": 28,
      "outputs": [
        {
          "output_type": "execute_result",
          "data": {
            "text/plain": [
              "array(['4', '3', '2', '1', '5', '6', '지능로봇학', '모바일인터넷', 'nan', '영상영화디자인과',\n",
              "       '방사선과', '컴퓨터공학', '신문방송'], dtype=object)"
            ]
          },
          "metadata": {},
          "execution_count": 28
        }
      ]
    },
    {
      "cell_type": "code",
      "source": [
        "# bq37행에서 전공 걸러내기\n",
        "know2019_text['bq27'].unique()\n",
        "\n",
        "# bq37행에서 전공 걸러내서 bq37_1_2018에 담기\n",
        "bq27_1_2019 = know2019_text[(know2019_text['bq27'] =='컴퓨터공학')\n",
        "|(know2019_text['bq27'] == '지능로봇학')\n",
        "|(know2019_text['bq27'] == '모바일인터넷')\n",
        "|(know2019_text['bq27'] == '영상영화디자인과')\n",
        "|(know2019_text['bq27'] == '방사선과')\n",
        "|(know2019_text['bq27'] == '신문방송')\n",
        "&(know2019_text['bq27'] !='1')\n",
        "&(know2019_text['bq27'] !='2')\n",
        "&(know2019_text['bq27'] !='3')\n",
        "&(know2019_text['bq27'] !='4')\n",
        "&(know2019_text['bq27'] !='5')\n",
        "&(know2019_text['bq27'] !='6')]\n",
        "\n",
        "# 잘못된 입력 값 인덱스 찾기\n",
        "wrong_index = know2019_text[(know2019_text['bq27'] =='컴퓨터공학')\n",
        "|(know2019_text['bq27'] == '지능로봇학')\n",
        "|(know2019_text['bq27'] == '모바일인터넷')\n",
        "|(know2019_text['bq27'] == '영상영화디자인과')\n",
        "|(know2019_text['bq27'] == '방사선과')\n",
        "|(know2019_text['bq27'] == '신문방송')\n",
        "&(know2019_text['bq27'] !='1')\n",
        "&(know2019_text['bq27'] !='2')\n",
        "&(know2019_text['bq27'] !='3')\n",
        "&(know2019_text['bq27'] !='4')\n",
        "&(know2019_text['bq27'] !='5')\n",
        "&(know2019_text['bq27'] !='6')].index\n",
        "\n",
        "# 원래 데이터에서 잘못된 row 제거\n",
        "know2019_text = know2019_text.drop(wrong_index)"
      ],
      "metadata": {
        "id": "l9NnoSneU0IS"
      },
      "execution_count": 29,
      "outputs": []
    },
    {
      "cell_type": "code",
      "source": [
        "bq27_1_2019['bq27'].unique()"
      ],
      "metadata": {
        "colab": {
          "base_uri": "https://localhost:8080/"
        },
        "id": "20nFLE46ae6B",
        "outputId": "3e805fbf-d066-4693-dd03-0c45c04d4a53"
      },
      "execution_count": 30,
      "outputs": [
        {
          "output_type": "execute_result",
          "data": {
            "text/plain": [
              "array(['지능로봇학', '모바일인터넷', '영상영화디자인과', '방사선과', '컴퓨터공학', '신문방송'],\n",
              "      dtype=object)"
            ]
          },
          "metadata": {},
          "execution_count": 30
        }
      ]
    },
    {
      "cell_type": "code",
      "source": [
        "# column 이름을 바꿔서 원위치 시키기\n",
        "\n",
        "bq27_1_2019.rename(columns={'bq27_1':'bq27-1'},inplace=True)\n",
        "bq27_1_2019.rename(columns={'bq27':'bq27_1'},inplace=True)\n",
        "bq27_1_2019.rename(columns={'bq27-1':'bq27'},inplace=True)"
      ],
      "metadata": {
        "id": "e0DMnCzLVaF-"
      },
      "execution_count": 31,
      "outputs": []
    },
    {
      "cell_type": "code",
      "source": [
        "# 데이터 합치기\n",
        "know2019_text = pd.concat([know2019_text,bq27_1_2019])"
      ],
      "metadata": {
        "id": "gEonqjSVVchx"
      },
      "execution_count": 32,
      "outputs": []
    },
    {
      "cell_type": "markdown",
      "source": [
        "#### 2020년도\n",
        "\n",
        "\n",
        "\n",
        "---\n",
        "\n",
        "issue\n",
        "\n",
        "bq27이 최종학력  \n",
        "bq27_1이 전공"
      ],
      "metadata": {
        "id": "Ee3v5SFxf9VI"
      }
    },
    {
      "cell_type": "code",
      "source": [
        "# bq37행에서 전공 걸러내기\n",
        "know2020_text['bq27'].unique()\n",
        "\n",
        "# bq37행에서 전공 걸러내서 bq37_1_2018에 담기\n",
        "bq27_1_2020 = know2020_text[(know2020_text['bq27'] =='컴퓨터공학')\n",
        "|(know2020_text['bq27'] == '지능로봇학')\n",
        "|(know2020_text['bq27'] == '모바일인터넷')\n",
        "|(know2020_text['bq27'] == '영상영화디자인과')\n",
        "|(know2020_text['bq27'] == '방사선과')\n",
        "|(know2020_text['bq27'] == '신문방송')\n",
        "&(know2020_text['bq27'] !='1')\n",
        "&(know2020_text['bq27'] !='2')\n",
        "&(know2020_text['bq27'] !='3')\n",
        "&(know2020_text['bq27'] !='4')\n",
        "&(know2020_text['bq27'] !='5')\n",
        "&(know2020_text['bq27'] !='6')]\n",
        "\n",
        "# 잘못된 입력 값 인덱스 찾기\n",
        "wrong_index = know2020_text[(know2020_text['bq27'] =='컴퓨터공학')\n",
        "|(know2020_text['bq27'] == '지능로봇학')\n",
        "|(know2020_text['bq27'] == '모바일인터넷')\n",
        "|(know2020_text['bq27'] == '영상영화디자인과')\n",
        "|(know2020_text['bq27'] == '방사선과')\n",
        "|(know2020_text['bq27'] == '신문방송')\n",
        "&(know2020_text['bq27'] !='1')\n",
        "&(know2020_text['bq27'] !='2')\n",
        "&(know2020_text['bq27'] !='3')\n",
        "&(know2020_text['bq27'] !='4')\n",
        "&(know2020_text['bq27'] !='5')\n",
        "&(know2020_text['bq27'] !='6')].index"
      ],
      "metadata": {
        "id": "sLFbn0zohbcX"
      },
      "execution_count": 33,
      "outputs": []
    },
    {
      "cell_type": "code",
      "source": [
        "# 원래 데이터에서 잘못된 row 제거\n",
        "know2020_text = know2020_text.drop(wrong_index)"
      ],
      "metadata": {
        "id": "fCHlh9fikhzJ"
      },
      "execution_count": 34,
      "outputs": []
    },
    {
      "cell_type": "code",
      "source": [
        "# column 이름을 바꿔서 원위치 시키기\n",
        "\n",
        "bq27_1_2020.rename(columns={'bq27_1':'bq27-1'},inplace=True)\n",
        "bq27_1_2020.rename(columns={'bq27':'bq27_1'},inplace=True)\n",
        "bq27_1_2020.rename(columns={'bq27-1':'bq27'},inplace=True)"
      ],
      "metadata": {
        "id": "ZsvxCVsSiI4u"
      },
      "execution_count": 35,
      "outputs": []
    },
    {
      "cell_type": "code",
      "source": [
        "# 데이터 합치기\n",
        "know2020_text = pd.concat([know2020_text,bq27_1_2020])"
      ],
      "metadata": {
        "id": "NzyXvyD-iBxn"
      },
      "execution_count": 36,
      "outputs": []
    },
    {
      "cell_type": "markdown",
      "source": [
        "#### 전공 라벨 인코딩"
      ],
      "metadata": {
        "id": "KnhAs9FbmIHS"
      }
    },
    {
      "cell_type": "markdown",
      "source": [
        "2017 > bq38_1  \n",
        "2018 > bq37_1  \n",
        "2019 > bq_27_1  \n",
        "2020 > bq_27_1 "
      ],
      "metadata": {
        "id": "5FYRWEAhmO_3"
      }
    },
    {
      "cell_type": "code",
      "source": [
        "major2017 = know2017_text['bq38_1']\n",
        "major2018 = know2018_text['bq37_1']\n",
        "major2019 = know2019_text['bq27_1']\n",
        "major2020 = know2020_text['bq27_1']\n",
        "\n",
        "major = pd.concat([major2017,major2018,major2019,major2020],ignore_index=True)"
      ],
      "metadata": {
        "id": "DJNpMymXmXna"
      },
      "execution_count": 37,
      "outputs": []
    },
    {
      "cell_type": "code",
      "source": [
        "# 이상값 제거\n",
        "major.loc[major[0] == '2',0]='이'\n",
        "\n",
        "major = major.values.tolist()\n",
        "\n",
        "# 중복 제거\n",
        "major = set(major)\n",
        "major = list(major)\n",
        "\n",
        "major = pd.DataFrame(major)\n",
        "\n",
        "# null 값 제거\n",
        "major = major[major[0].notnull()]"
      ],
      "metadata": {
        "id": "BszxJEmmmN1U"
      },
      "execution_count": 38,
      "outputs": []
    },
    {
      "cell_type": "code",
      "source": [
        "major = major.apply(lambda x : x.str.strip('학과'), axis = 1)\n",
        "major = major.apply(lambda x : x.str.strip('과'), axis = 1)\n",
        "major = major.apply(lambda x : x.str.strip('학'), axis = 1)\n",
        "major = major.apply(lambda x : x.str.strip('공'), axis = 1)\n",
        "major = major.apply(lambda x : x.str.strip('대'), axis = 1)\n",
        "major = major.apply(lambda x : x.str.strip('부'), axis = 1)"
      ],
      "metadata": {
        "id": "lxd8WDwNHyoV"
      },
      "execution_count": 39,
      "outputs": []
    },
    {
      "cell_type": "code",
      "source": [
        "major "
      ],
      "metadata": {
        "colab": {
          "base_uri": "https://localhost:8080/",
          "height": 423
        },
        "id": "ahbKdb05-jle",
        "outputId": "be34c98a-1341-4b28-efe1-44adbcc1d934"
      },
      "execution_count": 40,
      "outputs": [
        {
          "output_type": "execute_result",
          "data": {
            "text/html": [
              "\n",
              "  <div id=\"df-841003d2-a831-48bf-a677-fe82d9bf5985\">\n",
              "    <div class=\"colab-df-container\">\n",
              "      <div>\n",
              "<style scoped>\n",
              "    .dataframe tbody tr th:only-of-type {\n",
              "        vertical-align: middle;\n",
              "    }\n",
              "\n",
              "    .dataframe tbody tr th {\n",
              "        vertical-align: top;\n",
              "    }\n",
              "\n",
              "    .dataframe thead th {\n",
              "        text-align: right;\n",
              "    }\n",
              "</style>\n",
              "<table border=\"1\" class=\"dataframe\">\n",
              "  <thead>\n",
              "    <tr style=\"text-align: right;\">\n",
              "      <th></th>\n",
              "      <th>0</th>\n",
              "    </tr>\n",
              "  </thead>\n",
              "  <tbody>\n",
              "    <tr>\n",
              "      <th>1</th>\n",
              "      <td>농화</td>\n",
              "    </tr>\n",
              "    <tr>\n",
              "      <th>2</th>\n",
              "      <td>메카트로닉스</td>\n",
              "    </tr>\n",
              "    <tr>\n",
              "      <th>3</th>\n",
              "      <td>상고졸</td>\n",
              "    </tr>\n",
              "    <tr>\n",
              "      <th>4</th>\n",
              "      <td>건축설계</td>\n",
              "    </tr>\n",
              "    <tr>\n",
              "      <th>5</th>\n",
              "      <td>식음료</td>\n",
              "    </tr>\n",
              "    <tr>\n",
              "      <th>...</th>\n",
              "      <td>...</td>\n",
              "    </tr>\n",
              "    <tr>\n",
              "      <th>3503</th>\n",
              "      <td>레크레이션</td>\n",
              "    </tr>\n",
              "    <tr>\n",
              "      <th>3504</th>\n",
              "      <td>연극영화교육</td>\n",
              "    </tr>\n",
              "    <tr>\n",
              "      <th>3505</th>\n",
              "      <td>식품영향</td>\n",
              "    </tr>\n",
              "    <tr>\n",
              "      <th>3506</th>\n",
              "      <td>응용화학</td>\n",
              "    </tr>\n",
              "    <tr>\n",
              "      <th>3507</th>\n",
              "      <td>사범</td>\n",
              "    </tr>\n",
              "  </tbody>\n",
              "</table>\n",
              "<p>3507 rows × 1 columns</p>\n",
              "</div>\n",
              "      <button class=\"colab-df-convert\" onclick=\"convertToInteractive('df-841003d2-a831-48bf-a677-fe82d9bf5985')\"\n",
              "              title=\"Convert this dataframe to an interactive table.\"\n",
              "              style=\"display:none;\">\n",
              "        \n",
              "  <svg xmlns=\"http://www.w3.org/2000/svg\" height=\"24px\"viewBox=\"0 0 24 24\"\n",
              "       width=\"24px\">\n",
              "    <path d=\"M0 0h24v24H0V0z\" fill=\"none\"/>\n",
              "    <path d=\"M18.56 5.44l.94 2.06.94-2.06 2.06-.94-2.06-.94-.94-2.06-.94 2.06-2.06.94zm-11 1L8.5 8.5l.94-2.06 2.06-.94-2.06-.94L8.5 2.5l-.94 2.06-2.06.94zm10 10l.94 2.06.94-2.06 2.06-.94-2.06-.94-.94-2.06-.94 2.06-2.06.94z\"/><path d=\"M17.41 7.96l-1.37-1.37c-.4-.4-.92-.59-1.43-.59-.52 0-1.04.2-1.43.59L10.3 9.45l-7.72 7.72c-.78.78-.78 2.05 0 2.83L4 21.41c.39.39.9.59 1.41.59.51 0 1.02-.2 1.41-.59l7.78-7.78 2.81-2.81c.8-.78.8-2.07 0-2.86zM5.41 20L4 18.59l7.72-7.72 1.47 1.35L5.41 20z\"/>\n",
              "  </svg>\n",
              "      </button>\n",
              "      \n",
              "  <style>\n",
              "    .colab-df-container {\n",
              "      display:flex;\n",
              "      flex-wrap:wrap;\n",
              "      gap: 12px;\n",
              "    }\n",
              "\n",
              "    .colab-df-convert {\n",
              "      background-color: #E8F0FE;\n",
              "      border: none;\n",
              "      border-radius: 50%;\n",
              "      cursor: pointer;\n",
              "      display: none;\n",
              "      fill: #1967D2;\n",
              "      height: 32px;\n",
              "      padding: 0 0 0 0;\n",
              "      width: 32px;\n",
              "    }\n",
              "\n",
              "    .colab-df-convert:hover {\n",
              "      background-color: #E2EBFA;\n",
              "      box-shadow: 0px 1px 2px rgba(60, 64, 67, 0.3), 0px 1px 3px 1px rgba(60, 64, 67, 0.15);\n",
              "      fill: #174EA6;\n",
              "    }\n",
              "\n",
              "    [theme=dark] .colab-df-convert {\n",
              "      background-color: #3B4455;\n",
              "      fill: #D2E3FC;\n",
              "    }\n",
              "\n",
              "    [theme=dark] .colab-df-convert:hover {\n",
              "      background-color: #434B5C;\n",
              "      box-shadow: 0px 1px 3px 1px rgba(0, 0, 0, 0.15);\n",
              "      filter: drop-shadow(0px 1px 2px rgba(0, 0, 0, 0.3));\n",
              "      fill: #FFFFFF;\n",
              "    }\n",
              "  </style>\n",
              "\n",
              "      <script>\n",
              "        const buttonEl =\n",
              "          document.querySelector('#df-841003d2-a831-48bf-a677-fe82d9bf5985 button.colab-df-convert');\n",
              "        buttonEl.style.display =\n",
              "          google.colab.kernel.accessAllowed ? 'block' : 'none';\n",
              "\n",
              "        async function convertToInteractive(key) {\n",
              "          const element = document.querySelector('#df-841003d2-a831-48bf-a677-fe82d9bf5985');\n",
              "          const dataTable =\n",
              "            await google.colab.kernel.invokeFunction('convertToInteractive',\n",
              "                                                     [key], {});\n",
              "          if (!dataTable) return;\n",
              "\n",
              "          const docLinkHtml = 'Like what you see? Visit the ' +\n",
              "            '<a target=\"_blank\" href=https://colab.research.google.com/notebooks/data_table.ipynb>data table notebook</a>'\n",
              "            + ' to learn more about interactive tables.';\n",
              "          element.innerHTML = '';\n",
              "          dataTable['output_type'] = 'display_data';\n",
              "          await google.colab.output.renderOutput(dataTable, element);\n",
              "          const docLink = document.createElement('div');\n",
              "          docLink.innerHTML = docLinkHtml;\n",
              "          element.appendChild(docLink);\n",
              "        }\n",
              "      </script>\n",
              "    </div>\n",
              "  </div>\n",
              "  "
            ],
            "text/plain": [
              "           0\n",
              "1         농화\n",
              "2     메카트로닉스\n",
              "3        상고졸\n",
              "4       건축설계\n",
              "5        식음료\n",
              "...      ...\n",
              "3503   레크레이션\n",
              "3504  연극영화교육\n",
              "3505    식품영향\n",
              "3506    응용화학\n",
              "3507      사범\n",
              "\n",
              "[3507 rows x 1 columns]"
            ]
          },
          "metadata": {},
          "execution_count": 40
        }
      ]
    },
    {
      "cell_type": "code",
      "source": [
        "major = major.values.tolist()"
      ],
      "metadata": {
        "id": "TeiPn4wAER1V"
      },
      "execution_count": 41,
      "outputs": []
    },
    {
      "cell_type": "code",
      "source": [
        "majors = []\n",
        "for i in range(0,3507):\n",
        "  major_1 = major[i][0].split(',') \n",
        "  majors.append(major_1)\n",
        "\n",
        "# list를 합친다.\n",
        "majors = sum(majors,[])"
      ],
      "metadata": {
        "id": "hRF8WzjyEXCQ"
      },
      "execution_count": 42,
      "outputs": []
    },
    {
      "cell_type": "code",
      "source": [
        "# '' 데이터 삭제.\n",
        "majors = pd.DataFrame(majors)\n",
        "index = majors[majors[0] == ''].index\n",
        "majors = majors.drop(index)"
      ],
      "metadata": {
        "id": "whO4kxtTPacZ"
      },
      "execution_count": 43,
      "outputs": []
    },
    {
      "cell_type": "code",
      "source": [
        "### 라벨 인코딩 ###\n",
        "majors = majors[0].values.tolist()\n",
        "majors = set(majors)\n",
        "majors = list(majors)\n",
        "\n",
        "# dict에 도구 값 넣기\n",
        "my_dict = {}\n",
        "for i in range(len(majors)):\n",
        "  my_dict[tools[i]] = i\n",
        "\n",
        "\n",
        "def text_to_list(text:str):\n",
        "  return list(text.split(','))\n",
        "\n",
        "know2017_text['bq38_1'] = know2017_text['bq38_1'].map(text_to_list)"
      ],
      "metadata": {
        "id": "j0gxo_VlQOAE"
      },
      "execution_count": 44,
      "outputs": []
    },
    {
      "cell_type": "code",
      "source": [
        "def major_to_label(majors:list):\n",
        "  result = []\n",
        "  for major in majors:\n",
        "    if major in my_dict:\n",
        "      result.append(my_dict[major])\n",
        "    else :\n",
        "      result.append(0)\n",
        "  return result\n",
        "\n",
        "know2017_text['major_tool'] = know2017_text['bq38_1'].map(tool_to_label)"
      ],
      "metadata": {
        "id": "1o_xDFt4Rhq1"
      },
      "execution_count": 47,
      "outputs": []
    },
    {
      "cell_type": "code",
      "source": [
        "know2017_text"
      ],
      "metadata": {
        "colab": {
          "base_uri": "https://localhost:8080/",
          "height": 1000
        },
        "id": "hs3wX1WpR5H3",
        "outputId": "5a128feb-8d3f-4417-a32b-f5ebac7064b1"
      },
      "execution_count": 48,
      "outputs": [
        {
          "output_type": "execute_result",
          "data": {
            "text/html": [
              "\n",
              "  <div id=\"df-80ed54af-212d-45e5-87b0-129f9477ff61\">\n",
              "    <div class=\"colab-df-container\">\n",
              "      <div>\n",
              "<style scoped>\n",
              "    .dataframe tbody tr th:only-of-type {\n",
              "        vertical-align: middle;\n",
              "    }\n",
              "\n",
              "    .dataframe tbody tr th {\n",
              "        vertical-align: top;\n",
              "    }\n",
              "\n",
              "    .dataframe thead th {\n",
              "        text-align: right;\n",
              "    }\n",
              "</style>\n",
              "<table border=\"1\" class=\"dataframe\">\n",
              "  <thead>\n",
              "    <tr style=\"text-align: right;\">\n",
              "      <th></th>\n",
              "      <th>bq4_1a</th>\n",
              "      <th>bq4_1b</th>\n",
              "      <th>bq4_1c</th>\n",
              "      <th>bq5_2</th>\n",
              "      <th>bq30</th>\n",
              "      <th>bq31</th>\n",
              "      <th>bq32</th>\n",
              "      <th>bq33</th>\n",
              "      <th>bq34</th>\n",
              "      <th>bq38_1</th>\n",
              "      <th>label_tool</th>\n",
              "      <th>major_tool</th>\n",
              "    </tr>\n",
              "  </thead>\n",
              "  <tbody>\n",
              "    <tr>\n",
              "      <th>0</th>\n",
              "      <td>자동차도장기능사</td>\n",
              "      <td>,</td>\n",
              "      <td>,</td>\n",
              "      <td>실무교육</td>\n",
              "      <td>무</td>\n",
              "      <td>[무]</td>\n",
              "      <td>무</td>\n",
              "      <td>건설현장,노무직</td>\n",
              "      <td>무</td>\n",
              "      <td>[실업]</td>\n",
              "      <td>[0]</td>\n",
              "      <td>[0]</td>\n",
              "    </tr>\n",
              "    <tr>\n",
              "      <th>1</th>\n",
              "      <td>건축전기설비기술사</td>\n",
              "      <td>,</td>\n",
              "      <td>,</td>\n",
              "      <td>,</td>\n",
              "      <td>무</td>\n",
              "      <td>[매타기, 드라이버, 가위, cad]</td>\n",
              "      <td>,</td>\n",
              "      <td>,</td>\n",
              "      <td>,</td>\n",
              "      <td>[건축공학]</td>\n",
              "      <td>[0]</td>\n",
              "      <td>[0]</td>\n",
              "    </tr>\n",
              "    <tr>\n",
              "      <th>2</th>\n",
              "      <td>건축전기설비기술사</td>\n",
              "      <td>,</td>\n",
              "      <td>,</td>\n",
              "      <td>,</td>\n",
              "      <td>무</td>\n",
              "      <td>[건축설계표, 오토캐드, 파이프, 보일러]</td>\n",
              "      <td>,</td>\n",
              "      <td>,</td>\n",
              "      <td>,</td>\n",
              "      <td>[건축공학]</td>\n",
              "      <td>[0]</td>\n",
              "      <td>[0]</td>\n",
              "    </tr>\n",
              "    <tr>\n",
              "      <th>3</th>\n",
              "      <td>지적기사</td>\n",
              "      <td>,</td>\n",
              "      <td>,</td>\n",
              "      <td>측량,및,정보통신기술,교육</td>\n",
              "      <td>지적기사</td>\n",
              "      <td>[토탈스테이션, szp]</td>\n",
              "      <td>무</td>\n",
              "      <td>지적공무원</td>\n",
              "      <td>,</td>\n",
              "      <td>[환경학과]</td>\n",
              "      <td>[0]</td>\n",
              "      <td>[0]</td>\n",
              "    </tr>\n",
              "    <tr>\n",
              "      <th>4</th>\n",
              "      <td>건축전기설비기술사</td>\n",
              "      <td>,</td>\n",
              "      <td>,</td>\n",
              "      <td>,</td>\n",
              "      <td>무</td>\n",
              "      <td>[캐드, 엑셀, 건축도면]</td>\n",
              "      <td>,</td>\n",
              "      <td>,</td>\n",
              "      <td>,</td>\n",
              "      <td>[건축공학]</td>\n",
              "      <td>[0]</td>\n",
              "      <td>[0]</td>\n",
              "    </tr>\n",
              "    <tr>\n",
              "      <th>...</th>\n",
              "      <td>...</td>\n",
              "      <td>...</td>\n",
              "      <td>...</td>\n",
              "      <td>...</td>\n",
              "      <td>...</td>\n",
              "      <td>...</td>\n",
              "      <td>...</td>\n",
              "      <td>...</td>\n",
              "      <td>...</td>\n",
              "      <td>...</td>\n",
              "      <td>...</td>\n",
              "      <td>...</td>\n",
              "    </tr>\n",
              "    <tr>\n",
              "      <th>9481</th>\n",
              "      <td>,</td>\n",
              "      <td>,</td>\n",
              "      <td>,</td>\n",
              "      <td>편집기술에,원리와,이해능력</td>\n",
              "      <td>무</td>\n",
              "      <td>[한글, 편집프로그램, 포토샵, 일러스트]</td>\n",
              "      <td>무</td>\n",
              "      <td>마케팅업무</td>\n",
              "      <td>무</td>\n",
              "      <td>[산업디자인]</td>\n",
              "      <td>[0]</td>\n",
              "      <td>[0]</td>\n",
              "    </tr>\n",
              "    <tr>\n",
              "      <th>9482</th>\n",
              "      <td>,</td>\n",
              "      <td>,</td>\n",
              "      <td>,</td>\n",
              "      <td>도면,작성,교육,전자,기초,이해</td>\n",
              "      <td>무</td>\n",
              "      <td>[auto, cad, , catia, 전문, 특수정비도구, 툴, ]</td>\n",
              "      <td>무</td>\n",
              "      <td>무</td>\n",
              "      <td>무</td>\n",
              "      <td>[우주항공공학]</td>\n",
              "      <td>[0]</td>\n",
              "      <td>[0]</td>\n",
              "    </tr>\n",
              "    <tr>\n",
              "      <th>9483</th>\n",
              "      <td>,</td>\n",
              "      <td>,</td>\n",
              "      <td>,</td>\n",
              "      <td>,</td>\n",
              "      <td>건설,노가대</td>\n",
              "      <td>[볼트, 리벳]</td>\n",
              "      <td>무</td>\n",
              "      <td>무</td>\n",
              "      <td>무</td>\n",
              "      <td>[기계]</td>\n",
              "      <td>[2012]</td>\n",
              "      <td>[2012]</td>\n",
              "    </tr>\n",
              "    <tr>\n",
              "      <th>9484</th>\n",
              "      <td>,</td>\n",
              "      <td>,</td>\n",
              "      <td>,</td>\n",
              "      <td>,</td>\n",
              "      <td>무</td>\n",
              "      <td>[컴퓨터]</td>\n",
              "      <td>무</td>\n",
              "      <td>모름</td>\n",
              "      <td>,</td>\n",
              "      <td>[문헌정보학]</td>\n",
              "      <td>[0]</td>\n",
              "      <td>[0]</td>\n",
              "    </tr>\n",
              "    <tr>\n",
              "      <th>9485</th>\n",
              "      <td>,</td>\n",
              "      <td>,</td>\n",
              "      <td>,</td>\n",
              "      <td>,</td>\n",
              "      <td>무</td>\n",
              "      <td>[차량관리, 시스템]</td>\n",
              "      <td>,</td>\n",
              "      <td>,</td>\n",
              "      <td>,</td>\n",
              "      <td>[전기]</td>\n",
              "      <td>[0]</td>\n",
              "      <td>[0]</td>\n",
              "    </tr>\n",
              "  </tbody>\n",
              "</table>\n",
              "<p>9486 rows × 12 columns</p>\n",
              "</div>\n",
              "      <button class=\"colab-df-convert\" onclick=\"convertToInteractive('df-80ed54af-212d-45e5-87b0-129f9477ff61')\"\n",
              "              title=\"Convert this dataframe to an interactive table.\"\n",
              "              style=\"display:none;\">\n",
              "        \n",
              "  <svg xmlns=\"http://www.w3.org/2000/svg\" height=\"24px\"viewBox=\"0 0 24 24\"\n",
              "       width=\"24px\">\n",
              "    <path d=\"M0 0h24v24H0V0z\" fill=\"none\"/>\n",
              "    <path d=\"M18.56 5.44l.94 2.06.94-2.06 2.06-.94-2.06-.94-.94-2.06-.94 2.06-2.06.94zm-11 1L8.5 8.5l.94-2.06 2.06-.94-2.06-.94L8.5 2.5l-.94 2.06-2.06.94zm10 10l.94 2.06.94-2.06 2.06-.94-2.06-.94-.94-2.06-.94 2.06-2.06.94z\"/><path d=\"M17.41 7.96l-1.37-1.37c-.4-.4-.92-.59-1.43-.59-.52 0-1.04.2-1.43.59L10.3 9.45l-7.72 7.72c-.78.78-.78 2.05 0 2.83L4 21.41c.39.39.9.59 1.41.59.51 0 1.02-.2 1.41-.59l7.78-7.78 2.81-2.81c.8-.78.8-2.07 0-2.86zM5.41 20L4 18.59l7.72-7.72 1.47 1.35L5.41 20z\"/>\n",
              "  </svg>\n",
              "      </button>\n",
              "      \n",
              "  <style>\n",
              "    .colab-df-container {\n",
              "      display:flex;\n",
              "      flex-wrap:wrap;\n",
              "      gap: 12px;\n",
              "    }\n",
              "\n",
              "    .colab-df-convert {\n",
              "      background-color: #E8F0FE;\n",
              "      border: none;\n",
              "      border-radius: 50%;\n",
              "      cursor: pointer;\n",
              "      display: none;\n",
              "      fill: #1967D2;\n",
              "      height: 32px;\n",
              "      padding: 0 0 0 0;\n",
              "      width: 32px;\n",
              "    }\n",
              "\n",
              "    .colab-df-convert:hover {\n",
              "      background-color: #E2EBFA;\n",
              "      box-shadow: 0px 1px 2px rgba(60, 64, 67, 0.3), 0px 1px 3px 1px rgba(60, 64, 67, 0.15);\n",
              "      fill: #174EA6;\n",
              "    }\n",
              "\n",
              "    [theme=dark] .colab-df-convert {\n",
              "      background-color: #3B4455;\n",
              "      fill: #D2E3FC;\n",
              "    }\n",
              "\n",
              "    [theme=dark] .colab-df-convert:hover {\n",
              "      background-color: #434B5C;\n",
              "      box-shadow: 0px 1px 3px 1px rgba(0, 0, 0, 0.15);\n",
              "      filter: drop-shadow(0px 1px 2px rgba(0, 0, 0, 0.3));\n",
              "      fill: #FFFFFF;\n",
              "    }\n",
              "  </style>\n",
              "\n",
              "      <script>\n",
              "        const buttonEl =\n",
              "          document.querySelector('#df-80ed54af-212d-45e5-87b0-129f9477ff61 button.colab-df-convert');\n",
              "        buttonEl.style.display =\n",
              "          google.colab.kernel.accessAllowed ? 'block' : 'none';\n",
              "\n",
              "        async function convertToInteractive(key) {\n",
              "          const element = document.querySelector('#df-80ed54af-212d-45e5-87b0-129f9477ff61');\n",
              "          const dataTable =\n",
              "            await google.colab.kernel.invokeFunction('convertToInteractive',\n",
              "                                                     [key], {});\n",
              "          if (!dataTable) return;\n",
              "\n",
              "          const docLinkHtml = 'Like what you see? Visit the ' +\n",
              "            '<a target=\"_blank\" href=https://colab.research.google.com/notebooks/data_table.ipynb>data table notebook</a>'\n",
              "            + ' to learn more about interactive tables.';\n",
              "          element.innerHTML = '';\n",
              "          dataTable['output_type'] = 'display_data';\n",
              "          await google.colab.output.renderOutput(dataTable, element);\n",
              "          const docLink = document.createElement('div');\n",
              "          docLink.innerHTML = docLinkHtml;\n",
              "          element.appendChild(docLink);\n",
              "        }\n",
              "      </script>\n",
              "    </div>\n",
              "  </div>\n",
              "  "
            ],
            "text/plain": [
              "         bq4_1a bq4_1b bq4_1c  ...    bq38_1 label_tool major_tool\n",
              "0      자동차도장기능사      ,      ,  ...      [실업]        [0]        [0]\n",
              "1     건축전기설비기술사      ,      ,  ...    [건축공학]        [0]        [0]\n",
              "2     건축전기설비기술사      ,      ,  ...    [건축공학]        [0]        [0]\n",
              "3          지적기사      ,      ,  ...    [환경학과]        [0]        [0]\n",
              "4     건축전기설비기술사      ,      ,  ...    [건축공학]        [0]        [0]\n",
              "...         ...    ...    ...  ...       ...        ...        ...\n",
              "9481          ,      ,      ,  ...   [산업디자인]        [0]        [0]\n",
              "9482          ,      ,      ,  ...  [우주항공공학]        [0]        [0]\n",
              "9483          ,      ,      ,  ...      [기계]     [2012]     [2012]\n",
              "9484          ,      ,      ,  ...   [문헌정보학]        [0]        [0]\n",
              "9485          ,      ,      ,  ...      [전기]        [0]        [0]\n",
              "\n",
              "[9486 rows x 12 columns]"
            ]
          },
          "metadata": {},
          "execution_count": 48
        }
      ]
    },
    {
      "cell_type": "code",
      "source": [
        "mask=df['data'].str.len()==1\n",
        "df['result']=np.where(mask,df['data']+'과','')\n",
        "df[df['result'].str.len()==2]"
      ],
      "metadata": {
        "id": "PqLc7kleoJ_D"
      },
      "execution_count": 39,
      "outputs": []
    },
    {
      "cell_type": "markdown",
      "source": [
        "## def data processing 다시"
      ],
      "metadata": {
        "id": "1Z3efoJoMe_L"
      }
    }
  ]
}