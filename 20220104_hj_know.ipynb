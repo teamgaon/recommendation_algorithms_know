{
  "cells": [
    {
      "cell_type": "markdown",
      "metadata": {
        "id": "view-in-github",
        "colab_type": "text"
      },
      "source": [
        "<a href=\"https://colab.research.google.com/github/teamgaon/recommendation_algorithms_know/blob/main/20220104_hj_know.ipynb\" target=\"_parent\"><img src=\"https://colab.research.google.com/assets/colab-badge.svg\" alt=\"Open In Colab\"/></a>"
      ]
    },
    {
      "cell_type": "markdown",
      "id": "11acce11-d5ba-48ca-9f39-8e8df25c57b7",
      "metadata": {
        "id": "11acce11-d5ba-48ca-9f39-8e8df25c57b7"
      },
      "source": [
        "# Train데이터 불러오기\n",
        "\n",
        "각 년도별 DataFrame을 리스트에 append합니다.\n",
        "\n",
        "리스트 인덱스별로\n",
        "\n",
        "0: 2017년도 데이터   \n",
        "\n",
        "1: 2018년도 데이터 \n",
        "\n",
        "2: 2019년도 데이터 \n",
        "\n",
        "3: 202년도 데이터 \n",
        "\n",
        "입니다"
      ]
    },
    {
      "cell_type": "code",
      "source": [
        "from google.colab import drive\n",
        "drive.mount('/content/drive')"
      ],
      "metadata": {
        "id": "w5cwUZ2Jdmpk",
        "outputId": "bf9811c6-2fd7-413c-d42d-a385a3d7fb94",
        "colab": {
          "base_uri": "https://localhost:8080/",
          "height": 340
        }
      },
      "id": "w5cwUZ2Jdmpk",
      "execution_count": 306,
      "outputs": [
        {
          "output_type": "error",
          "ename": "KeyboardInterrupt",
          "evalue": "ignored",
          "traceback": [
            "\u001b[0;31m---------------------------------------------------------------------------\u001b[0m",
            "\u001b[0;31mKeyboardInterrupt\u001b[0m                         Traceback (most recent call last)",
            "\u001b[0;32m<ipython-input-306-d5df0069828e>\u001b[0m in \u001b[0;36m<module>\u001b[0;34m()\u001b[0m\n\u001b[1;32m      1\u001b[0m \u001b[0;32mfrom\u001b[0m \u001b[0mgoogle\u001b[0m\u001b[0;34m.\u001b[0m\u001b[0mcolab\u001b[0m \u001b[0;32mimport\u001b[0m \u001b[0mdrive\u001b[0m\u001b[0;34m\u001b[0m\u001b[0;34m\u001b[0m\u001b[0m\n\u001b[0;32m----> 2\u001b[0;31m \u001b[0mdrive\u001b[0m\u001b[0;34m.\u001b[0m\u001b[0mmount\u001b[0m\u001b[0;34m(\u001b[0m\u001b[0;34m'/content/drive'\u001b[0m\u001b[0;34m)\u001b[0m\u001b[0;34m\u001b[0m\u001b[0;34m\u001b[0m\u001b[0m\n\u001b[0m",
            "\u001b[0;32m/usr/local/lib/python3.7/dist-packages/google/colab/drive.py\u001b[0m in \u001b[0;36mmount\u001b[0;34m(mountpoint, force_remount, timeout_ms, use_metadata_server)\u001b[0m\n\u001b[1;32m    111\u001b[0m       \u001b[0mtimeout_ms\u001b[0m\u001b[0;34m=\u001b[0m\u001b[0mtimeout_ms\u001b[0m\u001b[0;34m,\u001b[0m\u001b[0;34m\u001b[0m\u001b[0;34m\u001b[0m\u001b[0m\n\u001b[1;32m    112\u001b[0m       \u001b[0muse_metadata_server\u001b[0m\u001b[0;34m=\u001b[0m\u001b[0muse_metadata_server\u001b[0m\u001b[0;34m,\u001b[0m\u001b[0;34m\u001b[0m\u001b[0;34m\u001b[0m\u001b[0m\n\u001b[0;32m--> 113\u001b[0;31m       ephemeral=ephemeral)\n\u001b[0m\u001b[1;32m    114\u001b[0m \u001b[0;34m\u001b[0m\u001b[0m\n\u001b[1;32m    115\u001b[0m \u001b[0;34m\u001b[0m\u001b[0m\n",
            "\u001b[0;32m/usr/local/lib/python3.7/dist-packages/google/colab/drive.py\u001b[0m in \u001b[0;36m_mount\u001b[0;34m(mountpoint, force_remount, timeout_ms, use_metadata_server, ephemeral)\u001b[0m\n\u001b[1;32m    134\u001b[0m   \u001b[0;32mif\u001b[0m \u001b[0mephemeral\u001b[0m\u001b[0;34m:\u001b[0m\u001b[0;34m\u001b[0m\u001b[0;34m\u001b[0m\u001b[0m\n\u001b[1;32m    135\u001b[0m     _message.blocking_request(\n\u001b[0;32m--> 136\u001b[0;31m         'request_auth', request={'authType': 'dfs_ephemeral'}, timeout_sec=None)\n\u001b[0m\u001b[1;32m    137\u001b[0m \u001b[0;34m\u001b[0m\u001b[0m\n\u001b[1;32m    138\u001b[0m   \u001b[0mmountpoint\u001b[0m \u001b[0;34m=\u001b[0m \u001b[0m_os\u001b[0m\u001b[0;34m.\u001b[0m\u001b[0mpath\u001b[0m\u001b[0;34m.\u001b[0m\u001b[0mexpanduser\u001b[0m\u001b[0;34m(\u001b[0m\u001b[0mmountpoint\u001b[0m\u001b[0;34m)\u001b[0m\u001b[0;34m\u001b[0m\u001b[0;34m\u001b[0m\u001b[0m\n",
            "\u001b[0;32m/usr/local/lib/python3.7/dist-packages/google/colab/_message.py\u001b[0m in \u001b[0;36mblocking_request\u001b[0;34m(request_type, request, timeout_sec, parent)\u001b[0m\n\u001b[1;32m    173\u001b[0m   request_id = send_request(\n\u001b[1;32m    174\u001b[0m       request_type, request, parent=parent, expect_reply=True)\n\u001b[0;32m--> 175\u001b[0;31m   \u001b[0;32mreturn\u001b[0m \u001b[0mread_reply_from_input\u001b[0m\u001b[0;34m(\u001b[0m\u001b[0mrequest_id\u001b[0m\u001b[0;34m,\u001b[0m \u001b[0mtimeout_sec\u001b[0m\u001b[0;34m)\u001b[0m\u001b[0;34m\u001b[0m\u001b[0;34m\u001b[0m\u001b[0m\n\u001b[0m",
            "\u001b[0;32m/usr/local/lib/python3.7/dist-packages/google/colab/_message.py\u001b[0m in \u001b[0;36mread_reply_from_input\u001b[0;34m(message_id, timeout_sec)\u001b[0m\n\u001b[1;32m     99\u001b[0m     \u001b[0mreply\u001b[0m \u001b[0;34m=\u001b[0m \u001b[0m_read_next_input_message\u001b[0m\u001b[0;34m(\u001b[0m\u001b[0;34m)\u001b[0m\u001b[0;34m\u001b[0m\u001b[0;34m\u001b[0m\u001b[0m\n\u001b[1;32m    100\u001b[0m     \u001b[0;32mif\u001b[0m \u001b[0mreply\u001b[0m \u001b[0;34m==\u001b[0m \u001b[0m_NOT_READY\u001b[0m \u001b[0;32mor\u001b[0m \u001b[0;32mnot\u001b[0m \u001b[0misinstance\u001b[0m\u001b[0;34m(\u001b[0m\u001b[0mreply\u001b[0m\u001b[0;34m,\u001b[0m \u001b[0mdict\u001b[0m\u001b[0;34m)\u001b[0m\u001b[0;34m:\u001b[0m\u001b[0;34m\u001b[0m\u001b[0;34m\u001b[0m\u001b[0m\n\u001b[0;32m--> 101\u001b[0;31m       \u001b[0mtime\u001b[0m\u001b[0;34m.\u001b[0m\u001b[0msleep\u001b[0m\u001b[0;34m(\u001b[0m\u001b[0;36m0.025\u001b[0m\u001b[0;34m)\u001b[0m\u001b[0;34m\u001b[0m\u001b[0;34m\u001b[0m\u001b[0m\n\u001b[0m\u001b[1;32m    102\u001b[0m       \u001b[0;32mcontinue\u001b[0m\u001b[0;34m\u001b[0m\u001b[0;34m\u001b[0m\u001b[0m\n\u001b[1;32m    103\u001b[0m     if (reply.get('type') == 'colab_reply' and\n",
            "\u001b[0;31mKeyboardInterrupt\u001b[0m: "
          ]
        }
      ]
    },
    {
      "cell_type": "code",
      "execution_count": null,
      "id": "ee847486-4c61-44ec-88dc-59ac14edc39c",
      "metadata": {
        "id": "ee847486-4c61-44ec-88dc-59ac14edc39c"
      },
      "outputs": [],
      "source": [
        "import pandas as pd\n",
        "from glob import glob\n",
        "from tqdm import tqdm\n",
        "import warnings\n",
        "from sklearn.preprocessing import LabelEncoder\n",
        "\n",
        "warnings.filterwarnings(action='ignore') \n",
        "know_train = [pd.read_csv(path) for path in sorted(glob('/content/drive/MyDrive/KNOW/train/*.csv'))]"
      ]
    },
    {
      "cell_type": "markdown",
      "source": [
        "## 2017 데이터 라벨 인코딩"
      ],
      "metadata": {
        "id": "ZIfwG0EwMESo"
      },
      "id": "ZIfwG0EwMESo"
    },
    {
      "cell_type": "code",
      "source": [
        "know_train"
      ],
      "metadata": {
        "id": "6halGM_Innb9"
      },
      "id": "6halGM_Innb9",
      "execution_count": null,
      "outputs": []
    },
    {
      "cell_type": "code",
      "source": [
        "know2017 = know_train[0]\n",
        "know2017['bq31'] = know2017['bq31'].str.replace(\" \",\"\")"
      ],
      "metadata": {
        "id": "YspVxrXOc29g"
      },
      "id": "YspVxrXOc29g",
      "execution_count": null,
      "outputs": []
    },
    {
      "cell_type": "code",
      "source": [
        "know2017"
      ],
      "metadata": {
        "id": "mXElhXrn7Tz0"
      },
      "id": "mXElhXrn7Tz0",
      "execution_count": null,
      "outputs": []
    },
    {
      "cell_type": "code",
      "source": [
        "know2017_1 = pd.DataFrame(know2017['bq31'].unique())\n",
        "know2017_1 "
      ],
      "metadata": {
        "id": "TRW2tqLLeMTD"
      },
      "id": "TRW2tqLLeMTD",
      "execution_count": null,
      "outputs": []
    },
    {
      "cell_type": "code",
      "source": [
        "know2017_1 = know2017_1.values.tolist()\n",
        "know2017_1"
      ],
      "metadata": {
        "id": "WK6-eiL0imzx"
      },
      "id": "WK6-eiL0imzx",
      "execution_count": null,
      "outputs": []
    },
    {
      "cell_type": "code",
      "source": [
        "tool = []\n",
        "for i in range(0,6635):\n",
        "  tool_1 = know2017_1[i][0].split(',')\n",
        "  tool.append(tool_1)\n",
        "tool"
      ],
      "metadata": {
        "id": "g8wHd_6Ls3KB"
      },
      "id": "g8wHd_6Ls3KB",
      "execution_count": null,
      "outputs": []
    },
    {
      "cell_type": "code",
      "source": [
        "tool = sum(tool,[])\n",
        "print(tool)"
      ],
      "metadata": {
        "id": "aSJp9NBkp12F"
      },
      "id": "aSJp9NBkp12F",
      "execution_count": null,
      "outputs": []
    },
    {
      "cell_type": "code",
      "source": [
        "tool = pd.DataFrame(tool)"
      ],
      "metadata": {
        "id": "XRNqdzb1vrmI"
      },
      "id": "XRNqdzb1vrmI",
      "execution_count": null,
      "outputs": []
    },
    {
      "cell_type": "code",
      "source": [
        "tool[3093:3097]"
      ],
      "metadata": {
        "id": "qrfzXfS-v215"
      },
      "id": "qrfzXfS-v215",
      "execution_count": null,
      "outputs": []
    },
    {
      "cell_type": "code",
      "source": [
        "def remove_space(text:str):\n",
        "  return text.replace(' ', \"\")\n",
        "tool = tool[0].map(remove_space)\n",
        "tool"
      ],
      "metadata": {
        "id": "l4ST611pkyp3"
      },
      "id": "l4ST611pkyp3",
      "execution_count": null,
      "outputs": []
    },
    {
      "cell_type": "code",
      "source": [
        "tool = tool.unique()"
      ],
      "metadata": {
        "id": "sHJfc712wO6Z"
      },
      "id": "sHJfc712wO6Z",
      "execution_count": null,
      "outputs": []
    },
    {
      "cell_type": "code",
      "source": [
        "tool = tool.tolist()"
      ],
      "metadata": {
        "id": "QNlxw92ewF0P"
      },
      "id": "QNlxw92ewF0P",
      "execution_count": null,
      "outputs": []
    },
    {
      "cell_type": "code",
      "source": [
        "tool"
      ],
      "metadata": {
        "id": "TOBLnhqSLdfu"
      },
      "id": "TOBLnhqSLdfu",
      "execution_count": null,
      "outputs": []
    },
    {
      "cell_type": "code",
      "source": [
        "my_dict = {}\n",
        "for i in range(len(tool)):\n",
        "  my_dict[tool[i]] = i"
      ],
      "metadata": {
        "id": "Yw0084iwK72U"
      },
      "id": "Yw0084iwK72U",
      "execution_count": null,
      "outputs": []
    },
    {
      "cell_type": "code",
      "source": [
        "#know2017['bq31'].iloc[2]/\n",
        "\n",
        "def text_to_list(text:str):\n",
        "  return list(text.split(','))\n",
        "\n",
        "know2017['bq31'] = know2017['bq31'].map(text_to_list)"
      ],
      "metadata": {
        "id": "LJVgDP0DI8b5"
      },
      "id": "LJVgDP0DI8b5",
      "execution_count": null,
      "outputs": []
    },
    {
      "cell_type": "code",
      "source": [
        "know2017['bq31'].iloc[2][0]"
      ],
      "metadata": {
        "id": "YsT7sFLiJiYL"
      },
      "id": "YsT7sFLiJiYL",
      "execution_count": null,
      "outputs": []
    },
    {
      "cell_type": "code",
      "source": [
        "def tool_to_label(tools:list):\n",
        "  result = []\n",
        "  for tool in tools:\n",
        "    if tool in my_dict:\n",
        "      result.append(my_dict[tool])\n",
        "    else :\n",
        "      result.append(0)\n",
        "  return result\n",
        "\n",
        "know2017['label1'] = know2017['bq31'].map(tool_to_label)"
      ],
      "metadata": {
        "id": "J0qXKasxJrFa"
      },
      "id": "J0qXKasxJrFa",
      "execution_count": null,
      "outputs": []
    },
    {
      "cell_type": "code",
      "source": [
        "know2017"
      ],
      "metadata": {
        "id": "vqU9t0zK3w5s"
      },
      "id": "vqU9t0zK3w5s",
      "execution_count": null,
      "outputs": []
    },
    {
      "cell_type": "markdown",
      "source": [
        "## 2018 데이터 라벨 인코딩"
      ],
      "metadata": {
        "id": "7bJIjdnCMKMn"
      },
      "id": "7bJIjdnCMKMn"
    },
    {
      "cell_type": "code",
      "source": [
        "know2018 = know_train[1]\n",
        "know2018"
      ],
      "metadata": {
        "id": "KEpfLFfwMMYW"
      },
      "id": "KEpfLFfwMMYW",
      "execution_count": null,
      "outputs": []
    },
    {
      "cell_type": "code",
      "source": [
        "know2018['bq30'] = know2018['bq30'].str.replace(\" \",\"\")\n",
        "know2018['bq30'] = know2018['bq30'].str.replace(\"등\",\"\")\n",
        "know2018['bq30'] = know2018['bq30'].str.replace(\".\",\",\")\n",
        "know2018['bq30'] = know2018['bq30'].str.replace(\"/\",\",\")\n",
        "know2018['bq30'] = know2018['bq30'].str.replace(\"(\",\",\")\n",
        "know2018['bq30'] = know2018['bq30'].str.replace(\")\",\",\")"
      ],
      "metadata": {
        "id": "5xImGyOjpI03"
      },
      "id": "5xImGyOjpI03",
      "execution_count": null,
      "outputs": []
    },
    {
      "cell_type": "code",
      "execution_count": null,
      "id": "1830985e-e8d0-4741-8beb-75132e3bf787",
      "metadata": {
        "id": "1830985e-e8d0-4741-8beb-75132e3bf787"
      },
      "outputs": [],
      "source": [
        "know2018_1 = pd.DataFrame(know2018['bq30'].unique())\n",
        "know2018_1"
      ]
    },
    {
      "cell_type": "code",
      "source": [
        "know2018_1 = know2018_1[0].str.lower()\n",
        "know2018_1 = pd.DataFrame(know2018_1, columns=[0])"
      ],
      "metadata": {
        "id": "L3sP-r_kwwQy"
      },
      "id": "L3sP-r_kwwQy",
      "execution_count": null,
      "outputs": []
    },
    {
      "cell_type": "code",
      "source": [
        "know2018_1"
      ],
      "metadata": {
        "id": "i6GLYgARxY3Q"
      },
      "id": "i6GLYgARxY3Q",
      "execution_count": null,
      "outputs": []
    },
    {
      "cell_type": "code",
      "source": [
        "know2018_1 = know2018_1.values.tolist()"
      ],
      "metadata": {
        "id": "Fl6u_Bb70PTn"
      },
      "id": "Fl6u_Bb70PTn",
      "execution_count": null,
      "outputs": []
    },
    {
      "cell_type": "code",
      "source": [
        "know2018_1"
      ],
      "metadata": {
        "id": "DkS4l5ZJ1yl3"
      },
      "id": "DkS4l5ZJ1yl3",
      "execution_count": null,
      "outputs": []
    },
    {
      "cell_type": "code",
      "source": [
        "tool = []\n",
        "for i in range(0,5627):\n",
        "  tool_1 = know2018_1[i][0].split(',') \n",
        "  tool.append(tool_1)\n",
        "tool"
      ],
      "metadata": {
        "id": "3VZI5WktqGlv"
      },
      "id": "3VZI5WktqGlv",
      "execution_count": null,
      "outputs": []
    },
    {
      "cell_type": "code",
      "source": [
        "tool_2 = []\n",
        "for i in range(len(tool)):\n",
        "  if '' in tool[i] : \n",
        "    tool_1 = tool[i].remove('')\n",
        "    tool_2.append(tool_1)\n",
        "  else :\n",
        "    tool_2.append(tool[i])\n",
        "tool_2"
      ],
      "metadata": {
        "id": "cV5TVE38FcYF"
      },
      "id": "cV5TVE38FcYF",
      "execution_count": null,
      "outputs": []
    },
    {
      "cell_type": "code",
      "source": [
        "tool_2 = list(filter(None,tool_2))\n",
        "tool_2 = sum(tool_2,[])"
      ],
      "metadata": {
        "id": "ifk3xbfDAr3m"
      },
      "id": "ifk3xbfDAr3m",
      "execution_count": null,
      "outputs": []
    },
    {
      "cell_type": "code",
      "source": [
        "tool_2 = pd.DataFrame(tool_2)"
      ],
      "metadata": {
        "id": "d-aK-VJEFu9e"
      },
      "id": "d-aK-VJEFu9e",
      "execution_count": null,
      "outputs": []
    },
    {
      "cell_type": "code",
      "source": [
        "tool_2 = tool_2[0].unique()"
      ],
      "metadata": {
        "id": "cUjMq2OvG-Nt"
      },
      "id": "cUjMq2OvG-Nt",
      "execution_count": null,
      "outputs": []
    },
    {
      "cell_type": "code",
      "source": [
        "tool_2 = tool_2.tolist()"
      ],
      "metadata": {
        "id": "44Rbs16AHI9t"
      },
      "id": "44Rbs16AHI9t",
      "execution_count": null,
      "outputs": []
    },
    {
      "cell_type": "code",
      "source": [
        "tool_2"
      ],
      "metadata": {
        "id": "Y2D1_EspLGBx"
      },
      "id": "Y2D1_EspLGBx",
      "execution_count": null,
      "outputs": []
    },
    {
      "cell_type": "code",
      "source": [
        "my_dict = {}\n",
        "for i in range(len(tool_2)):\n",
        "  my_dict[tool_2[i]] = i"
      ],
      "metadata": {
        "id": "iTytjbXmGmH-"
      },
      "id": "iTytjbXmGmH-",
      "execution_count": null,
      "outputs": []
    },
    {
      "cell_type": "code",
      "source": [
        "def text_to_list(text:str):\n",
        "  return list(text.split(','))\n",
        "\n",
        "know2018['bq30'] = know2018['bq30'].map(text_to_list)"
      ],
      "metadata": {
        "id": "EF_Nn6L9Ly39"
      },
      "id": "EF_Nn6L9Ly39",
      "execution_count": null,
      "outputs": []
    },
    {
      "cell_type": "code",
      "source": [
        "know2018['bq30']"
      ],
      "metadata": {
        "id": "cnGUyPiLIrmY"
      },
      "id": "cnGUyPiLIrmY",
      "execution_count": null,
      "outputs": []
    },
    {
      "cell_type": "code",
      "source": [
        "def tool_to_label(tools:list):\n",
        "  result = []\n",
        "  for tool in tools:\n",
        "    if tool in my_dict:\n",
        "      result.append(my_dict[tool])\n",
        "    else :\n",
        "      result.append(0)\n",
        "  return result\n",
        "\n",
        "know2018['label1'] = know2018['bq30'].map(tool_to_label)"
      ],
      "metadata": {
        "id": "SbANPb18F-CN"
      },
      "id": "SbANPb18F-CN",
      "execution_count": null,
      "outputs": []
    },
    {
      "cell_type": "code",
      "source": [
        "know2018"
      ],
      "metadata": {
        "id": "CpfaCHJPHvZF"
      },
      "id": "CpfaCHJPHvZF",
      "execution_count": null,
      "outputs": []
    },
    {
      "cell_type": "markdown",
      "source": [
        "## 2019 라벨 인코딩"
      ],
      "metadata": {
        "id": "Zu9mlROHPgpT"
      },
      "id": "Zu9mlROHPgpT"
    },
    {
      "cell_type": "code",
      "source": [
        "know2019 = know_train[2]\n",
        "know2019"
      ],
      "metadata": {
        "id": "Iqn31RSiO6nm"
      },
      "id": "Iqn31RSiO6nm",
      "execution_count": null,
      "outputs": []
    },
    {
      "cell_type": "markdown",
      "source": [
        "## 2020 라벨 인코딩"
      ],
      "metadata": {
        "id": "ss2MqK9YQmDQ"
      },
      "id": "ss2MqK9YQmDQ"
    },
    {
      "cell_type": "code",
      "source": [
        "know2020 = know_train[3]\n",
        "know2020"
      ],
      "metadata": {
        "id": "ydNBLQKWMGVM"
      },
      "id": "ydNBLQKWMGVM",
      "execution_count": null,
      "outputs": []
    },
    {
      "cell_type": "markdown",
      "source": [
        "## 2017 데이터 셀"
      ],
      "metadata": {
        "id": "lXnHAHNOU3H5"
      },
      "id": "lXnHAHNOU3H5"
    },
    {
      "cell_type": "code",
      "source": [
        "know2017"
      ],
      "metadata": {
        "id": "U-FAHuwHU1bb"
      },
      "id": "U-FAHuwHU1bb",
      "execution_count": null,
      "outputs": []
    },
    {
      "cell_type": "markdown",
      "source": [
        "## 2018 데이터 셀"
      ],
      "metadata": {
        "id": "Yf8TqciXavV8"
      },
      "id": "Yf8TqciXavV8"
    },
    {
      "cell_type": "code",
      "source": [
        "know2018 = know_train[1]"
      ],
      "metadata": {
        "id": "kCy1qZ_LjiUb"
      },
      "id": "kCy1qZ_LjiUb",
      "execution_count": null,
      "outputs": []
    },
    {
      "cell_type": "code",
      "source": [
        "know2018"
      ],
      "metadata": {
        "id": "NoX4Z1TgUwLg"
      },
      "id": "NoX4Z1TgUwLg",
      "execution_count": null,
      "outputs": []
    },
    {
      "cell_type": "code",
      "source": [
        "# 날려야하나?\n",
        "know2018[(know2018['bq37_1'] =='색채심리상담사')]"
      ],
      "metadata": {
        "id": "6Ay413Trf_j2"
      },
      "id": "6Ay413Trf_j2",
      "execution_count": null,
      "outputs": []
    },
    {
      "cell_type": "code",
      "source": [
        "know2018['bq37'].unique()"
      ],
      "metadata": {
        "id": "gDG9Qv1cbP5P"
      },
      "id": "gDG9Qv1cbP5P",
      "execution_count": null,
      "outputs": []
    },
    {
      "cell_type": "code",
      "source": [
        "trans2018 = know2018[(know2018['bq37'] !='1')\n",
        "&(know2018['bq37'] !='2')\n",
        "&(know2018['bq37'] !='3')\n",
        "&(know2018['bq37'] !='4')\n",
        "&(know2018['bq37'] !='5')\n",
        "&(know2018['bq37'] !='6')]"
      ],
      "metadata": {
        "id": "1rQM_e1TeIBC"
      },
      "id": "1rQM_e1TeIBC",
      "execution_count": null,
      "outputs": []
    },
    {
      "cell_type": "code",
      "source": [
        "wrong_index = know2018[(know2018['bq37'] !='1')\n",
        "&(know2018['bq37'] !='2')\n",
        "&(know2018['bq37'] !='3')\n",
        "&(know2018['bq37'] !='4')\n",
        "&(know2018['bq37'] !='5')\n",
        "&(know2018['bq37'] !='6')].index\n",
        "\n",
        "wrong_index"
      ],
      "metadata": {
        "id": "jOWkAGXngCU6"
      },
      "id": "jOWkAGXngCU6",
      "execution_count": null,
      "outputs": []
    },
    {
      "cell_type": "code",
      "source": [
        "know2018=know2018.drop(wrong_index)\n",
        "know2018[(know2018['bq37'] == '전자전기학')]"
      ],
      "metadata": {
        "id": "4zljvufLgeQO"
      },
      "id": "4zljvufLgeQO",
      "execution_count": null,
      "outputs": []
    },
    {
      "cell_type": "code",
      "source": [
        "trans2018.rename(columns={'bq37_1':'bq37-1'},inplace=True)\n",
        "trans2018.rename(columns={'bq37':'bq37_1'},inplace=True)\n",
        "trans2018.rename(columns={'bq37-1':'bq37'},inplace=True)\n",
        "trans2018"
      ],
      "metadata": {
        "id": "udvgHwcShLar"
      },
      "id": "udvgHwcShLar",
      "execution_count": null,
      "outputs": []
    },
    {
      "cell_type": "code",
      "source": [
        "know2018 = pd.concat([know2018,trans2018])\n",
        "know2018"
      ],
      "metadata": {
        "id": "HeF5wLtycMah"
      },
      "id": "HeF5wLtycMah",
      "execution_count": null,
      "outputs": []
    },
    {
      "cell_type": "code",
      "source": [
        "know2018['bq37'].unique()"
      ],
      "metadata": {
        "id": "zYwx18gibY3q"
      },
      "id": "zYwx18gibY3q",
      "execution_count": null,
      "outputs": []
    },
    {
      "cell_type": "code",
      "source": [
        "know2018[(know2018['bq37'] == '색채심리상담사')]"
      ],
      "metadata": {
        "id": "hAS9kD5CjUO7"
      },
      "id": "hAS9kD5CjUO7",
      "execution_count": null,
      "outputs": []
    },
    {
      "cell_type": "markdown",
      "source": [
        "## 2019 데이터 셀"
      ],
      "metadata": {
        "id": "3PqABu5fa7IK"
      },
      "id": "3PqABu5fa7IK"
    },
    {
      "cell_type": "code",
      "source": [
        "know2019 = know_train[2]\n",
        "know2019"
      ],
      "metadata": {
        "id": "Qv8_zYcOa6kZ"
      },
      "id": "Qv8_zYcOa6kZ",
      "execution_count": null,
      "outputs": []
    },
    {
      "cell_type": "code",
      "source": [
        "know2019['bq27'].unique()"
      ],
      "metadata": {
        "id": "_iNo1hvyLi-8"
      },
      "id": "_iNo1hvyLi-8",
      "execution_count": null,
      "outputs": []
    },
    {
      "cell_type": "code",
      "source": [
        "result = []\n",
        "for num in know2019['bq27']:\n",
        "  for i in num:\n",
        "    try :\n",
        "      int(num)\n",
        "      continue\n",
        "    except:\n",
        "      result.append(num)"
      ],
      "metadata": {
        "id": "nEoP_O2KkQ8o"
      },
      "id": "nEoP_O2KkQ8o",
      "execution_count": null,
      "outputs": []
    },
    {
      "cell_type": "code",
      "source": [
        "trans2019 = know2019[(know2019['bq27'] !='1')\n",
        "&(know2019['bq27'] !='2')\n",
        "&(know2019['bq27'] !='3')\n",
        "&(know2019['bq27'] !='4')\n",
        "&(know2019['bq27'] !='5')\n",
        "&(know2019['bq27'] !='6')\n",
        "&(know2019['bq27'] != 1)\n",
        "&(know2019['bq27'] != 2)\n",
        "&(know2019['bq27'] != 3)\n",
        "&(know2019['bq27'] != 4)\n",
        "&(know2019['bq27'] != 5)\n",
        "&(know2019['bq27'] != 6)]"
      ],
      "metadata": {
        "id": "y74LaYzHMNdx"
      },
      "id": "y74LaYzHMNdx",
      "execution_count": null,
      "outputs": []
    },
    {
      "cell_type": "code",
      "source": [
        "wrong_index = know2019[(know2019['bq27'] !='1')\n",
        "&(know2019['bq27'] !='2')\n",
        "&(know2019['bq27'] !='3')\n",
        "&(know2019['bq27'] !='4')\n",
        "&(know2019['bq27'] !='5')\n",
        "&(know2019['bq27'] !='6')\n",
        "&(know2019['bq27'] != 1)\n",
        "&(know2019['bq27'] != 2)\n",
        "&(know2019['bq27'] != 3)\n",
        "&(know2019['bq27'] != 4)\n",
        "&(know2019['bq27'] != 5)\n",
        "&(know2019['bq27'] != 6)].index\n",
        "\n",
        "wrong_index"
      ],
      "metadata": {
        "id": "5T_wWF0UMdAE"
      },
      "id": "5T_wWF0UMdAE",
      "execution_count": null,
      "outputs": []
    },
    {
      "cell_type": "code",
      "source": [
        "know2019 = know2019.drop(wrong_index)\n",
        "know2019[(know2019['bq27'] == '방사선과')]"
      ],
      "metadata": {
        "id": "gvBFtSilMn8H"
      },
      "id": "gvBFtSilMn8H",
      "execution_count": null,
      "outputs": []
    },
    {
      "cell_type": "code",
      "source": [
        "trans2019"
      ],
      "metadata": {
        "id": "C-pPrbGAOcrg"
      },
      "id": "C-pPrbGAOcrg",
      "execution_count": null,
      "outputs": []
    },
    {
      "cell_type": "code",
      "source": [
        "trans2019.rename(columns={'bq27_1':'bq27-1'},inplace=True)\n",
        "trans2019.rename(columns={'bq27':'bq27_1'},inplace=True)\n",
        "trans2019.rename(columns={'bq27-1':'bq27'},inplace=True)\n",
        "trans2019"
      ],
      "metadata": {
        "id": "_lNNV8czMxGG"
      },
      "id": "_lNNV8czMxGG",
      "execution_count": null,
      "outputs": []
    },
    {
      "cell_type": "code",
      "source": [
        "know2019 = pd.concat([know2019,trans2019])\n",
        "know2019"
      ],
      "metadata": {
        "id": "I-Cca1z1NAj7"
      },
      "id": "I-Cca1z1NAj7",
      "execution_count": null,
      "outputs": []
    },
    {
      "cell_type": "code",
      "source": [
        "know2019['bq27'].unique()"
      ],
      "metadata": {
        "id": "JQjluHIONHq8"
      },
      "id": "JQjluHIONHq8",
      "execution_count": null,
      "outputs": []
    },
    {
      "cell_type": "code",
      "source": [
        "know2019['bq27_1'].unique()"
      ],
      "metadata": {
        "id": "lYpFnffzOwlh"
      },
      "id": "lYpFnffzOwlh",
      "execution_count": null,
      "outputs": []
    },
    {
      "cell_type": "markdown",
      "source": [
        "##### NaN값 확인"
      ],
      "metadata": {
        "id": "AsAOJHPkPXZR"
      },
      "id": "AsAOJHPkPXZR"
    },
    {
      "cell_type": "code",
      "source": [
        "know2019[know2019['bq27'].isnull()]"
      ],
      "metadata": {
        "id": "sELnlwH4O5hK"
      },
      "id": "sELnlwH4O5hK",
      "execution_count": null,
      "outputs": []
    },
    {
      "cell_type": "markdown",
      "source": [
        "## 전공 라벨 인코딩\n",
        "\n",
        "\n",
        "---\n",
        "\n",
        "\n",
        "2017 > bq38_1  \n",
        "2018 > bq37_1  \n",
        "2019 > bq_27_1  \n",
        "2020 > bq_26_1  "
      ],
      "metadata": {
        "id": "ruOOU4PjUTMV"
      },
      "id": "ruOOU4PjUTMV"
    },
    {
      "cell_type": "code",
      "source": [
        "major2017 = know2017['bq38_1']\n",
        "major2017"
      ],
      "metadata": {
        "id": "TTIOB86CUS2z"
      },
      "id": "TTIOB86CUS2z",
      "execution_count": null,
      "outputs": []
    },
    {
      "cell_type": "code",
      "source": [
        "major2017 = major2017.values.tolist()"
      ],
      "metadata": {
        "id": "tOxsrI7SX9Fi"
      },
      "id": "tOxsrI7SX9Fi",
      "execution_count": null,
      "outputs": []
    },
    {
      "cell_type": "code",
      "source": [
        "major2017"
      ],
      "metadata": {
        "id": "R1dbPD6rYfG0"
      },
      "id": "R1dbPD6rYfG0",
      "execution_count": null,
      "outputs": []
    },
    {
      "cell_type": "code",
      "source": [
        "major2018 = know2018['bq37_1']\n",
        "major2018 = major2018.values.tolist()\n",
        "major2018"
      ],
      "metadata": {
        "id": "h-ueXg3mYjSe"
      },
      "id": "h-ueXg3mYjSe",
      "execution_count": null,
      "outputs": []
    },
    {
      "cell_type": "code",
      "source": [
        "major2019 = know2019['bq27_1']\n",
        "major2019 = major2019.values.tolist()\n",
        "major2019"
      ],
      "metadata": {
        "id": "J5qUhutFY0HR"
      },
      "id": "J5qUhutFY0HR",
      "execution_count": null,
      "outputs": []
    },
    {
      "cell_type": "code",
      "source": [
        "\n",
        "\n",
        "\n",
        "\n",
        "\n",
        "\n",
        "major2020 = know2020['bq26_1']\n",
        "major2020 = major2020.values.tolist()\n",
        "major2020"
      ],
      "metadata": {
        "id": "4Heam8r0ZHOV"
      },
      "id": "4Heam8r0ZHOV",
      "execution_count": null,
      "outputs": []
    },
    {
      "cell_type": "markdown",
      "source": [
        "##### 전공 중복 제거"
      ],
      "metadata": {
        "id": "W4U5mAdfaDzB"
      },
      "id": "W4U5mAdfaDzB"
    },
    {
      "cell_type": "code",
      "source": [
        "major = major2017 + major2018 + major2019 + major2020"
      ],
      "metadata": {
        "id": "uLpewRPnbbmI"
      },
      "id": "uLpewRPnbbmI",
      "execution_count": null,
      "outputs": []
    },
    {
      "cell_type": "code",
      "source": [
        "major = list(set(major))"
      ],
      "metadata": {
        "id": "wUt8fUB5aDmN"
      },
      "id": "wUt8fUB5aDmN",
      "execution_count": null,
      "outputs": []
    },
    {
      "cell_type": "code",
      "source": [
        "major = pd.DataFrame(major)\n",
        "major"
      ],
      "metadata": {
        "id": "NUeEtpo1bWp8"
      },
      "id": "NUeEtpo1bWp8",
      "execution_count": null,
      "outputs": []
    },
    {
      "cell_type": "code",
      "source": [
        "major[0] = major[0].dropna()"
      ],
      "metadata": {
        "id": "MHtFnaMW22Q0"
      },
      "id": "MHtFnaMW22Q0",
      "execution_count": null,
      "outputs": []
    },
    {
      "cell_type": "code",
      "source": [
        "major[0] = major[major[0].astype(bool)]   "
      ],
      "metadata": {
        "id": "jCSC1Wjf5qFs"
      },
      "id": "jCSC1Wjf5qFs",
      "execution_count": null,
      "outputs": []
    },
    {
      "cell_type": "code",
      "source": [
        "major[0].isnull().sum()"
      ],
      "metadata": {
        "id": "trpdK7WN6w68"
      },
      "id": "trpdK7WN6w68",
      "execution_count": null,
      "outputs": []
    },
    {
      "cell_type": "code",
      "source": [
        "major = major[major[0].notnull()]"
      ],
      "metadata": {
        "id": "p8wZQ1ha7mrk"
      },
      "id": "p8wZQ1ha7mrk",
      "execution_count": null,
      "outputs": []
    },
    {
      "cell_type": "code",
      "source": [
        "major"
      ],
      "metadata": {
        "id": "h_NLTtMi7rf6"
      },
      "id": "h_NLTtMi7rf6",
      "execution_count": null,
      "outputs": []
    },
    {
      "cell_type": "code",
      "source": [
        "major"
      ],
      "metadata": {
        "id": "obTxjocb65NN"
      },
      "id": "obTxjocb65NN",
      "execution_count": null,
      "outputs": []
    },
    {
      "cell_type": "code",
      "source": [
        "major[major[0].map(len) == 0]"
      ],
      "metadata": {
        "id": "Ak9aa6Gr8D1v"
      },
      "id": "Ak9aa6Gr8D1v",
      "execution_count": null,
      "outputs": []
    },
    {
      "cell_type": "code",
      "source": [
        "len('이')"
      ],
      "metadata": {
        "id": "RuwjRAOu8MxX"
      },
      "id": "RuwjRAOu8MxX",
      "execution_count": null,
      "outputs": []
    },
    {
      "cell_type": "code",
      "source": [
        "for i in range(0,len(major[0])):\n",
        "  if len(major.iloc[i][0]) == 1: #major[0][i].str.len() == 1 :\n",
        "    major.loc[i,0] = major.iloc[i][0] + '과'"
      ],
      "metadata": {
        "id": "oCgSQQfjmI5P"
      },
      "id": "oCgSQQfjmI5P",
      "execution_count": 313,
      "outputs": []
    },
    {
      "cell_type": "code",
      "source": [
        "major[major[0].map(len) == 1]"
      ],
      "metadata": {
        "colab": {
          "base_uri": "https://localhost:8080/",
          "height": 394
        },
        "id": "C0QJTJJF8_hN",
        "outputId": "a63f78e4-5485-4b8d-a372-6ea4ccf79495"
      },
      "id": "C0QJTJJF8_hN",
      "execution_count": 314,
      "outputs": [
        {
          "output_type": "execute_result",
          "data": {
            "text/html": [
              "\n",
              "  <div id=\"df-e8d582da-998d-4358-86fd-4588e086b2d1\">\n",
              "    <div class=\"colab-df-container\">\n",
              "      <div>\n",
              "<style scoped>\n",
              "    .dataframe tbody tr th:only-of-type {\n",
              "        vertical-align: middle;\n",
              "    }\n",
              "\n",
              "    .dataframe tbody tr th {\n",
              "        vertical-align: top;\n",
              "    }\n",
              "\n",
              "    .dataframe thead th {\n",
              "        text-align: right;\n",
              "    }\n",
              "</style>\n",
              "<table border=\"1\" class=\"dataframe\">\n",
              "  <thead>\n",
              "    <tr style=\"text-align: right;\">\n",
              "      <th></th>\n",
              "      <th>0</th>\n",
              "    </tr>\n",
              "  </thead>\n",
              "  <tbody>\n",
              "    <tr>\n",
              "      <th>147</th>\n",
              "      <td>농</td>\n",
              "    </tr>\n",
              "    <tr>\n",
              "      <th>323</th>\n",
              "      <td>약</td>\n",
              "    </tr>\n",
              "    <tr>\n",
              "      <th>810</th>\n",
              "      <td>외</td>\n",
              "    </tr>\n",
              "    <tr>\n",
              "      <th>913</th>\n",
              "      <td></td>\n",
              "    </tr>\n",
              "    <tr>\n",
              "      <th>1197</th>\n",
              "      <td>상</td>\n",
              "    </tr>\n",
              "    <tr>\n",
              "      <th>1308</th>\n",
              "      <td>문</td>\n",
              "    </tr>\n",
              "    <tr>\n",
              "      <th>1937</th>\n",
              "      <td>이</td>\n",
              "    </tr>\n",
              "    <tr>\n",
              "      <th>2741</th>\n",
              "      <td>2</td>\n",
              "    </tr>\n",
              "    <tr>\n",
              "      <th>3377</th>\n",
              "      <td>법</td>\n",
              "    </tr>\n",
              "    <tr>\n",
              "      <th>3465</th>\n",
              "      <td>공</td>\n",
              "    </tr>\n",
              "    <tr>\n",
              "      <th>3741</th>\n",
              "      <td>의</td>\n",
              "    </tr>\n",
              "  </tbody>\n",
              "</table>\n",
              "</div>\n",
              "      <button class=\"colab-df-convert\" onclick=\"convertToInteractive('df-e8d582da-998d-4358-86fd-4588e086b2d1')\"\n",
              "              title=\"Convert this dataframe to an interactive table.\"\n",
              "              style=\"display:none;\">\n",
              "        \n",
              "  <svg xmlns=\"http://www.w3.org/2000/svg\" height=\"24px\"viewBox=\"0 0 24 24\"\n",
              "       width=\"24px\">\n",
              "    <path d=\"M0 0h24v24H0V0z\" fill=\"none\"/>\n",
              "    <path d=\"M18.56 5.44l.94 2.06.94-2.06 2.06-.94-2.06-.94-.94-2.06-.94 2.06-2.06.94zm-11 1L8.5 8.5l.94-2.06 2.06-.94-2.06-.94L8.5 2.5l-.94 2.06-2.06.94zm10 10l.94 2.06.94-2.06 2.06-.94-2.06-.94-.94-2.06-.94 2.06-2.06.94z\"/><path d=\"M17.41 7.96l-1.37-1.37c-.4-.4-.92-.59-1.43-.59-.52 0-1.04.2-1.43.59L10.3 9.45l-7.72 7.72c-.78.78-.78 2.05 0 2.83L4 21.41c.39.39.9.59 1.41.59.51 0 1.02-.2 1.41-.59l7.78-7.78 2.81-2.81c.8-.78.8-2.07 0-2.86zM5.41 20L4 18.59l7.72-7.72 1.47 1.35L5.41 20z\"/>\n",
              "  </svg>\n",
              "      </button>\n",
              "      \n",
              "  <style>\n",
              "    .colab-df-container {\n",
              "      display:flex;\n",
              "      flex-wrap:wrap;\n",
              "      gap: 12px;\n",
              "    }\n",
              "\n",
              "    .colab-df-convert {\n",
              "      background-color: #E8F0FE;\n",
              "      border: none;\n",
              "      border-radius: 50%;\n",
              "      cursor: pointer;\n",
              "      display: none;\n",
              "      fill: #1967D2;\n",
              "      height: 32px;\n",
              "      padding: 0 0 0 0;\n",
              "      width: 32px;\n",
              "    }\n",
              "\n",
              "    .colab-df-convert:hover {\n",
              "      background-color: #E2EBFA;\n",
              "      box-shadow: 0px 1px 2px rgba(60, 64, 67, 0.3), 0px 1px 3px 1px rgba(60, 64, 67, 0.15);\n",
              "      fill: #174EA6;\n",
              "    }\n",
              "\n",
              "    [theme=dark] .colab-df-convert {\n",
              "      background-color: #3B4455;\n",
              "      fill: #D2E3FC;\n",
              "    }\n",
              "\n",
              "    [theme=dark] .colab-df-convert:hover {\n",
              "      background-color: #434B5C;\n",
              "      box-shadow: 0px 1px 3px 1px rgba(0, 0, 0, 0.15);\n",
              "      filter: drop-shadow(0px 1px 2px rgba(0, 0, 0, 0.3));\n",
              "      fill: #FFFFFF;\n",
              "    }\n",
              "  </style>\n",
              "\n",
              "      <script>\n",
              "        const buttonEl =\n",
              "          document.querySelector('#df-e8d582da-998d-4358-86fd-4588e086b2d1 button.colab-df-convert');\n",
              "        buttonEl.style.display =\n",
              "          google.colab.kernel.accessAllowed ? 'block' : 'none';\n",
              "\n",
              "        async function convertToInteractive(key) {\n",
              "          const element = document.querySelector('#df-e8d582da-998d-4358-86fd-4588e086b2d1');\n",
              "          const dataTable =\n",
              "            await google.colab.kernel.invokeFunction('convertToInteractive',\n",
              "                                                     [key], {});\n",
              "          if (!dataTable) return;\n",
              "\n",
              "          const docLinkHtml = 'Like what you see? Visit the ' +\n",
              "            '<a target=\"_blank\" href=https://colab.research.google.com/notebooks/data_table.ipynb>data table notebook</a>'\n",
              "            + ' to learn more about interactive tables.';\n",
              "          element.innerHTML = '';\n",
              "          dataTable['output_type'] = 'display_data';\n",
              "          await google.colab.output.renderOutput(dataTable, element);\n",
              "          const docLink = document.createElement('div');\n",
              "          docLink.innerHTML = docLinkHtml;\n",
              "          element.appendChild(docLink);\n",
              "        }\n",
              "      </script>\n",
              "    </div>\n",
              "  </div>\n",
              "  "
            ],
            "text/plain": [
              "      0\n",
              "147   농\n",
              "323   약\n",
              "810   외\n",
              "913    \n",
              "1197  상\n",
              "1308  문\n",
              "1937  이\n",
              "2741  2\n",
              "3377  법\n",
              "3465  공\n",
              "3741  의"
            ]
          },
          "metadata": {},
          "execution_count": 314
        }
      ]
    },
    {
      "cell_type": "code",
      "source": [
        "len(major[0]) == 0 "
      ],
      "metadata": {
        "id": "jlCoa1H44jRe"
      },
      "id": "jlCoa1H44jRe",
      "execution_count": null,
      "outputs": []
    },
    {
      "cell_type": "code",
      "source": [
        "major[0][147] = major[0][147] + '과'\n",
        "major[0][147]"
      ],
      "metadata": {
        "id": "sE7TIZUl2Zam"
      },
      "id": "sE7TIZUl2Zam",
      "execution_count": null,
      "outputs": []
    },
    {
      "cell_type": "code",
      "source": [
        "if len(major[0])==1:\n",
        "  major[0]+'과'\n",
        "return b"
      ],
      "metadata": {
        "id": "v5ghNB_lpyyc"
      },
      "id": "v5ghNB_lpyyc",
      "execution_count": null,
      "outputs": []
    },
    {
      "cell_type": "code",
      "source": [
        "mask = major[0].str.len() == 0\n",
        "b = major.loc[mask] + '과'\n",
        "major[0].combine(major, a[0])"
      ],
      "metadata": {
        "id": "N_KBxvuQzXMk"
      },
      "id": "N_KBxvuQzXMk",
      "execution_count": null,
      "outputs": []
    },
    {
      "cell_type": "code",
      "source": [
        "mask=major[0].str.len()==1\n",
        "major.loc[mask]"
      ],
      "metadata": {
        "id": "r3oUrKGZZQiF"
      },
      "id": "r3oUrKGZZQiF",
      "execution_count": null,
      "outputs": []
    },
    {
      "cell_type": "code",
      "source": [
        "a=a+'과'"
      ],
      "metadata": {
        "id": "YiBMDlqVfKRE"
      },
      "id": "YiBMDlqVfKRE",
      "execution_count": null,
      "outputs": []
    },
    {
      "cell_type": "code",
      "source": [
        "a"
      ],
      "metadata": {
        "id": "zb0luqtAokz-"
      },
      "id": "zb0luqtAokz-",
      "execution_count": null,
      "outputs": []
    }
  ],
  "metadata": {
    "kernelspec": {
      "display_name": "moonjong",
      "language": "python",
      "name": "moonjong"
    },
    "language_info": {
      "codemirror_mode": {
        "name": "ipython",
        "version": 3
      },
      "file_extension": ".py",
      "mimetype": "text/x-python",
      "name": "python",
      "nbconvert_exporter": "python",
      "pygments_lexer": "ipython3",
      "version": "3.8.12"
    },
    "colab": {
      "name": "20220104_hj_know.ipynb",
      "provenance": [],
      "collapsed_sections": [],
      "include_colab_link": true
    }
  },
  "nbformat": 4,
  "nbformat_minor": 5
}